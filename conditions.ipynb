{
 "cells": [
  {
   "cell_type": "code",
   "execution_count": 10,
   "metadata": {},
   "outputs": [
    {
     "name": "stdout",
     "output_type": "stream",
     "text": [
      "Grade is A\n",
      "Grade is B\n"
     ]
    }
   ],
   "source": [
    "# if condition\n",
    "\n",
    "marks=80\n",
    "if marks>=90:\n",
    "    print(\"Grade is A+\")\n",
    "if marks>=70:\n",
    "    print(\"Grade is A\")\n",
    "if marks>=60:\n",
    "    print(\"Grade is B\")\n",
    "if marks<60:\n",
    "    print(\"Poor Performance\") \n",
    "                "
   ]
  },
  {
   "cell_type": "code",
   "execution_count": 12,
   "metadata": {},
   "outputs": [
    {
     "name": "stdout",
     "output_type": "stream",
     "text": [
      "Grade is A\n"
     ]
    }
   ],
   "source": [
    "# elif condition\n",
    "\n",
    "marks=80\n",
    "if marks>=90:\n",
    "    print(\"Grade is A+\")\n",
    "elif marks>=70:\n",
    "    print(\"Grade is A\")\n",
    "elif marks>=60:\n",
    "    print(\"Grade is B\")\n",
    "elif marks<60:\n",
    "    print(\"Poor Performance\")\n",
    "else: \n",
    "    print(\"Invalid marks\")    \n",
    "                "
   ]
  },
  {
   "cell_type": "code",
   "execution_count": 2,
   "metadata": {},
   "outputs": [
    {
     "name": "stdout",
     "output_type": "stream",
     "text": [
      "Not elligible to vote\n"
     ]
    }
   ],
   "source": [
    "# if else\n",
    "\n",
    "age=int(input(\"Enter your age\"))\n",
    "if age>=18:\n",
    "    print(\"Eligible to vote\")\n",
    "else:\n",
    "    print(\"Not elligible to vote\")    "
   ]
  },
  {
   "cell_type": "code",
   "execution_count": 4,
   "metadata": {},
   "outputs": [
    {
     "name": "stdout",
     "output_type": "stream",
     "text": [
      "It is a vowel\n"
     ]
    }
   ],
   "source": [
    "# enter a character fom user and check whether it is vowel or not\n",
    "\n",
    "# MEATHOD 1\n",
    "\n",
    "ch =input(\"Enter a character\")\n",
    "vowel=\"aeiou\" #or [\"a\",\"e\",\"i\",\"o\",\"u\"] or (\"a\",\"e\",\"i\",\"o\",\"u\")\n",
    "if ch in vowel:\n",
    "    print(\"It is a vowel\")\n",
    "else:\n",
    "    print(\"It is not a vowel\")    "
   ]
  },
  {
   "cell_type": "code",
   "execution_count": 5,
   "metadata": {},
   "outputs": [
    {
     "name": "stdout",
     "output_type": "stream",
     "text": [
      "It is not a vowel\n"
     ]
    }
   ],
   "source": [
    "# MEATHOD 2\n",
    "\n",
    "ch=input(\"Enter a character\")\n",
    "if ch==\"a\" or ch==\"e\" or ch==\"i\" or ch==\"o\" or ch==\"u\":\n",
    "    print(\"It is a vowel\")\n",
    "else:\n",
    "    print(\"It is not a vowel\")    "
   ]
  },
  {
   "cell_type": "code",
   "execution_count": 10,
   "metadata": {},
   "outputs": [
    {
     "name": "stdout",
     "output_type": "stream",
     "text": [
      "Equilateral Traingle\n"
     ]
    }
   ],
   "source": [
    "# Enter sides of traingle and check whether it is Equilateral and Isoceles\n",
    "\n",
    "side1=int(input(\"Enter the side 1 of a traingle\"))\n",
    "side2=int(input(\"Enter the side 2 of a traingle\"))\n",
    "side3=int(input(\"Enter the side 3 of a traingle\"))\n",
    "if side1 == side2 == side3:\n",
    "    print(\"Equilateral Traingle\")\n",
    "elif side1==side2 or side2==side3 or side3==side1:\n",
    "    print(\"Isosceles Traingle\")\n",
    "else :\n",
    "    print(\"Invalid Triangle\")         \n",
    "\n",
    "         "
   ]
  },
  {
   "cell_type": "code",
   "execution_count": 14,
   "metadata": {},
   "outputs": [
    {
     "name": "stdout",
     "output_type": "stream",
     "text": [
      "Registration Sucessful ✅\n",
      "username faizan9\n"
     ]
    }
   ],
   "source": [
    "# login system\n",
    "\n",
    "username=input(\"Enter a username\")\n",
    "email= input(\"Enter Email\")\n",
    "password=input(\"Enter your password\")\n",
    "cpassword=input(\"Conirm you passord\")\n",
    "if len(username)>5 and len(username)<15:\n",
    "    if \"@\" in email:\n",
    "        if len(password)>5 and len(password)<15:\n",
    "            if password==cpassword:\n",
    "                print(\"Registration Sucessful ✅\") # Window + \"DOT key\" for Emoji\n",
    "                #print(\"username\",username)\n",
    "                #print(\"email\",email)\n",
    "                #print(\"password\",password)\n",
    "            else:\n",
    "                print(\"Password do not match\")\n",
    "        else:\n",
    "            print(\"Password is incorrect\")\n",
    "    else:\n",
    "        print(\"Invalid Email\")\n",
    "else:\n",
    "    print(\"Invalid Username\")                            "
   ]
  },
  {
   "cell_type": "code",
   "execution_count": null,
   "metadata": {},
   "outputs": [],
   "source": []
  }
 ],
 "metadata": {
  "kernelspec": {
   "display_name": "base",
   "language": "python",
   "name": "python3"
  },
  "language_info": {
   "codemirror_mode": {
    "name": "ipython",
    "version": 3
   },
   "file_extension": ".py",
   "mimetype": "text/x-python",
   "name": "python",
   "nbconvert_exporter": "python",
   "pygments_lexer": "ipython3",
   "version": "3.12.4"
  }
 },
 "nbformat": 4,
 "nbformat_minor": 2
}
