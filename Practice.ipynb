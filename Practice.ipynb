{
 "cells": [
  {
   "cell_type": "code",
   "execution_count": null,
   "metadata": {},
   "outputs": [],
   "source": [
    "#1 - Write a program to print cube pf 9\n",
    "#2 - Write a program to calculate the area of a circle\n",
    "#3 - Calculate the gross salary of an employee where the basic salary is 80000, HR is 10% of basic salary and DA is 5% of basic salary."
   ]
  },
  {
   "cell_type": "code",
   "execution_count": 2,
   "metadata": {},
   "outputs": [
    {
     "name": "stdout",
     "output_type": "stream",
     "text": [
      "729\n"
     ]
    }
   ],
   "source": [
    "a=9\n",
    "a=a**3\n",
    "print(a)"
   ]
  },
  {
   "cell_type": "code",
   "execution_count": 5,
   "metadata": {},
   "outputs": [
    {
     "name": "stdout",
     "output_type": "stream",
     "text": [
      "Area of circle is 50.24\n"
     ]
    }
   ],
   "source": [
    "pie=3.14\n",
    "r=int(input(\"Enter the radious\"))\n",
    "Area=pie*(r**2)\n",
    "print(\"Area of circle is\",Area)"
   ]
  },
  {
   "cell_type": "code",
   "execution_count": 3,
   "metadata": {},
   "outputs": [
    {
     "name": "stdout",
     "output_type": "stream",
     "text": [
      "Basic Salary : 80000\n",
      "House Rent Allowance (HRA): 8000.0\n",
      "Dearness Allowance (DA): 4000.0\n",
      "Gross Salary: 92000.0\n"
     ]
    }
   ],
   "source": [
    "basicsalary = 80000\n",
    "\n",
    "hra = 0.10 * basicsalary\n",
    "\n",
    "da = 0.05 * basicsalary\n",
    "\n",
    "grosssalary = basicsalary + hra + da\n",
    "\n",
    "print(\"Basic Salary : 80000\")\n",
    "print(\"House Rent Allowance (HRA):\",hra)\n",
    "print(\"Dearness Allowance (DA):\",da)\n",
    "print(\"Gross Salary:\",grosssalary)\n"
   ]
  }
 ],
 "metadata": {
  "kernelspec": {
   "display_name": "base",
   "language": "python",
   "name": "python3"
  },
  "language_info": {
   "codemirror_mode": {
    "name": "ipython",
    "version": 3
   },
   "file_extension": ".py",
   "mimetype": "text/x-python",
   "name": "python",
   "nbconvert_exporter": "python",
   "pygments_lexer": "ipython3",
   "version": "3.12.4"
  }
 },
 "nbformat": 4,
 "nbformat_minor": 2
}
