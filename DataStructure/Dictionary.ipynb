{
 "cells": [
  {
   "cell_type": "markdown",
   "metadata": {},
   "source": [
    "DICTIONARY\n",
    "\n",
    "- How to declare it \n",
    "- How to access key and values of a dictionary\n",
    "- How to use loops in dictionary\n",
    "- indexing in dictionary"
   ]
  },
  {
   "cell_type": "code",
   "execution_count": 1,
   "metadata": {},
   "outputs": [
    {
     "name": "stdout",
     "output_type": "stream",
     "text": [
      "{'Name': 'John', 'Class': 'Physics', 'Roll_no': 12, 'Age': 18, 'Marks': 70}\n"
     ]
    }
   ],
   "source": [
    "student ={\n",
    "    \"Name\":\"John\",\n",
    "    \"Class\" : \"Physics\",\n",
    "    \"Roll_no\": 12,\n",
    "    \"Age\": 18,\n",
    "    \"Marks\": 70 \n",
    "}        \n",
    "    \n",
    "print(student)"
   ]
  },
  {
   "cell_type": "code",
   "execution_count": 2,
   "metadata": {},
   "outputs": [
    {
     "name": "stdout",
     "output_type": "stream",
     "text": [
      "{'Lucknow': [30, 40, 25], 'Delhi': [27, 30, 40], 'Mumbai': [27, 45, 33]}\n"
     ]
    }
   ],
   "source": [
    "temp= {\n",
    "    'Lucknow':[30,40,25],\n",
    "    'Delhi':[27,30,40],\n",
    "    'Mumbai':[27,45,33]\n",
    "}\n",
    "print(temp)"
   ]
  },
  {
   "cell_type": "code",
   "execution_count": 3,
   "metadata": {},
   "outputs": [
    {
     "name": "stdout",
     "output_type": "stream",
     "text": [
      "{'Name': 'John', 'age': 22, 'city': 'New York'}\n"
     ]
    }
   ],
   "source": [
    "info =dict(Name='John',age=22,city=\"New York\")\n",
    "print(info)"
   ]
  },
  {
   "cell_type": "code",
   "execution_count": 4,
   "metadata": {},
   "outputs": [
    {
     "name": "stdout",
     "output_type": "stream",
     "text": [
      "{'Name': 'Faizan', 'age': 22, 'City': 'Lucknow'}\n"
     ]
    }
   ],
   "source": [
    "info2 =dict([('Name','Faizan'),(\"age\",22),(\"City\",\"Lucknow\")])\n",
    "print(info2)"
   ]
  },
  {
   "cell_type": "code",
   "execution_count": 5,
   "metadata": {},
   "outputs": [
    {
     "name": "stdout",
     "output_type": "stream",
     "text": [
      "{'Name': 'Faizan', 'Age': 5, 'City': 'lucknow'}\n"
     ]
    }
   ],
   "source": [
    "info3=dict(Name=input(\"Enter your name :\"), Age=int(input(\"Enter your age\")),City=input(\"Enter your city\"))\n",
    "print(info3)"
   ]
  },
  {
   "cell_type": "code",
   "execution_count": 8,
   "metadata": {},
   "outputs": [
    {
     "name": "stdout",
     "output_type": "stream",
     "text": [
      "John\n",
      "12\n"
     ]
    }
   ],
   "source": [
    "# 1st meathod to access value through key\n",
    "\n",
    "print(student['Name'])\n",
    "print(student['Roll_no'])"
   ]
  },
  {
   "cell_type": "code",
   "execution_count": 9,
   "metadata": {},
   "outputs": [
    {
     "name": "stdout",
     "output_type": "stream",
     "text": [
      "John\n",
      "12\n",
      "70\n"
     ]
    }
   ],
   "source": [
    "# 2nd meathod to access value through key\n",
    "\n",
    "print(student.get('Name'))\n",
    "print(student.get('Roll_no'))\n",
    "print(student.get('Marks'))"
   ]
  },
  {
   "cell_type": "code",
   "execution_count": 10,
   "metadata": {},
   "outputs": [
    {
     "name": "stdout",
     "output_type": "stream",
     "text": [
      "{'Name': 'John', 'Class': 'Physics', 'Roll_no': 12, 'Age': 18, 'Marks': 70, 'student': 'DPS'}\n"
     ]
    }
   ],
   "source": [
    "# To add items in a dictionary\n",
    "\n",
    "student['student'] = 'DPS'\n",
    "print(student)"
   ]
  },
  {
   "cell_type": "code",
   "execution_count": 13,
   "metadata": {},
   "outputs": [
    {
     "name": "stdout",
     "output_type": "stream",
     "text": [
      "dict_keys(['Name', 'Class', 'Roll_no', 'Age', 'Marks', 'student'])\n",
      "dict_values(['John', 'Physics', 12, 18, 70, 'DPS'])\n",
      "dict_items([('Name', 'John'), ('Class', 'Physics'), ('Roll_no', 12), ('Age', 18), ('Marks', 70), ('student', 'DPS')])\n"
     ]
    }
   ],
   "source": [
    "print(student.keys())\n",
    "print(student.values())\n",
    "print(student.items())"
   ]
  },
  {
   "cell_type": "code",
   "execution_count": 14,
   "metadata": {},
   "outputs": [
    {
     "name": "stdout",
     "output_type": "stream",
     "text": [
      "Name\n",
      "Class\n",
      "Roll_no\n",
      "Age\n",
      "Marks\n",
      "student\n"
     ]
    }
   ],
   "source": [
    "for k in student:\n",
    "    print(k)"
   ]
  },
  {
   "cell_type": "code",
   "execution_count": 15,
   "metadata": {},
   "outputs": [
    {
     "name": "stdout",
     "output_type": "stream",
     "text": [
      "Name : John \n",
      "Class : Physics \n",
      "Roll_no : 12 \n",
      "Age : 18 \n",
      "Marks : 70 \n",
      "student : DPS \n"
     ]
    }
   ],
   "source": [
    "for k,v in student.items():\n",
    "    print(f'{k} : {v} ')"
   ]
  },
  {
   "cell_type": "code",
   "execution_count": 16,
   "metadata": {},
   "outputs": [
    {
     "name": "stdout",
     "output_type": "stream",
     "text": [
      "{'emp001': {'Name': 'John', 'Age': 27, 'Dept': 'HR', 'Salary': 30000}, 'emp002': {'Name': 'Smith', 'Age': 24, 'Dept': 'Engineering', 'Salary': 50000}, 'emp003': {'Name': 'Mark', 'Age': 30, 'Dept': 'Finance', 'Salary': 40000}}\n"
     ]
    }
   ],
   "source": [
    "# Nested Dictionary\n",
    "\n",
    "company = {\n",
    "    'emp001' : {'Name' : 'John', 'Age' : 27,'Dept' : 'HR','Salary' : 30000},\n",
    "    'emp002' : {'Name' : 'Smith', 'Age' : 24,'Dept' : 'Engineering','Salary' : 50000},\n",
    "    'emp003' : {'Name' : 'Mark', 'Age' : 30,'Dept' : 'Finance','Salary' : 40000}\n",
    "    }\n",
    "print(company)"
   ]
  },
  {
   "cell_type": "code",
   "execution_count": 17,
   "metadata": {},
   "outputs": [
    {
     "name": "stdout",
     "output_type": "stream",
     "text": [
      "{'emp001': {'Name': 'John', 'Age': 27, 'Dept': 'HR', 'Salary': 30000},\n",
      " 'emp002': {'Name': 'Smith', 'Age': 24, 'Dept': 'Engineering', 'Salary': 50000},\n",
      " 'emp003': {'Name': 'Mark', 'Age': 30, 'Dept': 'Finance', 'Salary': 40000}}\n"
     ]
    }
   ],
   "source": [
    "from pprint import pp\n",
    "pp(company)"
   ]
  },
  {
   "cell_type": "code",
   "execution_count": 18,
   "metadata": {},
   "outputs": [
    {
     "name": "stdout",
     "output_type": "stream",
     "text": [
      "John\n"
     ]
    }
   ],
   "source": [
    "print(company['emp001']['Name'])"
   ]
  },
  {
   "cell_type": "code",
   "execution_count": 26,
   "metadata": {},
   "outputs": [
    {
     "name": "stdout",
     "output_type": "stream",
     "text": [
      "{'emp001': {'Name': 'John', 'Age': 27, 'Dept': 'HR', 'Salary': 30000}, 'emp002': {'Name': 'Smith', 'Age': 24, 'Dept': 'Engineering', 'Salary': 50000}, 'emp003': {'Name': 'Mark', 'Age': 30, 'Dept': 'Finance', 'Salary': 40000}, 'emp004': {'Name': 'Alice', 'Age': 29, 'Dept': 'Marketing', 'Salary': 35000}}\n"
     ]
    }
   ],
   "source": [
    "company['emp004'] = {\n",
    "    'Name': 'Alice',\n",
    "    'Age': 29,\n",
    "    'Dept': 'Marketing',\n",
    "    'Salary': 35000\n",
    "}\n",
    "print(company)"
   ]
  },
  {
   "cell_type": "code",
   "execution_count": 23,
   "metadata": {},
   "outputs": [
    {
     "name": "stdout",
     "output_type": "stream",
     "text": [
      "40\n",
      "40\n"
     ]
    }
   ],
   "source": [
    "print(temp['Lucknow'][1])\n",
    "print(temp['Delhi'][2])"
   ]
  },
  {
   "cell_type": "code",
   "execution_count": 25,
   "metadata": {},
   "outputs": [
    {
     "name": "stdout",
     "output_type": "stream",
     "text": [
      "Average temprature of Delhi is :  32.333333333333336\n"
     ]
    }
   ],
   "source": [
    "#print average temp of delhi\n",
    "\n",
    "print('Average temprature of Delhi is : ',sum(temp['Delhi'])/len(temp['Delhi']))"
   ]
  },
  {
   "cell_type": "code",
   "execution_count": null,
   "metadata": {},
   "outputs": [],
   "source": []
  }
 ],
 "metadata": {
  "kernelspec": {
   "display_name": "base",
   "language": "python",
   "name": "python3"
  },
  "language_info": {
   "codemirror_mode": {
    "name": "ipython",
    "version": 3
   },
   "file_extension": ".py",
   "mimetype": "text/x-python",
   "name": "python",
   "nbconvert_exporter": "python",
   "pygments_lexer": "ipython3",
   "version": "3.12.4"
  }
 },
 "nbformat": 4,
 "nbformat_minor": 2
}
