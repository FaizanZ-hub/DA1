{
 "cells": [
  {
   "cell_type": "markdown",
   "metadata": {},
   "source": [
    "DICTIONARY\n",
    "\n",
    "- How to declare it \n",
    "- How to access key and values of a dictionary\n",
    "- How to use loops in dictionary\n",
    "- indexing in dictionary"
   ]
  },
  {
   "cell_type": "code",
   "execution_count": 4,
   "metadata": {},
   "outputs": [
    {
     "name": "stdout",
     "output_type": "stream",
     "text": [
      "{'Name': 'John', 'Class': 'Physics', 'Roll_no': 12, 'Age': 18, 'Marks': 70}\n"
     ]
    }
   ],
   "source": [
    "student ={\n",
    "    \"Name\":\"John\",\n",
    "    \"Class\" : \"Physics\",\n",
    "    \"Roll_no\": 12,\n",
    "    \"Age\": 18,\n",
    "    \"Marks\": 70 \n",
    "}        \n",
    "    \n",
    "print(student)"
   ]
  },
  {
   "cell_type": "code",
   "execution_count": 7,
   "metadata": {},
   "outputs": [
    {
     "name": "stdout",
     "output_type": "stream",
     "text": [
      "{'Lucknow': [30, 40, 25], 'Delhi': [27, 30, 40], 'Mumbai': [27, 45, 33]}\n"
     ]
    }
   ],
   "source": [
    "temp= {\n",
    "    'Lucknow':[30,40,25],\n",
    "    'Delhi':[27,30,40],\n",
    "    'Mumbai':[27,45,33]\n",
    "}\n",
    "print(temp)"
   ]
  },
  {
   "cell_type": "code",
   "execution_count": 9,
   "metadata": {},
   "outputs": [
    {
     "name": "stdout",
     "output_type": "stream",
     "text": [
      "{'Name': 'John', 'age': 22, 'city': 'New York'}\n"
     ]
    }
   ],
   "source": [
    "info =dict(Name='John',age=22,city=\"New York\")\n",
    "print(info)"
   ]
  },
  {
   "cell_type": "code",
   "execution_count": 11,
   "metadata": {},
   "outputs": [
    {
     "name": "stdout",
     "output_type": "stream",
     "text": [
      "{'Name': 'Faizan', 'age': 22, 'City': 'Lucknow'}\n"
     ]
    }
   ],
   "source": [
    "info2 =dict([('Name','Faizan'),(\"age\",22),(\"City\",\"Lucknow\")])\n",
    "print(info2)"
   ]
  },
  {
   "cell_type": "code",
   "execution_count": 12,
   "metadata": {},
   "outputs": [
    {
     "name": "stdout",
     "output_type": "stream",
     "text": [
      "{'Name': 'Faizan', 'Age': 24, 'City': 'Lucknow'}\n"
     ]
    }
   ],
   "source": [
    "info3=dict(Name=input(\"Enter your name :\"), Age=int(input(\"Enter your age\")),City=input(\"Enter your city\"))\n",
    "print(info3)"
   ]
  }
 ],
 "metadata": {
  "kernelspec": {
   "display_name": "base",
   "language": "python",
   "name": "python3"
  },
  "language_info": {
   "codemirror_mode": {
    "name": "ipython",
    "version": 3
   },
   "file_extension": ".py",
   "mimetype": "text/x-python",
   "name": "python",
   "nbconvert_exporter": "python",
   "pygments_lexer": "ipython3",
   "version": "3.12.4"
  }
 },
 "nbformat": 4,
 "nbformat_minor": 2
}
