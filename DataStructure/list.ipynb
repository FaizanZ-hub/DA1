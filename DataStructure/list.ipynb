{
 "cells": [
  {
   "cell_type": "markdown",
   "metadata": {},
   "source": [
    "Indexing and Slicing"
   ]
  },
  {
   "cell_type": "code",
   "execution_count": 1,
   "metadata": {},
   "outputs": [
    {
     "name": "stdout",
     "output_type": "stream",
     "text": [
      "['Facebook', 'Google Chrome', 'App store', 'Myntra', 'Gallery', 'Instagram', 'Snapchat', 'linkedin', 'Ajio', 'Discord', 'BGMI', 'Swiggy', 'Uber']\n"
     ]
    }
   ],
   "source": [
    "apps=['Facebook','Google Chrome','App store','Myntra','Gallery','Instagram','Snapchat','linkedin','Ajio','Discord',\"BGMI\",'Swiggy','Uber']\n",
    "print (apps)"
   ]
  },
  {
   "cell_type": "code",
   "execution_count": 4,
   "metadata": {},
   "outputs": [
    {
     "name": "stdout",
     "output_type": "stream",
     "text": [
      "Myntra\n",
      "linkedin\n",
      "BGMI\n"
     ]
    }
   ],
   "source": [
    "print(apps[3])\n",
    "print(apps[7])\n",
    "print(apps[-3])"
   ]
  },
  {
   "cell_type": "markdown",
   "metadata": {},
   "source": [
    "- slicing"
   ]
  },
  {
   "cell_type": "code",
   "execution_count": 6,
   "metadata": {},
   "outputs": [
    {
     "name": "stdout",
     "output_type": "stream",
     "text": [
      "['App store', 'Myntra', 'Gallery', 'Instagram', 'Snapchat', 'linkedin']\n",
      "['Facebook', 'App store', 'Gallery', 'Snapchat', 'Ajio', 'BGMI', 'Uber']\n",
      "['Facebook', 'Google Chrome', 'App store', 'Myntra', 'Gallery', 'Instagram', 'Snapchat', 'linkedin', 'Ajio', 'Discord', 'BGMI', 'Swiggy', 'Uber']\n",
      "['Facebook', 'Google Chrome', 'App store', 'Myntra', 'Gallery', 'Instagram', 'Snapchat', 'linkedin']\n",
      "['Snapchat', 'linkedin', 'Ajio', 'Discord', 'BGMI', 'Swiggy', 'Uber']\n"
     ]
    }
   ],
   "source": [
    "print(apps[2:8])\n",
    "print(apps[0:13:2])\n",
    "print(apps[:])\n",
    "print(apps[:8])\n",
    "print(apps[6:])"
   ]
  },
  {
   "cell_type": "markdown",
   "metadata": {},
   "source": [
    "LIST METHODS\n",
    "- append()\n",
    "- insert()\n",
    "- pop()\n",
    "- remove()\n",
    "- sort()\n",
    "- reverse()\n",
    "- extend()\n",
    "- copy()\n",
    "- clear()"
   ]
  },
  {
   "cell_type": "code",
   "execution_count": 7,
   "metadata": {},
   "outputs": [
    {
     "name": "stdout",
     "output_type": "stream",
     "text": [
      "['Facebook', 'Google Chrome', 'App store', 'Myntra', 'Gallery', 'Instagram', 'Snapchat', 'linkedin', 'Ajio', 'Discord', 'BGMI', 'Swiggy', 'Uber']\n"
     ]
    }
   ],
   "source": [
    "print(apps)"
   ]
  },
  {
   "cell_type": "code",
   "execution_count": 8,
   "metadata": {},
   "outputs": [
    {
     "name": "stdout",
     "output_type": "stream",
     "text": [
      "['Facebook', 'Google Chrome', 'App store', 'Myntra', 'Gallery', 'Instagram', 'Snapchat', 'linkedin', 'Ajio', 'Discord', 'BGMI', 'Swiggy', 'Uber', 'Drive']\n"
     ]
    }
   ],
   "source": [
    "apps.append('Drive')\n",
    "print(apps)"
   ]
  },
  {
   "cell_type": "code",
   "execution_count": 9,
   "metadata": {},
   "outputs": [
    {
     "name": "stdout",
     "output_type": "stream",
     "text": [
      "['Facebook', 'Google Chrome', 'App store', 'Myntra', 'rapido', 'Gallery', 'Instagram', 'Snapchat', 'linkedin', 'Ajio', 'Discord', 'BGMI', 'Swiggy', 'Uber', 'Drive']\n"
     ]
    }
   ],
   "source": [
    "apps.insert(4,'rapido')\n",
    "print(apps)"
   ]
  },
  {
   "cell_type": "code",
   "execution_count": 10,
   "metadata": {},
   "outputs": [
    {
     "name": "stdout",
     "output_type": "stream",
     "text": [
      "['Facebook', 'Google Chrome', 'App store', 'Myntra', 'rapido', 'Instagram', 'Snapchat', 'linkedin', 'Ajio', 'Discord', 'BGMI', 'Swiggy', 'Uber', 'Drive']\n"
     ]
    }
   ],
   "source": [
    "apps.pop(5)\n",
    "print(apps)"
   ]
  },
  {
   "cell_type": "code",
   "execution_count": 11,
   "metadata": {},
   "outputs": [
    {
     "name": "stdout",
     "output_type": "stream",
     "text": [
      "['Facebook', 'Google Chrome', 'App store', 'Myntra', 'rapido', 'Instagram', 'linkedin', 'Ajio', 'Discord', 'BGMI', 'Swiggy', 'Uber', 'Drive']\n"
     ]
    }
   ],
   "source": [
    "apps.remove('Snapchat')\n",
    "print(apps)"
   ]
  },
  {
   "cell_type": "code",
   "execution_count": 12,
   "metadata": {},
   "outputs": [
    {
     "name": "stdout",
     "output_type": "stream",
     "text": [
      "['Ajio', 'App store', 'BGMI', 'Discord', 'Drive', 'Facebook', 'Google Chrome', 'Instagram', 'Myntra', 'Swiggy', 'Uber', 'linkedin', 'rapido']\n"
     ]
    }
   ],
   "source": [
    "apps.sort()\n",
    "print(apps)"
   ]
  },
  {
   "cell_type": "code",
   "execution_count": 13,
   "metadata": {},
   "outputs": [
    {
     "name": "stdout",
     "output_type": "stream",
     "text": [
      "['rapido', 'linkedin', 'Uber', 'Swiggy', 'Myntra', 'Instagram', 'Google Chrome', 'Facebook', 'Drive', 'Discord', 'BGMI', 'App store', 'Ajio']\n"
     ]
    }
   ],
   "source": [
    "apps.reverse()\n",
    "print(apps)"
   ]
  },
  {
   "cell_type": "markdown",
   "metadata": {},
   "source": [
    "-  extend"
   ]
  },
  {
   "cell_type": "code",
   "execution_count": 16,
   "metadata": {},
   "outputs": [
    {
     "name": "stdout",
     "output_type": "stream",
     "text": [
      "['Telegram', 'Twitter', 'Maps', 'Youtube']\n"
     ]
    }
   ],
   "source": [
    "apps2=['Telegram','Twitter','Maps','Youtube']\n",
    "print(apps2)"
   ]
  },
  {
   "cell_type": "code",
   "execution_count": 15,
   "metadata": {},
   "outputs": [
    {
     "name": "stdout",
     "output_type": "stream",
     "text": [
      "['Telegram', 'Twitter', 'Maps', 'Youtube', 'rapido', 'linkedin', 'Uber', 'Swiggy', 'Myntra', 'Instagram', 'Google Chrome', 'Facebook', 'Drive', 'Discord', 'BGMI', 'App store', 'Ajio']\n"
     ]
    }
   ],
   "source": [
    "apps2.extend(apps)\n",
    "print(apps2)"
   ]
  },
  {
   "cell_type": "code",
   "execution_count": 17,
   "metadata": {},
   "outputs": [
    {
     "name": "stdout",
     "output_type": "stream",
     "text": [
      "['rapido', 'linkedin', 'Uber', 'Swiggy', 'Myntra', 'Instagram', 'Google Chrome', 'Facebook', 'Drive', 'Discord', 'BGMI', 'App store', 'Ajio', 'Telegram', 'Twitter', 'Maps', 'Youtube']\n"
     ]
    }
   ],
   "source": [
    "apps.extend(apps2)\n",
    "print(apps)"
   ]
  },
  {
   "cell_type": "markdown",
   "metadata": {},
   "source": [
    "- copy"
   ]
  },
  {
   "cell_type": "code",
   "execution_count": 19,
   "metadata": {},
   "outputs": [
    {
     "name": "stdout",
     "output_type": "stream",
     "text": [
      "['rapido', 'linkedin', 'Uber', 'Swiggy', 'Myntra', 'Instagram', 'Google Chrome', 'Facebook', 'Drive', 'Discord', 'BGMI', 'App store', 'Ajio', 'Telegram', 'Twitter', 'Maps', 'Youtube']\n"
     ]
    }
   ],
   "source": [
    "b=apps.copy()\n",
    "print(b)"
   ]
  },
  {
   "cell_type": "code",
   "execution_count": 20,
   "metadata": {},
   "outputs": [
    {
     "name": "stdout",
     "output_type": "stream",
     "text": [
      "[]\n"
     ]
    }
   ],
   "source": [
    "apps.clear()\n",
    "print(apps)"
   ]
  },
  {
   "cell_type": "code",
   "execution_count": 21,
   "metadata": {},
   "outputs": [
    {
     "name": "stdout",
     "output_type": "stream",
     "text": [
      "['rapido', 'linkedin', 'Uber', 'Swiggy', 'Myntra', 'Instagram', 'Google Chrome', 'Facebook', 'Drive', 'Discord', 'BGMI', 'App store', 'Ajio', 'Telegram', 'Twitter', 'Maps', 'Youtube']\n"
     ]
    }
   ],
   "source": [
    "print(b)"
   ]
  },
  {
   "cell_type": "markdown",
   "metadata": {},
   "source": [
    "LIST COMPREHENSION"
   ]
  },
  {
   "cell_type": "code",
   "execution_count": 1,
   "metadata": {},
   "outputs": [
    {
     "name": "stdout",
     "output_type": "stream",
     "text": [
      "[1, 4, 9, 16, 25, 36, 49, 64, 81, 100]\n"
     ]
    }
   ],
   "source": [
    "lst=[1,2,3,4,5,6,7,8,9,10]\n",
    "new_lst=[]\n",
    "for i in lst:\n",
    "    new_lst.append(i**2)\n",
    "print(new_lst)    "
   ]
  },
  {
   "cell_type": "code",
   "execution_count": 2,
   "metadata": {},
   "outputs": [
    {
     "name": "stdout",
     "output_type": "stream",
     "text": [
      "[1, 2, 3, 4, 5, 6, 7, 8, 9, 10]\n"
     ]
    }
   ],
   "source": [
    "print(lst)"
   ]
  },
  {
   "cell_type": "code",
   "execution_count": 3,
   "metadata": {},
   "outputs": [
    {
     "name": "stdout",
     "output_type": "stream",
     "text": [
      "[1, 4, 9, 16, 25, 36, 49, 64, 81, 100]\n"
     ]
    }
   ],
   "source": [
    "#using list comprehension\n",
    "\n",
    "lst = [1,2,3,4,5,6,7,8,9,10]\n",
    "square=[i**2 for i in lst]\n",
    "print(square)"
   ]
  },
  {
   "cell_type": "code",
   "execution_count": 4,
   "metadata": {},
   "outputs": [
    {
     "name": "stdout",
     "output_type": "stream",
     "text": [
      "[2, 4, 6, 8, 10, 12, 14, 16]\n"
     ]
    }
   ],
   "source": [
    "#if we want to print only even numbers from list to new list\n",
    "\n",
    "num=[1,2,3,4,5,6,7,8,9,10,11,12,13,14,15,16]\n",
    "even_num=[i for i in num if i%2==0]\n",
    "print(even_num)"
   ]
  },
  {
   "cell_type": "code",
   "execution_count": 14,
   "metadata": {},
   "outputs": [
    {
     "name": "stdout",
     "output_type": "stream",
     "text": [
      "['Apple', 'Banana', 'Mango', 'kiwi', 'Banana']\n"
     ]
    }
   ],
   "source": [
    "#take a list of fruits and print a new list of fruits where length of fruit is <=6\n",
    "\n",
    "fruits=[\"Apple\",\"Banana\",\"Mango\",\"Pineappple\",\"kiwi\",\"Strawberry\",\"Watermelon\",\"Banana\"]\n",
    "fruits_2=[i for i in fruits if len(i)<=6]\n",
    "print(fruits_2)"
   ]
  },
  {
   "cell_type": "code",
   "execution_count": 18,
   "metadata": {},
   "outputs": [
    {
     "name": "stdout",
     "output_type": "stream",
     "text": [
      "['BANANA', 'MANGO', 'PINEAPPPLE', 'STRAWBERRY', 'WATERMELON', 'BANANA']\n"
     ]
    }
   ],
   "source": [
    "fruits2=[i.upper() for i in fruits]\n",
    "print(fruits2)"
   ]
  },
  {
   "cell_type": "code",
   "execution_count": 16,
   "metadata": {},
   "outputs": [
    {
     "name": "stdout",
     "output_type": "stream",
     "text": [
      "['Banana', 'Mango', 'Pineappple', 'Strawberry', 'Watermelon', 'Banana']\n"
     ]
    }
   ],
   "source": [
    "fruits=[i for i in fruits if 'a' in i]\n",
    "print(fruits)"
   ]
  }
 ],
 "metadata": {
  "kernelspec": {
   "display_name": "base",
   "language": "python",
   "name": "python3"
  },
  "language_info": {
   "codemirror_mode": {
    "name": "ipython",
    "version": 3
   },
   "file_extension": ".py",
   "mimetype": "text/x-python",
   "name": "python",
   "nbconvert_exporter": "python",
   "pygments_lexer": "ipython3",
   "version": "3.12.4"
  }
 },
 "nbformat": 4,
 "nbformat_minor": 2
}
