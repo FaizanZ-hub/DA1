{
 "cells": [
  {
   "cell_type": "markdown",
   "metadata": {},
   "source": []
  },
  {
   "cell_type": "code",
   "execution_count": 2,
   "metadata": {},
   "outputs": [],
   "source": [
    "#Non parameterized function\n",
    "\n",
    "def my_func():\n",
    "    print(\"Hello from my_func\")"
   ]
  },
  {
   "cell_type": "code",
   "execution_count": 3,
   "metadata": {},
   "outputs": [
    {
     "name": "stdout",
     "output_type": "stream",
     "text": [
      "Hello from my_func\n"
     ]
    }
   ],
   "source": [
    "#function calling\n",
    "\n",
    "my_func()"
   ]
  },
  {
   "cell_type": "code",
   "execution_count": 4,
   "metadata": {},
   "outputs": [
    {
     "name": "stdout",
     "output_type": "stream",
     "text": [
      "Hello John\n"
     ]
    }
   ],
   "source": [
    "#parameterized function\n",
    "\n",
    "def name(name): #name is a parameter\n",
    "    print(\"Hello \" + name)\n",
    "\n",
    "name(\"John\")    #john is an argument"
   ]
  },
  {
   "cell_type": "code",
   "execution_count": 5,
   "metadata": {},
   "outputs": [
    {
     "data": {
      "text/plain": [
       "15"
      ]
     },
     "execution_count": 5,
     "metadata": {},
     "output_type": "execute_result"
    }
   ],
   "source": [
    "def func(x):\n",
    "    return 5*x\n",
    "\n",
    "func(3)"
   ]
  },
  {
   "cell_type": "code",
   "execution_count": 6,
   "metadata": {},
   "outputs": [
    {
     "name": "stdout",
     "output_type": "stream",
     "text": [
      "15\n"
     ]
    }
   ],
   "source": [
    "a = func(3)\n",
    "print(a)"
   ]
  },
  {
   "cell_type": "code",
   "execution_count": 7,
   "metadata": {},
   "outputs": [
    {
     "name": "stdout",
     "output_type": "stream",
     "text": [
      "I am from USA\n",
      "I am from UK\n",
      "I am from India\n"
     ]
    }
   ],
   "source": [
    "#default parameterized function\n",
    "\n",
    "def my_country(country = 'India'):\n",
    "    print(\"I am from \" + country)\n",
    "    \n",
    "my_country('USA')\n",
    "my_country('UK')\n",
    "my_country()\n",
    "    "
   ]
  },
  {
   "cell_type": "code",
   "execution_count": 8,
   "metadata": {},
   "outputs": [
    {
     "name": "stdout",
     "output_type": "stream",
     "text": [
      "Apple\n",
      "Banana\n",
      "Cherry\n"
     ]
    }
   ],
   "source": [
    "def fruits(fruit):\n",
    "    for x in fruit:\n",
    "        print(x)\n",
    "        \n",
    "fruits([\"Apple\",\"Banana\",\"Cherry\"])        "
   ]
  },
  {
   "cell_type": "code",
   "execution_count": 9,
   "metadata": {},
   "outputs": [],
   "source": [
    "#user defined function to check odd or even\n",
    "\n",
    "def even_or_odd(number):\n",
    "    if number % 2 == 0:\n",
    "        return 'Even'\n",
    "    else:\n",
    "        return 'Odd'"
   ]
  },
  {
   "cell_type": "code",
   "execution_count": 10,
   "metadata": {},
   "outputs": [
    {
     "data": {
      "text/plain": [
       "'Even'"
      ]
     },
     "execution_count": 10,
     "metadata": {},
     "output_type": "execute_result"
    }
   ],
   "source": [
    "\n",
    "even_or_odd(76)\n"
   ]
  },
  {
   "cell_type": "code",
   "execution_count": 11,
   "metadata": {},
   "outputs": [
    {
     "data": {
      "text/plain": [
       "'Odd'"
      ]
     },
     "execution_count": 11,
     "metadata": {},
     "output_type": "execute_result"
    }
   ],
   "source": [
    "even_or_odd(7)"
   ]
  },
  {
   "cell_type": "code",
   "execution_count": 12,
   "metadata": {},
   "outputs": [
    {
     "name": "stdout",
     "output_type": "stream",
     "text": [
      "5\n"
     ]
    }
   ],
   "source": [
    "#lambda function\n",
    "\n",
    "add = lambda a,b : a+b\n",
    "print(add(2,3))"
   ]
  },
  {
   "cell_type": "code",
   "execution_count": 13,
   "metadata": {},
   "outputs": [
    {
     "name": "stdout",
     "output_type": "stream",
     "text": [
      "True\n"
     ]
    }
   ],
   "source": [
    "#even odd using lambda\n",
    "\n",
    "even=lambda a :a%2==0\n",
    "print(even(2))\n"
   ]
  },
  {
   "cell_type": "code",
   "execution_count": 14,
   "metadata": {},
   "outputs": [
    {
     "data": {
      "text/plain": [
       "('Welcome', 'To', 'Digipodium')"
      ]
     },
     "execution_count": 14,
     "metadata": {},
     "output_type": "execute_result"
    }
   ],
   "source": [
    "def myFunc():\n",
    "    return \"Welcome\",\"To\",\"Digipodium\"\n",
    "\n",
    "myFunc()"
   ]
  },
  {
   "cell_type": "code",
   "execution_count": 15,
   "metadata": {},
   "outputs": [
    {
     "name": "stdout",
     "output_type": "stream",
     "text": [
      "Welcome\n",
      "To\n",
      "Digipodium\n"
     ]
    }
   ],
   "source": [
    "a,b,c =myFunc()\n",
    "print(a)\n",
    "print(b)\n",
    "print(c)"
   ]
  },
  {
   "cell_type": "markdown",
   "metadata": {},
   "source": [
    "- Check a number is prime or not\n",
    "- Calculate Factorial\n",
    "- Reverse of a string\n",
    "- Count vowels in a string\n",
    "- Calculate BMI (Body Mass Index)\n",
    "\n",
    "- Convert temperature celcius to fahrenheit\n",
    "- Find maximum of three number\n"
   ]
  },
  {
   "cell_type": "code",
   "execution_count": 16,
   "metadata": {},
   "outputs": [
    {
     "name": "stdout",
     "output_type": "stream",
     "text": [
      "25°C is equal to 77.0°F\n"
     ]
    }
   ],
   "source": [
    "def celsius_to_fahrenheit(celsius):\n",
    "\n",
    "    fahrenheit = (celsius * 9/5) + 32\n",
    "    return fahrenheit\n",
    "\n",
    "celsius_temp = 25\n",
    "fahrenheit_temp = celsius_to_fahrenheit(celsius_temp)\n",
    "print(f\"{celsius_temp}°C is equal to {fahrenheit_temp}°F\")\n"
   ]
  },
  {
   "cell_type": "code",
   "execution_count": 17,
   "metadata": {},
   "outputs": [
    {
     "name": "stdout",
     "output_type": "stream",
     "text": [
      "The maximum of 10, 50, and 15 is 50\n"
     ]
    }
   ],
   "source": [
    "def max_of_three(a, b, c):\n",
    "    \n",
    "    return max(a, b, c)\n",
    "\n",
    "num1 = 10\n",
    "num2 = 50\n",
    "num3 = 15\n",
    "\n",
    "maximum = max_of_three(num1, num2, num3)\n",
    "print(f\"The maximum of {num1}, {num2}, and {num3} is {maximum}\")\n"
   ]
  },
  {
   "cell_type": "markdown",
   "metadata": {},
   "source": [
    "*Built-in FUNCTIONS*"
   ]
  },
  {
   "cell_type": "code",
   "execution_count": 18,
   "metadata": {},
   "outputs": [],
   "source": [
    "import math #Math is a library"
   ]
  },
  {
   "cell_type": "code",
   "execution_count": 19,
   "metadata": {},
   "outputs": [
    {
     "name": "stdout",
     "output_type": "stream",
     "text": [
      "4.0\n",
      "120\n",
      "3.141592653589793\n",
      "12\n",
      "24\n",
      "0.8939966636005579\n",
      "0.15425144988758405\n"
     ]
    }
   ],
   "source": [
    "print(math.sqrt(16))\n",
    "print(math.factorial(5))\n",
    "print(math.pi)\n",
    "print(math.gcd(12,24))\n",
    "print(math.lcm(12,24))\n",
    "print(math.sin(90))\n",
    "print(math.cos(30))\n",
    "      \n"
   ]
  },
  {
   "cell_type": "code",
   "execution_count": 21,
   "metadata": {},
   "outputs": [],
   "source": [
    "from random import random,randint,choice,shuffle #random is a library"
   ]
  },
  {
   "cell_type": "code",
   "execution_count": 28,
   "metadata": {},
   "outputs": [
    {
     "name": "stdout",
     "output_type": "stream",
     "text": [
      "Get a random number between 0 and 2 :  0.44086738307743245\n",
      "Get a random number between 0 and 2 :  0\n",
      "Get a random number between 0 and 2 :  4\n",
      "Shuffled list :  ['John', 'Smith', 'Alice', 'Bob']\n"
     ]
    }
   ],
   "source": [
    "print('Get a random number between 0 and 2 : ',random()) #return only decimal values\n",
    "print('Get a random number between 0 and 2 : ',randint(0,2)) #return only int values\n",
    "print('Get a random number between 0 and 2 : ',choice([1,2,3,4,5,6,7,8])) #return value from the declared list\n",
    "\n",
    "#Shuffle meathod\n",
    "\n",
    "names=['John','Smith','Alice','Bob']\n",
    "shuffle(name)\n",
    "print('Shuffled list : ',names)"
   ]
  },
  {
   "cell_type": "code",
   "execution_count": 29,
   "metadata": {},
   "outputs": [],
   "source": [
    "from datetime import datetime as dt "
   ]
  },
  {
   "cell_type": "code",
   "execution_count": 30,
   "metadata": {},
   "outputs": [
    {
     "name": "stdout",
     "output_type": "stream",
     "text": [
      "Current Date and Time : 2024-09-06 10:12:05.568040\n",
      "Current Date  :  2024-09-06\n",
      "Current Time :  10:12:05.568040\n"
     ]
    }
   ],
   "source": [
    "print('Current Date and Time :',dt.now())\n",
    "print('Current Date  : ',dt.now().date())\n",
    "print('Current Time : ',dt.now().time())"
   ]
  },
  {
   "cell_type": "code",
   "execution_count": 36,
   "metadata": {},
   "outputs": [
    {
     "name": "stdout",
     "output_type": "stream",
     "text": [
      "Current Year  :  2024\n",
      "Current Month  :  9\n",
      "Current Day :  6\n",
      "Current Hour  :  10\n",
      "Current Minute  :  20\n",
      "Current Second  :  4\n",
      "Current Microsecond :  85973\n",
      "Current Weekday  :  4\n"
     ]
    }
   ],
   "source": [
    "print('Current Year  : ',dt.now().year)\n",
    "print('Current Month  : ',dt.now().month)\n",
    "print('Current Day : ',dt.now().day)\n",
    "print('Current Hour  : ',dt.now().hour)\n",
    "print('Current Minute  : ',dt.now().minute)\n",
    "print('Current Second  : ',dt.now().second)\n",
    "print('Current Microsecond : ',dt.now().microsecond)\n",
    "print('Current Weekday  : ',dt.now().weekday())"
   ]
  },
  {
   "cell_type": "code",
   "execution_count": 37,
   "metadata": {},
   "outputs": [
    {
     "name": "stdout",
     "output_type": "stream",
     "text": [
      "Current date :  06-09-24\n"
     ]
    }
   ],
   "source": [
    "#formatting date \n",
    "\n",
    "date=dt.strftime(dt.now(), '%d-%m-%y')\n",
    "print('Current date : ',date)"
   ]
  },
  {
   "cell_type": "code",
   "execution_count": 48,
   "metadata": {},
   "outputs": [
    {
     "name": "stdout",
     "output_type": "stream",
     "text": [
      "Current time :  10:29:04\n"
     ]
    }
   ],
   "source": [
    "#formatting time\n",
    "\n",
    "time=dt.strftime(dt.now(), '%H:%M:%S') #Case sensetive as 'M' is for minute and 'm' is for month\n",
    "print('Current time : ',time)"
   ]
  },
  {
   "cell_type": "code",
   "execution_count": 51,
   "metadata": {},
   "outputs": [],
   "source": [
    "import os #Give information about os folders,files and directories"
   ]
  },
  {
   "cell_type": "code",
   "execution_count": 52,
   "metadata": {},
   "outputs": [
    {
     "name": "stdout",
     "output_type": "stream",
     "text": [
      "Current folder :  c:\\Users\\ASUS\\OneDrive\\Desktop\\DA1\n"
     ]
    }
   ],
   "source": [
    "print('Current folder : ',os.getcwd())\n"
   ]
  },
  {
   "cell_type": "code",
   "execution_count": 55,
   "metadata": {},
   "outputs": [
    {
     "name": "stdout",
     "output_type": "stream",
     "text": [
      " Files and Folders in current directory :  ['.git', 'Assignment1.ipynb', 'Basic.ipynb', 'Basic.py', 'conditions.ipynb', 'DataStructure', 'Functions.ipynb', 'loops.ipynb', 'Practice Questions1', 'Practice.ipynb', 'variables.ipynb']\n",
      "11\n"
     ]
    }
   ],
   "source": [
    "files=os.listdir() #list all files and folders in current directory\n",
    "print(\" Files and Folders in current directory : \",files)\n",
    "print(len(files))"
   ]
  },
  {
   "cell_type": "code",
   "execution_count": 58,
   "metadata": {},
   "outputs": [
    {
     "name": "stdout",
     "output_type": "stream",
     "text": [
      " Files and Folders in current directory :  ['config.ini', 'keyboard_setting.csv', 'keyboard_setting.ini']\n",
      "3\n"
     ]
    }
   ],
   "source": [
    "file=os.listdir(r\"C:\\Users\\ASUS\\OneDrive\\Documents\\WWE2K19\") #r is used to recognise path\n",
    "print(\" Files and Folders in current directory : \",file)\n",
    "print(len(file))"
   ]
  },
  {
   "cell_type": "code",
   "execution_count": 60,
   "metadata": {},
   "outputs": [
    {
     "data": {
      "text/plain": [
       "<generator object walk at 0x000001E58367F400>"
      ]
     },
     "execution_count": 60,
     "metadata": {},
     "output_type": "execute_result"
    }
   ],
   "source": [
    "os.walk('D:') #use to give all doc inside the directory"
   ]
  },
  {
   "cell_type": "code",
   "execution_count": 61,
   "metadata": {},
   "outputs": [
    {
     "name": "stdout",
     "output_type": "stream",
     "text": [
      "- D:\n",
      "📂 ['$RECYCLE.BIN', 'GAMZZ', 'Gyaarah.Gyaarah.S01.E01-08.1080p.ZEE5.WEB-DL.Hindi.DDP5.1.H.264.Vegamovies.To', 'IC.814.The.Kandahar.Hijack.S01.1080p.NF.WEB-DL.DUAL.DDP5.1.Atmos.H.264.Vegamovies.To', 'Pics', 'study', 'System Volume Information']\n",
      "📄 ['DumpStack.log.tmp', 'IMG_2262.PNG']\n",
      "- D:$RECYCLE.BIN\n",
      "📂 ['S-1-5-21-3525027558-4231722735-545826285-1001', 'S-1-5-21-3525027558-4231722735-545826285-1002']\n",
      "📄 []\n",
      "- D:$RECYCLE.BIN\\S-1-5-21-3525027558-4231722735-545826285-1001\n",
      "📂 ['$R2AUKRN', '$RHTND53', '$RQL1CFN']\n",
      "📄 ['$I02A5JG.docx', '$I1MY0PZ.MOV', '$I20UK5U.JPG', '$I2AUKRN', '$I4UZ514.MOV', '$I5G1P8R.pdf', '$I6AR7AG.MOV', '$I8LQ7W1.jpg', '$I9723Z0.jpg', '$IC4OD14.HEIC', '$IDP5KOX.MOV', '$IGGDD44.docx', '$IHGOTSM.docx', '$IHTND53', '$ILLQN4H.zip', '$IN072K1.MOV', '$IQL1CFN', '$ISCWCCQ.docx', '$ITZM21F.srt', '$IWHNNID.HEIC', '$IXKU64L.docx', '$IY3GV8X.txt', '$IYSVEBP.doc', '$R02A5JG.docx', '$R1MY0PZ.MOV', '$R20UK5U.JPG', '$R4UZ514.MOV', '$R5G1P8R.pdf', '$R6AR7AG.MOV', '$R9723Z0.jpg', '$RC4OD14.HEIC', '$RDP5KOX.MOV', '$RGGDD44.docx', '$RHGOTSM.docx', '$RLLQN4H.zip', '$RN072K1.MOV', '$RSCWCCQ.docx', '$RTZM21F.srt', '$RWHNNID.HEIC', '$RXKU64L.docx', '$RY3GV8X.txt', '$RYSVEBP.doc', 'desktop.ini']\n",
      "- D:$RECYCLE.BIN\\S-1-5-21-3525027558-4231722735-545826285-1001\\$R2AUKRN\n",
      "📂 ['code']\n",
      "📄 ['first.py', 'if.py']\n",
      "- D:$RECYCLE.BIN\\S-1-5-21-3525027558-4231722735-545826285-1001\\$R2AUKRN\\code\n",
      "📂 []\n",
      "📄 ['marks = 87.py']\n",
      "- D:$RECYCLE.BIN\\S-1-5-21-3525027558-4231722735-545826285-1001\\$RHTND53\n",
      "📂 []\n",
      "📄 []\n",
      "- D:$RECYCLE.BIN\\S-1-5-21-3525027558-4231722735-545826285-1001\\$RQL1CFN\n",
      "📂 ['.vscode', 'Basic', 'IF-ELSE', 'Loop', 'Operator', 'switch']\n",
      "📄 []\n",
      "- D:$RECYCLE.BIN\\S-1-5-21-3525027558-4231722735-545826285-1001\\$RQL1CFN\\.vscode\n",
      "📂 []\n",
      "📄 ['settings.json', 'tasks.json']\n",
      "- D:$RECYCLE.BIN\\S-1-5-21-3525027558-4231722735-545826285-1001\\$RQL1CFN\\Basic\n",
      "📂 []\n",
      "📄 ['bubblesort.exe', 'BubbleSortcollege.c', 'BubbleSortcollege.exe', 'bubblesortCWH.c', 'bubblesortCWH.exe', 'linear.exe', 'output.c', 'size.c', 'size.exe', 'syntax.c', 'syntax.exe', 'try.py']\n",
      "- D:$RECYCLE.BIN\\S-1-5-21-3525027558-4231722735-545826285-1001\\$RQL1CFN\\IF-ELSE\n",
      "📂 []\n",
      "📄 ['if-else.c', 'if-else.exe', 'if-test.c', 'if-test.exe', 'ifelse1.c', 'ifelse1.exe']\n",
      "- D:$RECYCLE.BIN\\S-1-5-21-3525027558-4231722735-545826285-1001\\$RQL1CFN\\Loop\n",
      "📂 []\n",
      "📄 ['do-while.c', 'do-while.exe']\n",
      "- D:$RECYCLE.BIN\\S-1-5-21-3525027558-4231722735-545826285-1001\\$RQL1CFN\\Operator\n",
      "📂 []\n",
      "📄 ['arithmatic.c', 'arithmatic.exe', 'exercise-1.exe', 'Logical.c', 'Logical.exe', 'print a table.c', 'sum.c', 'sum.exe']\n",
      "- D:$RECYCLE.BIN\\S-1-5-21-3525027558-4231722735-545826285-1001\\$RQL1CFN\\switch\n",
      "📂 []\n",
      "📄 ['switch.c', 'switch.exe']\n",
      "- D:GAMZZ\n",
      "📂 ['Need for Speed - Most Wanted', 'Tekken 7']\n",
      "📄 []\n",
      "- D:GAMZZ\\Need for Speed - Most Wanted\n",
      "📂 ['CARS', 'CREDITS', 'FRONTEND', 'GLOBAL', 'LANGUAGES', 'MEMCARD', 'MOVIES', 'NIS', 'scripts', 'SOUND', 'SUBTITLES', 'Support', 'TRACKS']\n",
      "📄 ['00000000.256', 'dinput8.dll', 'filelist.txt', 'safemode_inst.exe', 'server.cfg', 'server.dll', 'shell_inst.exe', 'speed.exe']\n",
      "- D:GAMZZ\\Need for Speed - Most Wanted\\CARS\n",
      "📂 ['350Z', '911GT2', '911TURBO', '997S', 'A3', 'A4', 'BMWM3', 'BMWM3GTR', 'BMWM3GTRE46', 'BRAKES', 'CAMARO', 'CARRERAGT', 'CAYMANS', 'CEMTR', 'CLIO', 'CLK500', 'COBALTSS', 'COPGHOST', 'COPGTO', 'COPGTOGHOST', 'COPHELI', 'COPMIDSIZE', 'COPMIDSIZEINT', 'COPSPORT', 'COPSPORTGHOST', 'COPSPORTHENCH', 'COPSUV', 'COPSUVL', 'CORVETTE', 'CORVETTEC6R', 'CTS', 'DB9', 'ECLIPSEGT', 'ELISE', 'FORDGT', 'GALLARDO', 'GARB', 'GTI', 'GTO', 'IMPREZAWRX', 'IS300', 'LANCEREVO8', 'MINIVAN', 'MONARO', 'MURCIELAGO', 'MUSTANGGT', 'PICKUPA', 'PIZZA', 'PLATES', 'PUNTO', 'ROOF', 'RX7', 'RX8', 'RX8SPEEDT', 'SEMI', 'SL500', 'SL65', 'SLR', 'SPOILER', 'SPOILER_CARRERA', 'SPOILER_HATCH', 'SPOILER_PORSCHES', 'SUPRA', 'TAXI', 'TRAF4DSEDA', 'TRAF4DSEDB', 'TRAF4DSEDC', 'TRAFAMB', 'TRAFCAMPER', 'TRAFCEMTR', 'TRAFCOURT', 'TRAFDMPTR', 'TRAFFICCOUP', 'TRAFFIRE', 'TRAFGARB', 'TRAFHA', 'TRAFMINIVAN', 'TRAFNEWS', 'TRAFPICKUPA', 'TRAFPIZZA', 'TRAFSTWAG', 'TRAFSUVA', 'TRAFTAXI', 'TRAFVANB', 'TRAILERA', 'TRAILERB', 'TRAILERCMT', 'TRAILERCON', 'TRAILERCRATE', 'TRAILERLOG', 'TT', 'VIPER', 'WHEELS']\n",
      "📄 ['TEXTURES.BIN']\n",
      "- D:GAMZZ\\Need for Speed - Most Wanted\\CARS\\350Z\n",
      "📂 []\n",
      "📄 ['PREVINYL.BIN', 'VINYLS.BIN']\n",
      "- D:GAMZZ\\Need for Speed - Most Wanted\\CARS\\911GT2\n",
      "📂 []\n",
      "📄 ['GEOMETRY.BIN', 'PREVINYL.BIN', 'TEXTURES.BIN', 'VINYLS.BIN']\n",
      "- D:GAMZZ\\Need for Speed - Most Wanted\\CARS\\911TURBO\n",
      "📂 []\n",
      "📄 ['GEOMETRY.BIN', 'PREVINYL.BIN', 'TEXTURES.BIN', 'VINYLS.BIN']\n",
      "- D:GAMZZ\\Need for Speed - Most Wanted\\CARS\\997S\n",
      "📂 []\n",
      "📄 ['GEOMETRY.BIN', 'PREVINYL.BIN', 'TEXTURES.BIN', 'VINYLS.BIN']\n",
      "- D:GAMZZ\\Need for Speed - Most Wanted\\CARS\\A3\n",
      "📂 []\n",
      "📄 ['GEOMETRY.BIN', 'PREVINYL.BIN', 'TEXTURES.BIN', 'VINYLS.BIN']\n",
      "- D:GAMZZ\\Need for Speed - Most Wanted\\CARS\\A4\n",
      "📂 []\n",
      "📄 ['GEOMETRY.BIN', 'PREVINYL.BIN', 'TEXTURES.BIN', 'VINYLS.BIN']\n",
      "- D:GAMZZ\\Need for Speed - Most Wanted\\CARS\\BMWM3\n",
      "📂 []\n",
      "📄 ['GEOMETRY.BIN', 'PREVINYL.BIN', 'TEXTURES.BIN', 'VINYLS.BIN']\n",
      "- D:GAMZZ\\Need for Speed - Most Wanted\\CARS\\BMWM3GTR\n",
      "📂 []\n",
      "📄 ['GEOMETRY.BIN', 'PREVINYL.BIN', 'TEXTURES.BIN', 'VINYLS.BIN']\n",
      "- D:GAMZZ\\Need for Speed - Most Wanted\\CARS\\BMWM3GTRE46\n",
      "📂 []\n",
      "📄 ['GEOMETRY.BIN', 'PREVINYL.BIN', 'TEXTURES.BIN', 'VINYLS.BIN']\n",
      "- D:GAMZZ\\Need for Speed - Most Wanted\\CARS\\BRAKES\n",
      "📂 []\n",
      "📄 ['GEOMETRY.BIN', 'PREVINYL.BIN', 'TEXTURES.BIN', 'VINYLS.BIN']\n",
      "- D:GAMZZ\\Need for Speed - Most Wanted\\CARS\\CAMARO\n",
      "📂 []\n",
      "📄 ['GEOMETRY.BIN', 'PREVINYL.BIN', 'TEXTURES.BIN', 'VINYLS.BIN']\n",
      "- D:GAMZZ\\Need for Speed - Most Wanted\\CARS\\CARRERAGT\n",
      "📂 []\n",
      "📄 ['GEOMETRY.BIN', 'PREVINYL.BIN', 'TEXTURES.BIN', 'VINYLS.BIN']\n",
      "- D:GAMZZ\\Need for Speed - Most Wanted\\CARS\\CAYMANS\n",
      "📂 []\n",
      "📄 ['GEOMETRY.BIN', 'PREVINYL.BIN', 'TEXTURES.BIN', 'VINYLS.BIN']\n",
      "- D:GAMZZ\\Need for Speed - Most Wanted\\CARS\\CEMTR\n",
      "📂 []\n",
      "📄 ['GEOMETRY.BIN', 'PREVINYL.BIN', 'TEXTURES.BIN', 'VINYLS.BIN']\n",
      "- D:GAMZZ\\Need for Speed - Most Wanted\\CARS\\CLIO\n",
      "📂 []\n",
      "📄 ['GEOMETRY.BIN', 'PREVINYL.BIN', 'TEXTURES.BIN', 'VINYLS.BIN']\n",
      "- D:GAMZZ\\Need for Speed - Most Wanted\\CARS\\CLK500\n",
      "📂 []\n",
      "📄 ['GEOMETRY.BIN', 'PREVINYL.BIN', 'TEXTURES.BIN', 'VINYLS.BIN']\n",
      "- D:GAMZZ\\Need for Speed - Most Wanted\\CARS\\COBALTSS\n",
      "📂 []\n",
      "📄 ['GEOMETRY.BIN', 'PREVINYL.BIN', 'TEXTURES.BIN', 'VINYLS.BIN']\n",
      "- D:GAMZZ\\Need for Speed - Most Wanted\\CARS\\COPGHOST\n",
      "📂 []\n",
      "📄 ['GEOMETRY.BIN', 'PREVINYL.BIN', 'TEXTURES.BIN', 'VINYLS.BIN']\n",
      "- D:GAMZZ\\Need for Speed - Most Wanted\\CARS\\COPGTO\n",
      "📂 []\n",
      "📄 ['GEOMETRY.BIN', 'PREVINYL.BIN', 'TEXTURES.BIN', 'VINYLS.BIN']\n",
      "- D:GAMZZ\\Need for Speed - Most Wanted\\CARS\\COPGTOGHOST\n",
      "📂 []\n",
      "📄 ['GEOMETRY.BIN', 'PREVINYL.BIN', 'TEXTURES.BIN', 'VINYLS.BIN']\n",
      "- D:GAMZZ\\Need for Speed - Most Wanted\\CARS\\COPHELI\n",
      "📂 []\n",
      "📄 ['GEOMETRY.BIN', 'PREVINYL.BIN', 'TEXTURES.BIN', 'VINYLS.BIN']\n",
      "- D:GAMZZ\\Need for Speed - Most Wanted\\CARS\\COPMIDSIZE\n",
      "📂 []\n",
      "📄 ['GEOMETRY.BIN', 'PREVINYL.BIN', 'TEXTURES.BIN', 'VINYLS.BIN']\n",
      "- D:GAMZZ\\Need for Speed - Most Wanted\\CARS\\COPMIDSIZEINT\n",
      "📂 []\n",
      "📄 ['GEOMETRY.BIN', 'PREVINYL.BIN', 'TEXTURES.BIN', 'VINYLS.BIN']\n",
      "- D:GAMZZ\\Need for Speed - Most Wanted\\CARS\\COPSPORT\n",
      "📂 []\n",
      "📄 ['GEOMETRY.BIN', 'PREVINYL.BIN', 'TEXTURES.BIN', 'VINYLS.BIN']\n",
      "- D:GAMZZ\\Need for Speed - Most Wanted\\CARS\\COPSPORTGHOST\n",
      "📂 []\n",
      "📄 ['GEOMETRY.BIN', 'PREVINYL.BIN', 'TEXTURES.BIN', 'VINYLS.BIN']\n",
      "- D:GAMZZ\\Need for Speed - Most Wanted\\CARS\\COPSPORTHENCH\n",
      "📂 []\n",
      "📄 ['GEOMETRY.BIN', 'PREVINYL.BIN', 'TEXTURES.BIN', 'VINYLS.BIN']\n",
      "- D:GAMZZ\\Need for Speed - Most Wanted\\CARS\\COPSUV\n",
      "📂 []\n",
      "📄 ['GEOMETRY.BIN', 'PREVINYL.BIN', 'TEXTURES.BIN', 'VINYLS.BIN']\n",
      "- D:GAMZZ\\Need for Speed - Most Wanted\\CARS\\COPSUVL\n",
      "📂 []\n",
      "📄 ['GEOMETRY.BIN', 'PREVINYL.BIN', 'TEXTURES.BIN', 'VINYLS.BIN']\n",
      "- D:GAMZZ\\Need for Speed - Most Wanted\\CARS\\CORVETTE\n",
      "📂 []\n",
      "📄 ['GEOMETRY.BIN', 'PREVINYL.BIN', 'TEXTURES.BIN', 'VINYLS.BIN']\n",
      "- D:GAMZZ\\Need for Speed - Most Wanted\\CARS\\CORVETTEC6R\n",
      "📂 []\n",
      "📄 ['GEOMETRY.BIN', 'PREVINYL.BIN', 'TEXTURES.BIN', 'VINYLS.BIN']\n",
      "- D:GAMZZ\\Need for Speed - Most Wanted\\CARS\\CTS\n",
      "📂 []\n",
      "📄 ['GEOMETRY.BIN', 'PREVINYL.BIN', 'TEXTURES.BIN', 'VINYLS.BIN']\n",
      "- D:GAMZZ\\Need for Speed - Most Wanted\\CARS\\DB9\n",
      "📂 []\n",
      "📄 ['GEOMETRY.BIN', 'PREVINYL.BIN', 'TEXTURES.BIN', 'VINYLS.BIN']\n",
      "- D:GAMZZ\\Need for Speed - Most Wanted\\CARS\\ECLIPSEGT\n",
      "📂 []\n",
      "📄 ['GEOMETRY.BIN', 'PREVINYL.BIN', 'TEXTURES.BIN', 'VINYLS.BIN']\n",
      "- D:GAMZZ\\Need for Speed - Most Wanted\\CARS\\ELISE\n",
      "📂 []\n",
      "📄 ['GEOMETRY.BIN', 'PREVINYL.BIN', 'TEXTURES.BIN', 'VINYLS.BIN']\n",
      "- D:GAMZZ\\Need for Speed - Most Wanted\\CARS\\FORDGT\n",
      "📂 []\n",
      "📄 ['GEOMETRY.BIN', 'PREVINYL.BIN', 'TEXTURES.BIN', 'VINYLS.BIN']\n",
      "- D:GAMZZ\\Need for Speed - Most Wanted\\CARS\\GALLARDO\n",
      "📂 []\n",
      "📄 ['GEOMETRY.BIN', 'PREVINYL.BIN', 'TEXTURES.BIN', 'VINYLS.BIN']\n",
      "- D:GAMZZ\\Need for Speed - Most Wanted\\CARS\\GARB\n",
      "📂 []\n",
      "📄 ['GEOMETRY.BIN', 'PREVINYL.BIN', 'TEXTURES.BIN', 'VINYLS.BIN']\n",
      "- D:GAMZZ\\Need for Speed - Most Wanted\\CARS\\GTI\n",
      "📂 []\n",
      "📄 ['GEOMETRY.BIN', 'PREVINYL.BIN', 'TEXTURES.BIN', 'VINYLS.BIN']\n",
      "- D:GAMZZ\\Need for Speed - Most Wanted\\CARS\\GTO\n",
      "📂 []\n",
      "📄 ['GEOMETRY.BIN', 'PREVINYL.BIN', 'TEXTURES.BIN', 'VINYLS.BIN']\n",
      "- D:GAMZZ\\Need for Speed - Most Wanted\\CARS\\IMPREZAWRX\n",
      "📂 []\n",
      "📄 ['GEOMETRY.BIN', 'PREVINYL.BIN', 'TEXTURES.BIN', 'VINYLS.BIN']\n",
      "- D:GAMZZ\\Need for Speed - Most Wanted\\CARS\\IS300\n",
      "📂 []\n",
      "📄 ['GEOMETRY.BIN', 'PREVINYL.BIN', 'TEXTURES.BIN', 'VINYLS.BIN']\n",
      "- D:GAMZZ\\Need for Speed - Most Wanted\\CARS\\LANCEREVO8\n",
      "📂 []\n",
      "📄 ['GEOMETRY.BIN', 'PREVINYL.BIN', 'TEXTURES.BIN', 'VINYLS.BIN']\n",
      "- D:GAMZZ\\Need for Speed - Most Wanted\\CARS\\MINIVAN\n",
      "📂 []\n",
      "📄 ['GEOMETRY.BIN', 'PREVINYL.BIN', 'TEXTURES.BIN', 'VINYLS.BIN']\n",
      "- D:GAMZZ\\Need for Speed - Most Wanted\\CARS\\MONARO\n",
      "📂 []\n",
      "📄 ['GEOMETRY.BIN', 'PREVINYL.BIN', 'TEXTURES.BIN', 'VINYLS.BIN']\n",
      "- D:GAMZZ\\Need for Speed - Most Wanted\\CARS\\MURCIELAGO\n",
      "📂 []\n",
      "📄 ['GEOMETRY.BIN', 'PREVINYL.BIN', 'TEXTURES.BIN', 'VINYLS.BIN']\n",
      "- D:GAMZZ\\Need for Speed - Most Wanted\\CARS\\MUSTANGGT\n",
      "📂 []\n",
      "📄 ['GEOMETRY.BIN', 'PREVINYL.BIN', 'TEXTURES.BIN', 'VINYLS.BIN']\n",
      "- D:GAMZZ\\Need for Speed - Most Wanted\\CARS\\PICKUPA\n",
      "📂 []\n",
      "📄 ['GEOMETRY.BIN', 'PREVINYL.BIN', 'TEXTURES.BIN', 'VINYLS.BIN']\n",
      "- D:GAMZZ\\Need for Speed - Most Wanted\\CARS\\PIZZA\n",
      "📂 []\n",
      "📄 ['GEOMETRY.BIN', 'PREVINYL.BIN', 'TEXTURES.BIN', 'VINYLS.BIN']\n",
      "- D:GAMZZ\\Need for Speed - Most Wanted\\CARS\\PLATES\n",
      "📂 []\n",
      "📄 ['GEOMETRY.BIN', 'PREVINYL.BIN', 'TEXTURES.BIN', 'VINYLS.BIN']\n",
      "- D:GAMZZ\\Need for Speed - Most Wanted\\CARS\\PUNTO\n",
      "📂 []\n",
      "📄 ['GEOMETRY.BIN', 'PREVINYL.BIN', 'TEXTURES.BIN', 'VINYLS.BIN']\n",
      "- D:GAMZZ\\Need for Speed - Most Wanted\\CARS\\ROOF\n",
      "📂 []\n",
      "📄 ['GEOMETRY.BIN', 'PREVINYL.BIN', 'TEXTURES.BIN', 'VINYLS.BIN']\n",
      "- D:GAMZZ\\Need for Speed - Most Wanted\\CARS\\RX7\n",
      "📂 []\n",
      "📄 ['GEOMETRY.BIN', 'PREVINYL.BIN', 'TEXTURES.BIN', 'VINYLS.BIN']\n",
      "- D:GAMZZ\\Need for Speed - Most Wanted\\CARS\\RX8\n",
      "📂 []\n",
      "📄 ['GEOMETRY.BIN', 'PREVINYL.BIN', 'TEXTURES.BIN', 'VINYLS.BIN']\n",
      "- D:GAMZZ\\Need for Speed - Most Wanted\\CARS\\RX8SPEEDT\n",
      "📂 []\n",
      "📄 ['GEOMETRY.BIN', 'PREVINYL.BIN', 'TEXTURES.BIN', 'VINYLS.BIN']\n",
      "- D:GAMZZ\\Need for Speed - Most Wanted\\CARS\\SEMI\n",
      "📂 []\n",
      "📄 ['GEOMETRY.BIN', 'TEXTURES.BIN', 'VINYLS.BIN']\n",
      "- D:GAMZZ\\Need for Speed - Most Wanted\\CARS\\SL500\n",
      "📂 []\n",
      "📄 ['GEOMETRY.BIN', 'PREVINYL.BIN', 'TEXTURES.BIN', 'VINYLS.BIN']\n",
      "- D:GAMZZ\\Need for Speed - Most Wanted\\CARS\\SL65\n",
      "📂 []\n",
      "📄 ['GEOMETRY.BIN', 'PREVINYL.BIN', 'TEXTURES.BIN', 'VINYLS.BIN']\n",
      "- D:GAMZZ\\Need for Speed - Most Wanted\\CARS\\SLR\n",
      "📂 []\n",
      "📄 ['GEOMETRY.BIN', 'PREVINYL.BIN', 'TEXTURES.BIN', 'VINYLS.BIN']\n",
      "- D:GAMZZ\\Need for Speed - Most Wanted\\CARS\\SPOILER\n",
      "📂 []\n",
      "📄 ['GEOMETRY.BIN', 'PREVINYL.BIN', 'TEXTURES.BIN', 'VINYLS.BIN']\n",
      "- D:GAMZZ\\Need for Speed - Most Wanted\\CARS\\SPOILER_CARRERA\n",
      "📂 []\n",
      "📄 ['GEOMETRY.BIN', 'PREVINYL.BIN', 'TEXTURES.BIN', 'VINYLS.BIN']\n",
      "- D:GAMZZ\\Need for Speed - Most Wanted\\CARS\\SPOILER_HATCH\n",
      "📂 []\n",
      "📄 ['GEOMETRY.BIN', 'PREVINYL.BIN', 'TEXTURES.BIN', 'VINYLS.BIN']\n",
      "- D:GAMZZ\\Need for Speed - Most Wanted\\CARS\\SPOILER_PORSCHES\n",
      "📂 []\n",
      "📄 ['GEOMETRY.BIN', 'PREVINYL.BIN', 'TEXTURES.BIN', 'VINYLS.BIN']\n",
      "- D:GAMZZ\\Need for Speed - Most Wanted\\CARS\\SUPRA\n",
      "📂 []\n",
      "📄 ['GEOMETRY.BIN', 'PREVINYL.BIN', 'TEXTURES.BIN', 'VINYLS.BIN']\n",
      "- D:GAMZZ\\Need for Speed - Most Wanted\\CARS\\TAXI\n",
      "📂 []\n",
      "📄 ['GEOMETRY.BIN', 'PREVINYL.BIN', 'TEXTURES.BIN', 'VINYLS.BIN']\n",
      "- D:GAMZZ\\Need for Speed - Most Wanted\\CARS\\TRAF4DSEDA\n",
      "📂 []\n",
      "📄 ['GEOMETRY.BIN', 'TEXTURES.BIN', 'VINYLS.BIN']\n",
      "- D:GAMZZ\\Need for Speed - Most Wanted\\CARS\\TRAF4DSEDB\n",
      "📂 []\n",
      "📄 ['GEOMETRY.BIN', 'TEXTURES.BIN', 'VINYLS.BIN']\n",
      "- D:GAMZZ\\Need for Speed - Most Wanted\\CARS\\TRAF4DSEDC\n",
      "📂 []\n",
      "📄 ['GEOMETRY.BIN', 'TEXTURES.BIN', 'VINYLS.BIN']\n",
      "- D:GAMZZ\\Need for Speed - Most Wanted\\CARS\\TRAFAMB\n",
      "📂 []\n",
      "📄 ['GEOMETRY.BIN', 'TEXTURES.BIN', 'VINYLS.BIN']\n",
      "- D:GAMZZ\\Need for Speed - Most Wanted\\CARS\\TRAFCAMPER\n",
      "📂 []\n",
      "📄 ['GEOMETRY.BIN', 'TEXTURES.BIN', 'VINYLS.BIN']\n",
      "- D:GAMZZ\\Need for Speed - Most Wanted\\CARS\\TRAFCEMTR\n",
      "📂 []\n",
      "📄 ['GEOMETRY.BIN', 'TEXTURES.BIN', 'VINYLS.BIN']\n",
      "- D:GAMZZ\\Need for Speed - Most Wanted\\CARS\\TRAFCOURT\n",
      "📂 []\n",
      "📄 ['GEOMETRY.BIN', 'TEXTURES.BIN', 'VINYLS.BIN']\n",
      "- D:GAMZZ\\Need for Speed - Most Wanted\\CARS\\TRAFDMPTR\n",
      "📂 []\n",
      "📄 ['GEOMETRY.BIN', 'TEXTURES.BIN', 'VINYLS.BIN']\n",
      "- D:GAMZZ\\Need for Speed - Most Wanted\\CARS\\TRAFFICCOUP\n",
      "📂 []\n",
      "📄 ['GEOMETRY.BIN', 'TEXTURES.BIN', 'VINYLS.BIN']\n",
      "- D:GAMZZ\\Need for Speed - Most Wanted\\CARS\\TRAFFIRE\n",
      "📂 []\n",
      "📄 ['GEOMETRY.BIN', 'TEXTURES.BIN', 'VINYLS.BIN']\n",
      "- D:GAMZZ\\Need for Speed - Most Wanted\\CARS\\TRAFGARB\n",
      "📂 []\n",
      "📄 ['GEOMETRY.BIN', 'TEXTURES.BIN', 'VINYLS.BIN']\n",
      "- D:GAMZZ\\Need for Speed - Most Wanted\\CARS\\TRAFHA\n",
      "📂 []\n",
      "📄 ['GEOMETRY.BIN', 'TEXTURES.BIN', 'VINYLS.BIN']\n",
      "- D:GAMZZ\\Need for Speed - Most Wanted\\CARS\\TRAFMINIVAN\n",
      "📂 []\n",
      "📄 ['GEOMETRY.BIN', 'TEXTURES.BIN', 'VINYLS.BIN']\n",
      "- D:GAMZZ\\Need for Speed - Most Wanted\\CARS\\TRAFNEWS\n",
      "📂 []\n",
      "📄 ['GEOMETRY.BIN', 'TEXTURES.BIN', 'VINYLS.BIN']\n",
      "- D:GAMZZ\\Need for Speed - Most Wanted\\CARS\\TRAFPICKUPA\n",
      "📂 []\n",
      "📄 ['GEOMETRY.BIN', 'TEXTURES.BIN', 'VINYLS.BIN']\n",
      "- D:GAMZZ\\Need for Speed - Most Wanted\\CARS\\TRAFPIZZA\n",
      "📂 []\n",
      "📄 ['GEOMETRY.BIN', 'TEXTURES.BIN', 'VINYLS.BIN']\n",
      "- D:GAMZZ\\Need for Speed - Most Wanted\\CARS\\TRAFSTWAG\n",
      "📂 []\n",
      "📄 ['GEOMETRY.BIN', 'TEXTURES.BIN', 'VINYLS.BIN']\n",
      "- D:GAMZZ\\Need for Speed - Most Wanted\\CARS\\TRAFSUVA\n",
      "📂 []\n",
      "📄 ['GEOMETRY.BIN', 'TEXTURES.BIN', 'VINYLS.BIN']\n",
      "- D:GAMZZ\\Need for Speed - Most Wanted\\CARS\\TRAFTAXI\n",
      "📂 []\n",
      "📄 ['GEOMETRY.BIN', 'TEXTURES.BIN', 'VINYLS.BIN']\n",
      "- D:GAMZZ\\Need for Speed - Most Wanted\\CARS\\TRAFVANB\n",
      "📂 []\n",
      "📄 ['GEOMETRY.BIN', 'TEXTURES.BIN', 'VINYLS.BIN']\n",
      "- D:GAMZZ\\Need for Speed - Most Wanted\\CARS\\TRAILERA\n",
      "📂 []\n",
      "📄 ['GEOMETRY.BIN', 'TEXTURES.BIN', 'VINYLS.BIN']\n",
      "- D:GAMZZ\\Need for Speed - Most Wanted\\CARS\\TRAILERB\n",
      "📂 []\n",
      "📄 ['GEOMETRY.BIN', 'TEXTURES.BIN', 'VINYLS.BIN']\n",
      "- D:GAMZZ\\Need for Speed - Most Wanted\\CARS\\TRAILERCMT\n",
      "📂 []\n",
      "📄 ['GEOMETRY.BIN', 'TEXTURES.BIN', 'VINYLS.BIN']\n",
      "- D:GAMZZ\\Need for Speed - Most Wanted\\CARS\\TRAILERCON\n",
      "📂 []\n",
      "📄 ['GEOMETRY.BIN', 'TEXTURES.BIN', 'VINYLS.BIN']\n",
      "- D:GAMZZ\\Need for Speed - Most Wanted\\CARS\\TRAILERCRATE\n",
      "📂 []\n",
      "📄 ['GEOMETRY.BIN', 'TEXTURES.BIN', 'VINYLS.BIN']\n",
      "- D:GAMZZ\\Need for Speed - Most Wanted\\CARS\\TRAILERLOG\n",
      "📂 []\n",
      "📄 ['GEOMETRY.BIN', 'TEXTURES.BIN', 'VINYLS.BIN']\n",
      "- D:GAMZZ\\Need for Speed - Most Wanted\\CARS\\TT\n",
      "📂 []\n",
      "📄 ['GEOMETRY.BIN', 'PREVINYL.BIN', 'TEXTURES.BIN', 'VINYLS.BIN']\n",
      "- D:GAMZZ\\Need for Speed - Most Wanted\\CARS\\VIPER\n",
      "📂 []\n",
      "📄 ['GEOMETRY.BIN', 'PREVINYL.BIN', 'TEXTURES.BIN', 'VINYLS.BIN']\n",
      "- D:GAMZZ\\Need for Speed - Most Wanted\\CARS\\WHEELS\n",
      "📂 []\n",
      "📄 ['GEOMETRY.BIN', 'PREVINYL.BIN', 'TEXTURES.BIN', 'VINYLS.BIN']\n",
      "- D:GAMZZ\\Need for Speed - Most Wanted\\CREDITS\n",
      "📂 []\n",
      "📄 ['NA_ENGLISH.TXT', 'UK_ENGLISH.TXT']\n",
      "- D:GAMZZ\\Need for Speed - Most Wanted\\FRONTEND\n",
      "📂 ['PLATFORMS']\n",
      "📄 ['DEMO_FRONTEND.BUN', 'FRONTA.BUN', 'FrontB.lzc']\n",
      "- D:GAMZZ\\Need for Speed - Most Wanted\\FRONTEND\\PLATFORMS\n",
      "📂 []\n",
      "📄 ['CAREER_SAFEHOUSE.BIN', 'CAR_LOT.BIN', 'CUSTOMIZATION_SHOP.BIN', 'CUSTOMIZATION_SHOP_BACKROOM.BIN', 'NextGenSky.BIN', 'PlatformCrib.BIN']\n",
      "- D:GAMZZ\\Need for Speed - Most Wanted\\GLOBAL\n",
      "📂 []\n",
      "📄 ['attributes.bin', 'CardTextures.bin', 'DEMO_GLOBAL.BUN', 'DEMO_MARKETING.BUN', 'DYNTEX.BIN', 'FE_ATTRIB.bin', 'FrontEndMemoryFile.bin', 'gameplay.bin', 'gameplay.lzc', 'GLOBALA.BUN', 'GLOBALB.BUN', 'GlobalB.lzc', 'GlobalMemoryFile.bin', 'HUDS_Custom_00.bin', 'HUDS_Custom_01.bin', 'HUDS_Custom_02.bin', 'HUDS_Custom_03.bin', 'HUDS_Custom_04.bin', 'HUDS_Custom_05.bin', 'HUDS_Custom_06.bin', 'HUDS_Custom_07.bin', 'HUDS_Custom_08.bin', 'HUDS_Custom_09.bin', 'HUDS_Custom_10.bin', 'HUDTEXDRAG.BIN', 'HUDTEXDRAGSPLIT.BIN', 'HUDTEXRACE.BIN', 'HUDTEXSPLIT.BIN', 'HUDTEXTURESPHOTOFINISH.BIN', 'InGameA.bun', 'InGameB.bun', 'InGameB.lzc', 'INGAMEC.BUN', 'InGameMemoryFile.bin', 'InGameSplitScreen.bun', 'PermanentMemoryFile.bin', 'RIVALS.BIN', 'THINSCREEN_GLOBAL.BUN', 'WIDESCREEN_GLOBAL.BUN']\n",
      "- D:GAMZZ\\Need for Speed - Most Wanted\\LANGUAGES\n",
      "📂 []\n",
      "📄 ['agree.eng', 'agree.usa', 'English.bin', 'Labels.bin', 'LanguageTextures.bin', 'Largest.bin']\n",
      "- D:GAMZZ\\Need for Speed - Most Wanted\\MEMCARD\n",
      "📂 []\n",
      "📄 ['LOCALE_ENGLISH.loc', 'LOCALE_RUSSIAN.loc']\n",
      "- D:GAMZZ\\Need for Speed - Most Wanted\\MOVIES\n",
      "📂 []\n",
      "📄 ['attract_movie_english_ntsc.vp6', 'blacklist_01_english_ntsc.vp6', 'blacklist_02_english_ntsc.vp6', 'blacklist_03_english_ntsc.vp6', 'blacklist_04_english_ntsc.vp6', 'blacklist_05_english_ntsc.vp6', 'blacklist_06_english_ntsc.vp6', 'blacklist_07_english_ntsc.vp6', 'blacklist_08_english_ntsc.vp6', 'blacklist_09_english_ntsc.vp6', 'blacklist_10_english_ntsc.vp6', 'blacklist_11_english_ntsc.vp6', 'blacklist_12_english_ntsc.vp6', 'blacklist_13_english_ntsc.vp6', 'blacklist_14_english_ntsc.vp6', 'blacklist_15_english_ntsc.vp6', 'bounty_tutorial_english_ntsc.vp6', 'drag_tutorial_english_ntsc.vp6', 'ealogo_english_ntsc.vp6', 'psa_english_ntsc.vp6', 'pursuit_tutorial_english_ntsc.vp6', 'speedtrap_tutorial_english_ntsc.vp6', 'storyfmv_bla134_english_ntsc.vp6', 'storyfmv_bus12_english_ntsc.vp6', 'storyfmv_cro06_coh06a_english_ntsc.vp6', 'storyfmv_her136_english_ntsc.vp6', 'storyfmv_pin11_english_ntsc.vp6', 'storyfmv_rac01_english_ntsc.vp6', 'storyfmv_rap30_english_ntsc.vp6', 'storyfmv_raz08_english_ntsc.vp6', 'storyfmv_saf25_english_ntsc.vp6', 'tollbooth_tutorial_english_ntsc.vp6']\n",
      "- D:GAMZZ\\Need for Speed - Most Wanted\\NIS\n",
      "📂 []\n",
      "📄 ['Scene_ArrestF02b_BundleB.bun', 'Scene_ArrestF02_BundleB.bun', 'Scene_ArrestF06b_BundleB.bun', 'Scene_ArrestF06_BundleB.bun', 'Scene_ArrestF07b_BundleB.bun', 'Scene_ArrestF07_BundleB.bun', 'Scene_ArrestF14b_BundleB.bun', 'Scene_ArrestF14_BundleB.bun', 'Scene_ArrestF18b_BundleB.bun', 'Scene_ArrestF18_BundleB.bun', 'Scene_ArrestF23b_BundleB.bun', 'Scene_ArrestF23_BundleB.bun', 'Scene_ArrestM01b_BundleB.bun', 'Scene_ArrestM01_BundleB.bun', 'Scene_ArrestM04b_BundleB.bun', 'Scene_ArrestM04_BundleB.bun', 'Scene_ArrestM06b_BundleB.bun', 'Scene_ArrestM06_BundleB.bun', 'Scene_ArrestM07b_BundleB.bun', 'Scene_ArrestM07_BundleB.bun', 'Scene_ArrestM14b_BundleB.bun', 'Scene_ArrestM14_BundleB.bun', 'Scene_ArrestM16b_BundleB.bun', 'Scene_ArrestM16_BundleB.bun', 'Scene_ArrestM19b_BundleB.bun', 'Scene_ArrestM19_BundleB.bun', 'Scene_EndingNis03_BundleB.bun', 'Scene_EndingNis04_BundleB.bun', 'Scene_Flythrough_BundleB.bun', 'Scene_FMV17to21_BundleB.bun', 'Scene_FMV20T1_BundleB.bun', 'Scene_FMVBLIntro_BundleB.bun', 'Scene_FMVNoCars_BundleB.bun', 'Scene_FMVPIN11X06_BundleB.bun', 'Scene_FMVPSA_BundleB.bun', 'Scene_FMVroc02_BundleB.bun', 'Scene_FMVTest_BundleB.bun', 'Scene_GenericStart_BundleB.bun', 'Scene_IntroNis01_BundleB.bun', 'Scene_IntroNis02_BundleB.bun', 'Scene_IntroNis03_BundleB.bun', 'Scene_IntroNis04_BundleB.bun', 'Scene_IntroNis05_BundleB.bun', 'Scene_IntroNis06_BundleB.bun', 'Scene_IntroNis07_BundleB.bun', 'Scene_IntroNis08_BundleB.bun', 'Scene_IntroNis09_BundleB.bun', 'Scene_IntroNis10_BundleB.bun', 'Scene_IntroNisBL01_BundleB.bun', 'Scene_IntroNisBL02_BundleB.bun', 'Scene_IntroNisBL03_BundleB.bun', 'Scene_IntroNisBL04_BundleB.bun', 'Scene_IntroNisBL05_BundleB.bun', 'Scene_IntroNisBL06End_BundleB.bun', 'Scene_IntroNisBL06_BundleB.bun', 'Scene_IntroNisBL07End_BundleB.bun', 'Scene_IntroNisBL07_BundleB.bun', 'Scene_IntroNisBL08_BundleB.bun', 'Scene_IntroNisBL09_BundleB.bun', 'Scene_IntroNisBL10_BundleB.bun', 'Scene_IntroNisBL11_BundleB.bun', 'Scene_IntroNisBL12_BundleB.bun', 'Scene_IntroNisBL13_BundleB.bun', 'Scene_IntroNisBL14_BundleB.bun', 'Scene_IntroNisBL15_BundleB.bun', 'Scene_IntroNisBL16_BundleB.bun', 'Scene_IntroNisDDEnd_BundleB.bun', 'Scene_IntroNisDD_BundleB.bun', 'Scene_IntroNisToll01_BundleB.bun', 'Scene_ReplayBurnout_BundleB.bun', 'Scene_ReplayCorner_BundleB.bun', 'Scene_ReplaySlide_BundleB.bun', 'Scene_ReplaySpeed_BundleB.bun', 'Scene_WMAmphitheatre_BundleB.bun', 'Scene_WMBoat_BundleB.bun', 'Scene_WMConsScaffold_BundleB.bun', 'Scene_WMDriveIn_BundleB.bun', 'Scene_WMFishingHouse_BundleB.bun', 'Scene_WMGasStation_BundleB.bun', 'Scene_WMGate_BundleB.bun', 'Scene_WMPoliceGround_BundleB.bun', 'Scene_WMPorch_BundleB.bun', 'Scene_WMRadioTower_BundleB.bun', 'Scene_WMStripMall_BundleB.bun', 'Scene_WMTorusRoofShop_BundleB.bun', 'Scene_WMTrailerPark_BundleB.bun', 'Scene_WMWaterTower_BundleB.bun']\n",
      "- D:GAMZZ\\Need for Speed - Most Wanted\\scripts\n",
      "📂 []\n",
      "📄 ['NFSMW2005_widescreen_fix.asi', 'nfsmw_res.ini']\n",
      "- D:GAMZZ\\Need for Speed - Most Wanted\\SOUND\n",
      "📂 ['ENGINE', 'EVT_SYS', 'FE', 'FXEDIT', 'GLOBAL', 'IG_GLOBAL', 'MIXMAPS', 'NISREVDATA', 'NOS', 'PFDATA', 'SHIFTING', 'SKIDS', 'SPEECH', 'STREAMS', 'TURBO']\n",
      "📄 []\n",
      "- D:GAMZZ\\Need for Speed - Most Wanted\\SOUND\\ENGINE\n",
      "📂 []\n",
      "📄 ['CAR_00_ENG_MB_EE.abk', 'CAR_00_ENG_MB_SPU.abk', 'CAR_01_ENG_MB_EE.abk', 'CAR_01_ENG_MB_SPU.abk', 'CAR_02_ENG_MB_EE.abk', 'CAR_02_ENG_MB_SPU.abk', 'CAR_03_ENG_MB_EE.abk', 'CAR_03_ENG_MB_SPU.abk', 'CAR_04_ENG_MB_EE.abk', 'CAR_04_ENG_MB_SPU.abk', 'CAR_05_ENG_MB_EE.abk', 'CAR_05_ENG_MB_SPU.abk', 'CAR_06_ENG_MB_EE.abk', 'CAR_06_ENG_MB_SPU.abk', 'CAR_07_ENG_MB_EE.abk', 'CAR_07_ENG_MB_SPU.abk', 'CAR_08_ENG_MB_EE.abk', 'CAR_08_ENG_MB_SPU.abk', 'CAR_09_ENG_MB_EE.abk', 'CAR_09_ENG_MB_SPU.abk', 'CAR_10_ENG_MB_EE.abk', 'CAR_10_ENG_MB_SPU.abk', 'CAR_11_ENG_MB_EE.abk', 'CAR_11_ENG_MB_SPU.abk', 'CAR_12_ENG_MB_EE.abk', 'CAR_12_ENG_MB_SPU.abk', 'CAR_13_ENG_MB_EE.abk', 'CAR_13_ENG_MB_SPU.abk', 'CAR_14_ENG_MB_EE.abk', 'CAR_14_ENG_MB_SPU.abk', 'CAR_15_ENG_MB_EE.abk', 'CAR_15_ENG_MB_SPU.abk', 'CAR_16_ENG_MB_EE.abk', 'CAR_16_ENG_MB_SPU.abk', 'CAR_17_ENG_MB_EE.abk', 'CAR_17_ENG_MB_SPU.abk', 'CAR_18_ENG_MB_EE.abk', 'CAR_18_ENG_MB_SPU.abk', 'CAR_19_ENG_MB_EE.abk', 'CAR_19_ENG_MB_SPU.abk', 'CAR_20_ENG_MB_EE.abk', 'CAR_20_ENG_MB_SPU.abk', 'CAR_21_ENG_MB_EE.abk', 'CAR_21_ENG_MB_SPU.abk', 'CAR_22_ENG_MB_EE.abk', 'CAR_22_ENG_MB_SPU.abk', 'CAR_23_ENG_MB_EE.abk', 'CAR_23_ENG_MB_SPU.abk', 'CAR_24_ENG_MB_EE.abk', 'CAR_24_ENG_MB_SPU.abk', 'CAR_25_ENG_MB_EE.abk', 'CAR_25_ENG_MB_SPU.abk', 'CAR_26_ENG_MB_EE.abk', 'CAR_26_ENG_MB_SPU.abk', 'CAR_27_ENG_MB_EE.abk', 'CAR_27_ENG_MB_SPU.abk', 'CAR_28_ENG_MB_EE.abk', 'CAR_28_ENG_MB_SPU.abk', 'CAR_29_ENG_MB_EE.abk', 'CAR_29_ENG_MB_SPU.abk', 'CAR_30_ENG_MB_EE.abk', 'CAR_30_ENG_MB_SPU.abk', 'CAR_31_ENG_MB_EE.abk', 'CAR_31_ENG_MB_SPU.abk', 'CAR_32_ENG_MB_EE.abk', 'CAR_32_ENG_MB_SPU.abk', 'CAR_33_ENG_MB_EE.abk', 'CAR_33_ENG_MB_SPU.abk', 'CAR_34_ENG_MB_EE.abk', 'CAR_34_ENG_MB_SPU.abk', 'CAR_35_ENG_MB_EE.abk', 'CAR_35_ENG_MB_SPU.abk', 'CAR_36_ENG_MB_EE.abk', 'CAR_36_ENG_MB_SPU.abk', 'CAR_37_ENG_MB_EE.abk', 'CAR_37_ENG_MB_SPU.abk', 'CAR_38_ENG_MB_EE.abk', 'CAR_38_ENG_MB_SPU.abk', 'CAR_39_ENG_MB_EE.abk', 'CAR_39_ENG_MB_SPU.abk', 'CAR_40_ENG_MB_EE.abk', 'CAR_40_ENG_MB_SPU.abk', 'CAR_41_ENG_MB_EE.abk', 'CAR_41_ENG_MB_SPU.abk', 'CAR_42_ENG_MB_EE.abk', 'CAR_42_ENG_MB_SPU.abk', 'CAR_43_ENG_MB_EE.abk', 'CAR_43_ENG_MB_SPU.abk', 'CAR_44_ENG_MB_EE.abk', 'CAR_44_ENG_MB_SPU.abk', 'CAR_45_ENG_MB_EE.abk', 'CAR_45_ENG_MB_SPU.abk', 'CAR_46_ENG_MB_EE.abk', 'CAR_46_ENG_MB_SPU.abk', 'CAR_47_ENG_MB_EE.abk', 'CAR_47_ENG_MB_SPU.abk', 'CAR_48_ENG_MB_EE.abk', 'CAR_48_ENG_MB_SPU.abk', 'CAR_49_ENG_MB_EE.abk', 'CAR_49_ENG_MB_SPU.abk', 'CAR_50_ENG_MB_EE.abk', 'CAR_50_ENG_MB_SPU.abk', 'CAR_51_ENG_MB_EE.abk', 'CAR_51_ENG_MB_SPU.abk', 'CAR_52_ENG_MB_EE.abk', 'CAR_52_ENG_MB_SPU.abk', 'CAR_53_ENG_MB_EE.abk', 'CAR_53_ENG_MB_SPU.abk', 'CAR_54_ENG_MB_EE.abk', 'CAR_54_ENG_MB_SPU.abk', 'CAR_55_ENG_MB_EE.abk', 'CAR_55_ENG_MB_SPU.abk', 'CAR_56_ENG_MB_EE.abk', 'CAR_56_ENG_MB_SPU.abk', 'CAR_57_ENG_MB_EE.abk', 'CAR_57_ENG_MB_SPU.abk', 'CAR_58_ENG_MB_EE.abk', 'CAR_58_ENG_MB_SPU.abk', 'CAR_59_ENG_MB_EE.abk', 'CAR_59_ENG_MB_SPU.abk', 'CAR_60_ENG_MB_EE.abk', 'CAR_60_ENG_MB_SPU.abk', 'CAR_61_ENG_MB_EE.abk', 'CAR_61_ENG_MB_SPU.abk', 'CAR_62_ENG_MB_EE.abk', 'CAR_62_ENG_MB_SPU.abk', 'CAR_63_ENG_MB_EE.abk', 'CAR_63_ENG_MB_SPU.abk', 'CAR_64_ENG_MB_EE.abk', 'CAR_64_ENG_MB_SPU.abk', 'CAR_65_ENG_MB_EE.abk', 'CAR_65_ENG_MB_SPU.abk', 'CAR_66_ENG_MB_EE.abk', 'CAR_66_ENG_MB_SPU.abk', 'CAR_67_ENG_MB_EE.abk', 'CAR_67_ENG_MB_SPU.abk', 'CAR_68_ENG_MB_EE.abk', 'CAR_68_ENG_MB_SPU.abk', 'CAR_69_ENG_MB_EE.abk', 'CAR_69_ENG_MB_SPU.abk', 'CAR_70_ENG_MB_EE.abk', 'CAR_70_ENG_MB_SPU.abk', 'CAR_71_ENG_MB_EE.abk', 'CAR_71_ENG_MB_SPU.abk', 'CAR_72_ENG_MB_EE.abk', 'CAR_72_ENG_MB_SPU.abk', 'CAR_73_ENG_MB_EE.abk', 'CAR_73_ENG_MB_SPU.abk', 'CAR_74_ENG_MB_EE.abk', 'CAR_74_ENG_MB_SPU.abk', 'CAR_75_ENG_MB_EE.abk', 'CAR_75_ENG_MB_SPU.abk', 'CAR_99_ENG_MB_EE.abk', 'CAR_99_ENG_MB_SPU.abk', 'CAR_TRANNY.abk', 'CAR_WHINE_00.abk', 'GIN_240SX_Decel.gin', 'GIN_300ZX_DCL.gin', 'GIN_350Z_01d_shrt2.gin', 'GIN_350Z_Jason_shrt2.gin', 'GIN_Acura_ITR.gin', 'GIN_Acura_ITR_DCL.gin', 'GIN_Audi_S4.gin', 'GIN_Audi_S4_DCL.gin', 'GIN_BMW_328i_e46.gin', 'GIN_BMW_328i_e46_DCL.gin', 'GIN_BMW_450i.gin', 'GIN_BMW_450i_DCL.gin', 'GIN_BMW_M3.gin', 'GIN_BMW_M3_DCL.gin', 'GIN_BMW_M3_LagSeca.gin', 'GIN_BMW_M3_LagSeca_V2.gin', 'GIN_BMW_M3_LagSeca_V2_DCL.gin', 'GIN_BMW_M3_race.gin', 'GIN_BMW_M3_race_DCL.gin', 'GIN_BMW_M3_Silver.gin', 'GIN_BMW_M3_Silver_DCL.gin', 'GIN_BMW_M3_white.gin', 'GIN_BMW_M3_white_DCL.gin', 'GIN_BMW_M5.gin', 'GIN_BMW_M5_DCL.gin', 'GIN_Bronco_Comp.gin', 'GIN_Bronco_DCL.gin', 'GIN_Cavel_DCL.gin', 'GIN_Cavel_v1_Base.gin', 'GIN_Cavel_v1_Lev1.gin', 'GIN_Corvette_Z06.gin', 'GIN_Corvette_Z06_DCL.gin', 'GIN_Corv_z06_dyn.gin', 'GIN_Corv_z06_dyn_DCL.gin', 'GIN_DB9.gin', 'GIN_DB9_DCL.gin', 'GIN_DB9_upgrd.gin', 'GIN_DB9_upgrd_DCL.gin', 'GIN_Diablo.gin', 'GIN_Diablo_DCL.gin', 'GIN_Eclip2000_v1_CD.gin', 'GIN_Eclipse_2000_DCL.gin', 'GIN_Eclipse_5Zigen.gin', 'GIN_Ferrari_360.gin', 'GIN_Ferrari_360_DCL.gin', 'GIN_FordFocus_comp2.gin', 'GIN_FordFocus_Road.gin', 'GIN_Ford_Focus2_DCL.gin', 'GIN_G35_350ZX_Comp_v2_AB.gin', 'GIN_G35_Ramp_v1_CD.gin', 'GIN_Gallardo.gin', 'GIN_Gallardo_DCL.gin', 'GIN_GTi_01b_DCL.gin', 'GIN_GTi_Pull_01b_shrt.gin', 'GIN_GTO_65.gin', 'GIN_GTO_65_DCL.gin', 'GIN_HondaS2000_Church.gin', 'GIN_Honda_Prelude.gin', 'GIN_Honda_Prelude_DCL.gin', 'GIN_Honda_S2000_2f2f_DCL.gin', 'GIN_Honda_S2000_5zigen.gin', 'GIN_Honda_S2000_5zigen_DCL.gin', 'GIN_Honda_S2000_APEX.gin', 'GIN_HONDA_S2000_Apex_DCL.gin', 'GIN_Honda_S2000_spliced.gin', 'GIN_Honda_S2000_Spugen.gin', 'GIN_Honda_S2000_Spugen_DCL.gin', 'GIN_Hummer.gin', 'GIN_Infinit_G35_DCL.gin', 'GIN_ITR_Pull_01cc_shrt.gin', 'GIN_Lotus_Elise.gin', 'GIN_Lotus_Elise_DCL.gin', 'GIN_Mazda_Miata.gin', 'GIN_Mazda_Miata_DCL.gin', 'GIN_Mazda_RX7.gin', 'GIN_Mazda_RX7_DCL.gin', 'GIN_Mazda_RX8_DCL.gin', 'GIN_MBZ_CL55.gin', 'GIN_MBZ_CL55_Dcl.gin', 'GIN_MBZ_CLK500.gin', 'GIN_MBZ_CLK500_Dcl.gin', 'GIN_MBZ_SL65.gin', 'GIN_MBZ_SL65_DCL.gin', 'GIN_MBZ_SLR.gin', 'GIN_MBZ_SLR_DCL.gin', 'GIN_MitsEclipse_2000.gin', 'GIN_Mits_5zigen_DCL.gin', 'GIN_Murcielago.gin', 'GIN_Murcielago_DCL.gin', 'GIN_Mustang_Drag.gin', 'GIN_Mustang_Drag_DCL.gin', 'GIN_Mustang_GT_A.gin', 'GIN_Mustang_GT_A_DCL.gin', 'GIN_Mustang_GT_B.gin', 'GIN_Mustang_GT_B_DCL.gin', 'GIN_Mustang_GT_C.gin', 'GIN_Mustang_GT_C_DCL.gin', 'GIN_Mustang_Nscr_COMP.gin', 'GIN_Mustang_Saleen_DCL.gin', 'GIN_MustSal_Ramp_V2_CD.gin', 'GIN_Nascar_DCL.gin', 'GIN_Nissan_240SX.gin', 'GIN_Nissan_300ZX_Street.gin', 'GIN_Nissan_350ZX_Jason_DCL.gin', 'GIN_Nissan_Skyline.gin', 'GIN_Porsche_Cayenne.gin', 'GIN_Porsche_Cayenne_DCL.gin', 'GIN_POR_911_CupCar.gin', 'GIN_POR_911_CupCar_DCL.gin', 'GIN_POR_911_RSR_orange.gin', 'GIN_POR_911_RSR_orange_DCL.gin', 'GIN_POR_928.gin', 'GIN_POR_928_DCL.gin', 'GIN_POR_928_V8.gin', 'GIN_POR_996.gin', 'GIN_POR_996_DCL.gin', 'GIN_POR_Carrera_GT.gin', 'GIN_POR_Carrera_GT_DCL.gin', 'GIN_POR_DP6.gin', 'GIN_POR_DP6_DCL.gin', 'GIN_POR_GT4R.gin', 'GIN_POR_GT4R_DCL.gin', 'GIN_Protege_Lev2_DCL.gin', 'GIN_Protege_Ramp_Lev2_CD.gin', 'GIN_Protege_Ramp_V2_CD.gin', 'GIN_Protege_V2_DCL.gin', 'GIN_RX8_Ramp_v1_CD.gin', 'GIN_S2000_Church_DCL.gin', 'GIN_Toyota_GTS.gin', 'GIN_Toyota_GTS_DCL.gin', 'GIN_TRCK_Accel.gin', 'GIN_TRCK_Decel.gin', 'GIN_Trueno_AE86.gin', 'GIN_Trueno_DCL.gin', 'GIN_TVR_Cerbera.gin', 'GIN_TVR_Cerbera_DCL.gin', 'GIN_TVR_Chimaera.gin', 'GIN_TVR_Chimaera_DCL.gin', 'GIN_TVR_Tuscan.gin', 'GIN_TVR_Tuscan_DCL.gin', 'GIN_Viper_A.gin', 'GIN_Viper_A_DCL.gin', 'GIN_Viper_B.gin', 'GIN_Viper_B_DCL.gin', 'GIN_VR6_Jetta_M3.gin', 'GIN_VR6_Jetta_M4.gin', 'GIN_VW_Cabriolet.gin', 'GIN_VW_Cab_DCL.gin', 'GIN_VW_Drag_GTi.gin', 'GIN_VW_Drag_GTi_DCL.gin', 'GIN_VW_Jetta_M3_DCL.gin', 'GIN_VW_Jetta_M4_DCL.gin', 'GIN_VW_Scirocco.gin', 'GIN_VW_Scirocco_DCL.gin', 'GIN_WRX2F2F_DCL.gin', 'GIN_WRXSTi_Pull_09.gin', 'GIN_WRX_2F2F.gin', 'GIN_WRX_STi_DCL.gin', 'GIN_WRX_Street.gin', 'GIN_WRX_Street_DCL.gin', 'SWTN_CAR_00_MB.abk', 'SWTN_CAR_01_MB.abk', 'SWTN_CAR_02_MB.abk', 'SWTN_CAR_03_MB.abk', 'SWTN_CAR_04_MB.abk', 'SWTN_CAR_05_MB.abk', 'SWTN_CAR_06_MB.abk', 'SWTN_CAR_07_MB.abk', 'SWTN_CAR_08_MB.abk', 'SWTN_CAR_09_MB.abk', 'SWTN_CAR_10_MB.abk', 'SWTN_CAR_11_MB.abk', 'SWTN_CAR_12_MB.abk', 'SWTN_CAR_13_MB.abk', 'SWTN_CAR_14_MB.abk', 'SWTN_CAR_15_MB.abk', 'SWTN_CAR_16_MB.abk', 'SWTN_CAR_17_MB.abk', 'SWTN_CAR_18_MB.abk', 'SWTN_CAR_19_MB.abk', 'SWTN_CAR_20_MB.abk', 'SWTN_CAR_21_MB.abk', 'SWTN_CAR_22_MB.abk', 'SWTN_CAR_23_MB.abk', 'SWTN_CAR_24_MB.abk', 'SWTN_CAR_25_MB.abk', 'SWTN_CAR_26_MB.abk', 'SWTN_CAR_27_MB.abk', 'SWTN_CAR_28_MB.abk', 'SWTN_CAR_29_MB.abk', 'SWTN_CAR_30_MB.abk', 'SWTN_CAR_31_MB.abk', 'SWTN_CAR_32_MB.abk', 'SWTN_CAR_33_MB.abk', 'SWTN_CAR_34_MB.abk', 'SWTN_CAR_35_MB.abk', 'SWTN_CAR_36_MB.abk', 'SWTN_CAR_37_MB.abk', 'SWTN_CAR_38_MB.abk', 'SWTN_CAR_39_MB.abk', 'SWTN_CAR_40_MB.abk', 'SWTN_CAR_41_MB.abk', 'SWTN_CAR_42_MB.abk', 'SWTN_CAR_43_MB.abk', 'SWTN_CAR_44_MB.abk', 'SWTN_CAR_45_MB.abk', 'SWTN_CAR_46_MB.abk', 'SWTN_CAR_47_MB.abk', 'SWTN_CAR_48_MB.abk', 'SWTN_CAR_49_MB.abk', 'SWTN_CAR_50_MB.abk', 'SWTN_CAR_51_MB.abk', 'SWTN_CAR_52_MB.abk', 'SWTN_CAR_53_MB.abk', 'SWTN_CAR_54_MB.abk', 'SWTN_CAR_55_MB.abk', 'SWTN_CAR_56_MB.abk', 'SWTN_CAR_57_MB.abk', 'SWTN_CAR_58_MB.abk', 'SWTN_CAR_59_MB.abk', 'SWTN_CAR_60_MB.abk', 'SWTN_CAR_61_MB.abk', 'SWTN_CAR_62_MB.abk', 'SWTN_CAR_63_MB.abk', 'SWTN_CAR_64_MB.abk', 'SWTN_CAR_65_MB.abk', 'SWTN_CAR_66_MB.abk', 'SWTN_CAR_67_MB.abk', 'SWTN_CAR_68_MB.abk', 'SWTN_CAR_69_MB.abk', 'SWTN_CAR_70_MB.abk', 'SWTN_CAR_71_MB.abk', 'SWTN_CAR_72_MB.abk', 'SWTN_CAR_73_MB.abk', 'SWTN_CAR_74_MB.abk', 'SWTN_CAR_75_MB.abk']\n",
      "- D:GAMZZ\\Need for Speed - Most Wanted\\SOUND\\EVT_SYS\n",
      "📂 []\n",
      "📄 ['COP_SIREN_AEMS.csi', 'ENGINES_AEMS2.csi', 'ENVIRO_AEMS.csi', 'FE_AEMS.csi', 'MAIN_AEMS.csi', 'STITCH_AEMS.csi', 'TURBO.csi']\n",
      "- D:GAMZZ\\Need for Speed - Most Wanted\\SOUND\\FE\n",
      "📂 []\n",
      "📄 ['FE_MB.abk']\n",
      "- D:GAMZZ\\Need for Speed - Most Wanted\\SOUND\\FXEDIT\n",
      "📂 []\n",
      "📄 ['Alley.fx', 'Car_Show_Bass.fx', 'Car_Show_Bass2.fx', 'Car_Show_Sml.fx', 'City_Dense.fx', 'City_Dense_Left.fx', 'City_Dense_Right.fx', 'City_Open.fx', 'Garage.fx', 'Garage_Sml.fx', 'Hills.fx', 'Hills_Close.fx', 'Simple_Tunnel.fx', 'Simple_Tunnel_Sml.fx', 'Simple_Tunnel_w_EQ.fx']\n",
      "- D:GAMZZ\\Need for Speed - Most Wanted\\SOUND\\GLOBAL\n",
      "📂 []\n",
      "📄 ['FE_COMMON_MB.abk']\n",
      "- D:GAMZZ\\Need for Speed - Most Wanted\\SOUND\\IG_GLOBAL\n",
      "📂 []\n",
      "📄 ['ENV_COMMON_MB.abk', 'FX_Camera.abk', 'FX_Helicopter_MB.abk', 'FX_MAIN_MEM_MB.abk', 'FX_Misc_MB.abk', 'FX_Rain_MB.abk', 'ROADNOISE_00_MB.abk', 'SIREN_MB.abk', 'Stich_Collision_MB.abk', 'Stitch_Static_MB.abk', 'Stitch_Whoosh_MB.abk', 'TRAFFIC_MB.abk', 'WIND_00_MB.abk']\n",
      "- D:GAMZZ\\Need for Speed - Most Wanted\\SOUND\\MIXMAPS\n",
      "📂 []\n",
      "📄 ['MAPOUTPUT.dyn', 'MAPOUTPUT.mxb', 'MAPOUTPUT2CR.dyn', 'MAPOUTPUT2CR.mxb', 'MAPOUTPUT2DR.dyn', 'MAPOUTPUT2DR.mxb', 'MAPOUTPUTDRG.dyn', 'MAPOUTPUTDRG.mxb']\n",
      "- D:GAMZZ\\Need for Speed - Most Wanted\\SOUND\\NISREVDATA\n",
      "📂 []\n",
      "📄 ['GenericStart.bin', 'IntroNis01.bin', 'IntroNis02.bin', 'IntroNis03.bin', 'IntroNis04.bin', 'IntroNis05.bin', 'IntroNis06.bin', 'IntroNis07.bin', 'IntroNis08.bin', 'IntroNis09.bin', 'IntroNis10.bin', 'IntroNisBL01.bin', 'IntroNisBL02.bin', 'IntroNisBL03.bin', 'IntroNisBL04.bin', 'IntroNisBL05.bin', 'IntroNisBL06.bin', 'IntroNisBL07.bin', 'IntroNisBL08.bin', 'IntroNisBL09.bin', 'IntroNisBL10.bin', 'IntroNisBL11.bin', 'IntroNisBL12.bin', 'IntroNisBL13.bin', 'IntroNisBL14.bin', 'IntroNisBL15.bin', 'IntroNisBL16.bin', 'IntroNisToll01.bin', 'OPMRivalIntro.bin']\n",
      "- D:GAMZZ\\Need for Speed - Most Wanted\\SOUND\\NOS\n",
      "📂 []\n",
      "📄 ['Nitrous_00_MB.abk', 'Nitrous_01_MB.abk']\n",
      "- D:GAMZZ\\Need for Speed - Most Wanted\\SOUND\\PFDATA\n",
      "📂 []\n",
      "📄 ['MW_Music.mpf', 'MW_Music.mus']\n",
      "- D:GAMZZ\\Need for Speed - Most Wanted\\SOUND\\SHIFTING\n",
      "📂 []\n",
      "📄 ['GEAR_BIG_Base.abk', 'GEAR_BIG_Lev1.abk', 'GEAR_BIG_Lev2.abk', 'GEAR_BIG_Lev3.abk', 'GEAR_LRG_Base.abk', 'GEAR_LRG_Lev1.abk', 'GEAR_LRG_Lev2.abk', 'GEAR_LRG_Lev3.abk', 'GEAR_MED_Base.abk', 'GEAR_MED_Lev1.abk', 'GEAR_MED_Lev2.abk', 'GEAR_MED_Lev3.abk', 'GEAR_SML_Base.abk', 'GEAR_SML_Lev1.abk', 'GEAR_SML_Lev2.abk', 'GEAR_SML_Lev3.abk']\n",
      "- D:GAMZZ\\Need for Speed - Most Wanted\\SOUND\\SKIDS\n",
      "📂 []\n",
      "📄 ['SKIDS_DRIFT_BIG_MB.abk', 'SKIDS_DRIFT_MED_MB.abk', 'SKID_BIG_MB.abk', 'SKID_SML_MB.abk']\n",
      "- D:GAMZZ\\Need for Speed - Most Wanted\\SOUND\\SPEECH\n",
      "📂 []\n",
      "📄 ['copspeech.big', 'copspeech.csi', 'copspeech.evt', 'copspeech.idx']\n",
      "- D:GAMZZ\\Need for Speed - Most Wanted\\SOUND\\STREAMS\n",
      "📂 []\n",
      "📄 ['NISAudio.big', 'NISAudio.csi', 'NISAudio.evt', 'NISAudio.idx']\n",
      "- D:GAMZZ\\Need for Speed - Most Wanted\\SOUND\\TURBO\n",
      "📂 []\n",
      "📄 ['TURBO_BIG_0_MB.abk', 'TURBO_BIG_1_MB.abk', 'TURBO_BIG_2_MB.abk', 'TURBO_EXOTIC_0_MB.abk', 'TURBO_EXOTIC_1_MB.abk', 'TURBO_EXOTIC_2_MB.abk', 'TURBO_LRG_0_MB.abk', 'TURBO_LRG_1_MB.abk', 'TURBO_LRG_2_MB.abk', 'TURBO_MED_0_MB.abk', 'TURBO_MED_1_MB.abk', 'TURBO_MED_2_MB.abk', 'TURBO_SC_COBRA.abk', 'TURBO_SC_COBRA_MB.abk', 'TURBO_SC_GENERIC_MB.abk', 'TURBO_SC_MBZ_MB.abk', 'TURBO_SC_MUSTANG_MB.abk', 'TURBO_SML1_0_MB.abk', 'TURBO_SML1_1_MB.abk', 'TURBO_SML1_2_MB.abk', 'TURBO_SML2_0_MB.abk', 'TURBO_SML2_1_MB.abk', 'TURBO_SML2_2_MB.abk', 'TURBO_TUN_MED_0_MB.abk', 'TURBO_TUN_MED_1_MB.abk', 'TURBO_TUN_MED_2_MB.abk', 'TURBO_TUN_SML2_0_MB.abk', 'TURBO_TUN_SML2_1_MB.abk', 'TURBO_TUN_SML2_2_MB.abk', 'TURBO_TUN_SML_0_MB.abk', 'TURBO_TUN_SML_1_MB.abk', 'TURBO_TUN_SML_2_MB.abk']\n",
      "- D:GAMZZ\\Need for Speed - Most Wanted\\SUBTITLES\n",
      "📂 []\n",
      "📄 ['blacklist_01', 'blacklist_02', 'blacklist_03', 'blacklist_04', 'blacklist_05', 'blacklist_06', 'blacklist_07', 'blacklist_08', 'blacklist_09', 'blacklist_10', 'blacklist_11', 'blacklist_12', 'blacklist_13', 'blacklist_14', 'blacklist_15', 'bounty_tutorial', 'drag_tutorial', 'psa', 'pursuit_tutorial', 'speedtrap_tutorial', 'storyfmv_bla134', 'storyfmv_bus12', 'storyfmv_cro06_coh06a', 'storyfmv_her136', 'storyfmv_pin11', 'storyfmv_rac01', 'storyfmv_rap30', 'storyfmv_raz08', 'storyfmv_saf25', 'tollbooth_tutorial']\n",
      "- D:GAMZZ\\Need for Speed - Most Wanted\\Support\n",
      "📂 ['EA Help', 'en-us', 'European Help Files']\n",
      "📄 ['config.xml', 'EasyReqs.xml', 'ereg-dict-en_UK.xml', 'ereg-dict-en_US.xml', 'Localization.ini']\n",
      "- D:GAMZZ\\Need for Speed - Most Wanted\\Support\\EA Help\n",
      "📂 ['images', 'Install', 'Online', 'Playing_the_Game', 'Standard_Items', 'Starting_the_Game', 'whdata', 'whgdata', 'whxdata']\n",
      "📄 ['bookclosed.gif', 'book_open.gif', 'close.gif', 'content.gif', 'cshdat_robohelp.htm', 'cshdat_webhelp.htm', 'D3D.JPG', 'default.css', 'default_ns.css', 'deletefiles.JPG', 'directional.gif', 'DisplayDriver.JPG', 'DXDisplay.JPG', 'EAhome07_03.gif', 'eHelp.xml', 'ehlpdhtm.js', 'Electronic Arts Technical Support.log', 'Electronic_Arts_Technical_Support.htm', 'Electronic_Arts_Technical_Support_csh.htm', 'Electronic_Arts_Technical_Support_rhc.htm', 'go.gif', 'gray-left.gif', 'gray-rt.gif', 'greyback.gif', 'HtmlHelp.css', 'index.gif', 'left-ar.gif', 'other_index.gif', 'page.gif', 'right-ar.gif', 'RoboHHRE.lng', 'search.gif', 'tempintfiles.JPG', 'urls.gif', 'webhelp.cab', 'webhelp.jar', 'websearch.gif', 'Welcome.htm', 'whcshdata.htm', 'whcsh_home.htm', 'whestart.ico', 'whfbody.htm', 'whfdhtml.htm', 'whfform.htm', 'whfhost.js', 'whform.js', 'whframes.js', 'whgbody.htm', 'whgdef.htm', 'whgdhtml.htm', 'whghost.js', 'whhost.js', 'whibody.htm', 'whidhtml.htm', 'whiform.htm', 'whihost.js', 'whlang.js', 'whmozemu.js', 'whmsg.js', 'whnjs.htm', 'whphost.js', 'whproj.htm', 'whproj.js', 'whproj.xml', 'whproxy.js', 'whres.xml', 'whrstart.ico', 'whskin_banner.htm', 'whskin_blank.htm', 'whskin_frmset01.htm', 'whskin_frmset010.htm', 'whskin_homepage.htm', 'whskin_info.htm', 'whskin_mbars.htm', 'whskin_papplet.htm', 'whskin_pdhtml.htm', 'whskin_pickup.htm', 'whskin_plist.htm', 'whskin_tbars.htm', 'whskin_tw.htm', 'whstart.ico', 'whstart.js', 'whstub.js', 'whst_topics.xml', 'whtbar.js', 'whtdhtml.htm', 'whthost.js', 'whtopic.js', 'wht_abge.jpg', 'wht_abgi.jpg', 'wht_abgw.jpg', 'wht_abte.jpg', 'wht_abti.jpg', 'wht_abtw.jpg', 'wht_fts_h.gif', 'wht_fts_n.gif', 'wht_glo_h.gif', 'wht_glo_n.gif', 'wht_go.gif', 'wht_hide.gif', 'wht_idx_h.gif', 'wht_idx_n.gif', 'wht_logo1.gif', 'wht_logo2.gif', 'wht_next.gif', 'wht_next_g.gif', 'wht_prev.gif', 'wht_prev_g.gif', 'wht_spac.gif', 'wht_sync.gif', 'wht_tab0.gif', 'wht_tab1.gif', 'wht_tab2.gif', 'wht_tab3.gif', 'wht_tab4.gif', 'wht_tab5.gif', 'wht_tab6.gif', 'wht_tab7.gif', 'wht_tab8.gif', 'wht_toc_h.gif', 'wht_toc_n.gif', 'wht_ws.gif', 'wht_ws_g.gif', 'whutils.js', 'whver.js']\n",
      "- D:GAMZZ\\Need for Speed - Most Wanted\\Support\\EA Help\\images\n",
      "📂 []\n",
      "📄 ['check.jpg', 'gameplay.jpg', 'go.jpg', 'install.jpg', 'online.jpg', 'startomg.jpg', 'tip.jpg']\n",
      "- D:GAMZZ\\Need for Speed - Most Wanted\\Support\\EA Help\\Install\n",
      "📂 ['Issues_After_Install', 'Media_Issues', 'Requirements_Issues']\n",
      "📄 ['INST_Installation_Troubleshooting.htm', 'INST_Pre-Install_Preparation.htm']\n",
      "- D:GAMZZ\\Need for Speed - Most Wanted\\Support\\EA Help\\Install\\Issues_After_Install\n",
      "📂 []\n",
      "📄 ['INST_Issues_After_Install.htm', 'INST_Windows_Looks_Different.htm']\n",
      "- D:GAMZZ\\Need for Speed - Most Wanted\\Support\\EA Help\\Install\\Media_Issues\n",
      "📂 []\n",
      "📄 ['INST_Can_t_Read_A_File.htm', 'INST_Insert_CD_Error.htm', 'INST_Media_Issues.htm', 'INST_Selecting_a_Hard_Drive.htm']\n",
      "- D:GAMZZ\\Need for Speed - Most Wanted\\Support\\EA Help\\Install\\Requirements_Issues\n",
      "📂 []\n",
      "📄 ['INST_Minimum_Requirements_.htm', 'INST_Out_Of_Disk_Space.htm', 'Requirements_Issues.htm']\n",
      "- D:GAMZZ\\Need for Speed - Most Wanted\\Support\\EA Help\\Online\n",
      "📂 []\n",
      "📄 ['ONLN_Can_t_See_LAN_Game.htm', 'ONLN_Connection_Issues.htm', 'ONLN_Online_Troubles.htm', 'ONLN_Poor_Performance.htm']\n",
      "- D:GAMZZ\\Need for Speed - Most Wanted\\Support\\EA Help\\Playing_the_Game\n",
      "📂 ['Lockups']\n",
      "📄 ['PLYG_Audio_Issues.htm', 'PLYG_Controller_Does_Not_Work.htm', 'PLYG_Crashing.htm', 'PLYG_Errors_While_Playing.htm', 'PLYG_Issues_While_Playing.htm', 'PLYG_Poor_Performance.htm', 'PLYG_Video_Issues.htm']\n",
      "- D:GAMZZ\\Need for Speed - Most Wanted\\Support\\EA Help\\Playing_the_Game\\Lockups\n",
      "📂 []\n",
      "📄 ['PLYG_Frozen_On_Screen.htm', 'PLYG_Lockups.htm', 'PLYG_Not_Responding_To_Input.htm', 'PLYG_Repeating_Sound.htm']\n",
      "- D:GAMZZ\\Need for Speed - Most Wanted\\Support\\EA Help\\Standard_Items\n",
      "📂 []\n",
      "📄 ['Check_Minimum_Requirements.htm', 'Disk_Cleanup_and_Defrag.htm', 'STND_Change_Screen_Resolution.htm', 'STND_Changing_Drive_Letters.htm', 'STND_Close_Background_Tasks.htm', 'STND_Empty_Temporary_Internet_Files.htm', 'STND_Lower_Sound_Acceleration.htm', 'STND_Update_Drivers.htm', 'STND_Virtual_Memory.htm']\n",
      "- D:GAMZZ\\Need for Speed - Most Wanted\\Support\\EA Help\\Starting_the_Game\n",
      "📂 ['Crashes', 'Lockups']\n",
      "📄 ['STRTG_Errors.htm', 'STRTG_Starting_the_Game.htm']\n",
      "- D:GAMZZ\\Need for Speed - Most Wanted\\Support\\EA Help\\Starting_the_Game\\Crashes\n",
      "📂 []\n",
      "📄 ['STRTG_CP_Crash.htm', 'STRTG_Crashing_Back_To_Desktop.htm', 'STRTG_Crash_After_Full_Screen.htm']\n",
      "- D:GAMZZ\\Need for Speed - Most Wanted\\Support\\EA Help\\Starting_the_Game\\Lockups\n",
      "📂 []\n",
      "📄 ['STRTG_Blank_Screen_Lockup.htm', 'STRTG_CP_Lockup.htm', 'STRTG_Lockups.htm', 'STRTG_Repeating_Sound.htm']\n",
      "- D:GAMZZ\\Need for Speed - Most Wanted\\Support\\EA Help\\whdata\n",
      "📂 []\n",
      "📄 ['whftdata.js', 'whftdata0.htm', 'whfts.htm', 'whfts.js', 'whfwdata.js', 'whfwdata0.htm', 'whgdata.js', 'whglo.htm', 'whglo.js', 'whidata.js', 'whidata0.htm', 'whidx.htm', 'whidx.js', 'whtdata.js', 'whtdata0.htm', 'whtoc.htm', 'whtoc.js']\n",
      "- D:GAMZZ\\Need for Speed - Most Wanted\\Support\\EA Help\\whgdata\n",
      "📂 []\n",
      "📄 ['whexpbar.gif', 'whlstf0.htm', 'whlstf1.htm', 'whlstf10.htm', 'whlstf2.htm', 'whlstf3.htm', 'whlstf4.htm', 'whlstf5.htm', 'whlstf6.htm', 'whlstf7.htm', 'whlstf8.htm', 'whlstf9.htm', 'whlstfl0.htm', 'whlstfl1.htm', 'whlstfl10.htm', 'whlstfl11.htm', 'whlstfl12.htm', 'whlstfl13.htm', 'whlstfl14.htm', 'whlstfl15.htm', 'whlstfl16.htm', 'whlstfl17.htm', 'whlstfl18.htm', 'whlstfl19.htm', 'whlstfl2.htm', 'whlstfl20.htm', 'whlstfl21.htm', 'whlstfl22.htm', 'whlstfl23.htm', 'whlstfl3.htm', 'whlstfl4.htm', 'whlstfl5.htm', 'whlstfl6.htm', 'whlstfl7.htm', 'whlstfl8.htm', 'whlstfl9.htm', 'whlstg0.htm', 'whlsti0.htm', 'whlstt0.htm', 'whlstt1.htm', 'whlstt10.htm', 'whlstt11.htm', 'whlstt12.htm', 'whlstt2.htm', 'whlstt3.htm', 'whlstt4.htm', 'whlstt5.htm', 'whlstt6.htm', 'whlstt7.htm', 'whlstt8.htm', 'whlstt9.htm', 'whnvf30.htm', 'whnvf31.htm', 'whnvf32.htm', 'whnvf33.htm', 'whnvl31.htm', 'whnvl32.htm', 'whnvl33.htm', 'whnvp30.htm', 'whnvp31.htm', 'whnvp32.htm', 'whnvp33.htm', 'whnvt30.htm', 'whnvt31.htm', 'whnvt32.htm', 'whnvt33.htm']\n",
      "- D:GAMZZ\\Need for Speed - Most Wanted\\Support\\EA Help\\whxdata\n",
      "📂 []\n",
      "📄 ['whftdata0.xml', 'whfts.xml', 'whfwdata0.xml', 'whglo.xml', 'whidata0.xml', 'whidx.xml', 'whtdata0.xml', 'whtoc.xml']\n",
      "- D:GAMZZ\\Need for Speed - Most Wanted\\Support\\en-us\n",
      "📂 []\n",
      "📄 ['readme.txt']\n",
      "- D:GAMZZ\\Need for Speed - Most Wanted\\Support\\European Help Files\n",
      "📂 ['en-uk']\n",
      "📄 ['badge.gif', 'EA_Help_Select.htm', 'Thumbs.db']\n",
      "- D:GAMZZ\\Need for Speed - Most Wanted\\Support\\European Help Files\\en-uk\n",
      "📂 ['whdata', 'whxdata']\n",
      "📄 ['Autorun.htm', 'badge.gif', 'blueback.gif', 'Blue_Screen_.htm', 'bookopen.gif', 'book_closed.gif', 'CD_DVD_Issues.htm', 'CD_DVD_Issues2.htm', 'CD_DVD_Troubleshooting.htm', 'check.jpg', 'Cleaning_your_CD_DVD.htm', 'close.gif', 'content_h.gif', 'content_n.gif', 'Crashes.htm', 'Crash_Issues2.htm', 'Crash_Issues3.htm', 'cshdat_robohelp.htm', 'cshdat_webhelp.htm', 'default.css', 'default_ns.css', 'directional.gif', 'DirectX.htm', 'Display_Settings.htm', 'EA_Help_UK.htm', 'EA_Help_UK.log', 'EA_Help_UK_csh.htm', 'EA_Help_UK_rhc.htm', 'EA_Logo_White.GIF', 'eHelp.xml', 'ehlpdhtm.js', 'Emptying_Temporary_Files.htm', 'Ending_background_tasks.htm', 'Error_message.htm', 'gameplay.jpg', 'Gameplay_Issues.htm', 'glossary_h.gif', 'glossary_n.gif', 'go.gif', 'go.jpg', 'Graphic_corruption.htm', 'Hard_Drive_space.htm', 'index_h.gif', 'index_n.gif', 'install.jpg', 'Installing_the_game.htm', 'leftarrow.gif', 'Manually_starting_the_game.htm', 'Minimum_requirements.htm', 'Monitor.htm', 'My_game_fails_to_start.htm', 'page.gif', 'r01.gif', 'r02.gif', 'rightarrow.gif', 'RoboHHRE.lng', 'searchweb_h.gif', 'searchweb_n.gif', 'search_h.gif', 'search_n.gif', 'Sound_card.htm', 'Starting_the_game.htm', 'Starting_the_installation_manually.htm', 'startomg.jpg', 'Thumbs.db', 'Updating_your_sound_driver.htm', 'Updating_your_video_driver.htm', 'urls.gif', 'Video_Card.htm', 'Warranty.htm', 'webhelp.cab', 'webhelp.jar', 'Welcome.htm', 'whcshdata.htm', 'whcsh_home.htm', 'whestart.ico', 'whfbody.htm', 'whfdhtml.htm', 'whfform.htm', 'whfhost.js', 'whform.js', 'whframes.js', 'whgbody.htm', 'whgdef.htm', 'whgdhtml.htm', 'whghost.js', 'whhost.js', 'whibody.htm', 'whidhtml.htm', 'whiform.htm', 'whihost.js', 'whlang.js', 'whmozemu.js', 'whmsg.js', 'whnjs.htm', 'whphost.js', 'whproj.htm', 'whproj.js', 'whproj.xml', 'whproxy.js', 'whres.xml', 'whrstart.ico', 'whskin_banner.htm', 'whskin_blank.htm', 'whskin_frmset01.htm', 'whskin_frmset010.htm', 'whskin_homepage.htm', 'whskin_info.htm', 'whskin_mbars.htm', 'whskin_papplet.htm', 'whskin_pdhtml.htm', 'whskin_pickup.htm', 'whskin_plist.htm', 'whskin_tbars.htm', 'whskin_tw.htm', 'whstart.ico', 'whstart.js', 'whstub.js', 'whst_topics.xml', 'whtbar.js', 'whtdhtml.htm', 'whthost.js', 'whtopic.js', 'wht_abge.jpg', 'wht_abgi.jpg', 'wht_abgw.jpg', 'wht_abte.jpg', 'wht_abti.jpg', 'wht_abtw.jpg', 'wht_logo1.gif', 'wht_logo2.gif', 'wht_spac.gif', 'whutils.js', 'whver.js']\n",
      "- D:GAMZZ\\Need for Speed - Most Wanted\\Support\\European Help Files\\en-uk\\whdata\n",
      "📂 []\n",
      "📄 ['whftdata.js', 'whftdata0.htm', 'whfts.htm', 'whfts.js', 'whfwdata.js', 'whfwdata0.htm', 'whgdata.js', 'whglo.htm', 'whglo.js', 'whidata.js', 'whidata0.htm', 'whidx.htm', 'whidx.js', 'whtdata.js', 'whtdata0.htm', 'whtoc.htm', 'whtoc.js']\n",
      "- D:GAMZZ\\Need for Speed - Most Wanted\\Support\\European Help Files\\en-uk\\whxdata\n",
      "📂 []\n",
      "📄 ['whftdata0.xml', 'whfts.xml', 'whfwdata0.xml', 'whglo.xml', 'whidata0.xml', 'whidx.xml', 'whtdata0.xml', 'whtoc.xml']\n",
      "- D:GAMZZ\\Need for Speed - Most Wanted\\TRACKS\n",
      "📂 ['L2RA']\n",
      "📄 ['L2RA.BUN', 'LOC2DYNTEX.BIN', 'PrecullerBooBooScript.hoo', 'STREAML2RA.BUN']\n",
      "- D:GAMZZ\\Need for Speed - Most Wanted\\TRACKS\\L2RA\n",
      "📂 []\n",
      "📄 ['MINI_MAP.BIN', 'MINI_MAP_10_2_1.BIN', 'MINI_MAP_10_2_2.BIN', 'MINI_MAP_10_3_1.BIN', 'MINI_MAP_10_3_2.BIN', 'MINI_MAP_10_4_1.BIN', 'MINI_MAP_10_4_2.BIN', 'MINI_MAP_10_4_2_R.BIN', 'MINI_MAP_10_6_1.BIN', 'MINI_MAP_10_7_1.BIN', 'MINI_MAP_10_7_1_R.BIN', 'MINI_MAP_10_7_2.BIN', 'MINI_MAP_10_7_3.BIN', 'MINI_MAP_11_1_1.BIN', 'MINI_MAP_11_1_2.BIN', 'MINI_MAP_11_1_2_R.BIN', 'MINI_MAP_11_2_1.BIN', 'MINI_MAP_11_2_1_R.BIN', 'MINI_MAP_11_4_1.BIN', 'MINI_MAP_11_4_2.BIN', 'MINI_MAP_11_5_1.BIN', 'MINI_MAP_11_5_1_R.BIN', 'MINI_MAP_11_5_2.BIN', 'MINI_MAP_11_7_1.BIN', 'MINI_MAP_12_1_1.BIN', 'MINI_MAP_12_1_1_R.BIN', 'MINI_MAP_12_1_2.BIN', 'MINI_MAP_12_1_2_R.BIN', 'MINI_MAP_12_2_1.BIN', 'MINI_MAP_12_2_1_R.BIN', 'MINI_MAP_12_4_1.BIN', 'MINI_MAP_12_4_2.BIN', 'MINI_MAP_12_5_1.BIN', 'MINI_MAP_12_7_1.BIN', 'MINI_MAP_12_7_2.BIN', 'MINI_MAP_12_7_3.BIN', 'MINI_MAP_12_7_3_R.BIN', 'MINI_MAP_13_2_1.BIN', 'MINI_MAP_13_2_2.BIN', 'MINI_MAP_13_2_2_R.BIN', 'MINI_MAP_13_2_3.BIN', 'MINI_MAP_13_3_1.BIN', 'MINI_MAP_13_3_1_R.BIN', 'MINI_MAP_13_3_2.BIN', 'MINI_MAP_13_4_1.BIN', 'MINI_MAP_13_4_1_0.BIN', 'MINI_MAP_13_4_1_R.BIN', 'MINI_MAP_13_4_2.BIN', 'MINI_MAP_13_5_1.BIN', 'MINI_MAP_13_5_2.BIN', 'MINI_MAP_13_7_1.BIN', 'MINI_MAP_13_7_2.BIN', 'MINI_MAP_13_7_3.BIN', 'MINI_MAP_14_1_1.BIN', 'MINI_MAP_14_1_2.BIN', 'MINI_MAP_14_2_1.BIN', 'MINI_MAP_14_2_2.BIN', 'MINI_MAP_14_2_2_R.BIN', 'MINI_MAP_14_2_3.BIN', 'MINI_MAP_14_2_3_R.BIN', 'MINI_MAP_14_2_4.BIN', 'MINI_MAP_14_3_1.BIN', 'MINI_MAP_14_3_1_R.BIN', 'MINI_MAP_14_4_1.BIN', 'MINI_MAP_14_7_1.BIN', 'MINI_MAP_14_7_2.BIN', 'MINI_MAP_15_1_1.BIN', 'MINI_MAP_15_1_1_R.BIN', 'MINI_MAP_15_1_2.BIN', 'MINI_MAP_15_2_1.BIN', 'MINI_MAP_15_2_1_R.BIN', 'MINI_MAP_15_3_1.BIN', 'MINI_MAP_16_1_0.BIN', 'MINI_MAP_16_1_1.BIN', 'MINI_MAP_16_1_1_R.BIN', 'MINI_MAP_16_2_1.BIN', 'MINI_MAP_16_2_2.BIN', 'MINI_MAP_16_2_3.BIN', 'MINI_MAP_19_2_1.BIN', 'MINI_MAP_19_8_31.BIN', 'MINI_MAP_19_8_32.BIN', 'MINI_MAP_19_8_33.BIN', 'MINI_MAP_19_8_34.BIN', 'MINI_MAP_19_8_35.BIN', 'MINI_MAP_19_8_36.BIN', 'MINI_MAP_19_8_37.BIN', 'MINI_MAP_19_8_38.BIN', 'MINI_MAP_19_8_39.BIN', 'MINI_MAP_19_8_40.BIN', 'MINI_MAP_19_8_41.BIN', 'MINI_MAP_19_8_42.BIN', 'MINI_MAP_19_8_43.BIN', 'MINI_MAP_19_8_44.BIN', 'MINI_MAP_19_8_45.BIN', 'MINI_MAP_19_8_46.BIN', 'MINI_MAP_19_8_47.BIN', 'MINI_MAP_19_8_48.BIN', 'MINI_MAP_19_8_49.BIN', 'MINI_MAP_19_8_50.BIN', 'MINI_MAP_19_8_51.BIN', 'MINI_MAP_19_8_52.BIN', 'MINI_MAP_19_8_53.BIN', 'MINI_MAP_19_8_54.BIN', 'MINI_MAP_19_8_55.BIN', 'MINI_MAP_19_8_56.BIN', 'MINI_MAP_19_8_57.BIN', 'MINI_MAP_19_8_58.BIN', 'MINI_MAP_19_8_59.BIN', 'MINI_MAP_19_8_60.BIN', 'MINI_MAP_19_8_61.BIN', 'MINI_MAP_19_8_62.BIN', 'MINI_MAP_19_8_63.BIN', 'MINI_MAP_19_8_64.BIN', 'MINI_MAP_19_8_65.BIN', 'MINI_MAP_1_1_1.BIN', 'MINI_MAP_1_1_2.BIN', 'MINI_MAP_1_2_1.BIN', 'MINI_MAP_1_2_2.BIN', 'MINI_MAP_1_2_3.BIN', 'MINI_MAP_1_2_4.BIN', 'MINI_MAP_1_3_1.BIN', 'MINI_MAP_1_4_1.BIN', 'MINI_MAP_1_4_2.BIN', 'MINI_MAP_1_5_1.BIN', 'MINI_MAP_1_5_2.BIN', 'MINI_MAP_1_5_3.BIN', 'MINI_MAP_1_7_1.BIN', 'MINI_MAP_1_7_1_R.BIN', 'MINI_MAP_1_7_2.BIN', 'MINI_MAP_1_7_3.BIN', 'MINI_MAP_1_8_1.BIN', 'MINI_MAP_20_2_1.BIN', 'MINI_MAP_20_4_1.BIN', 'MINI_MAP_20_4_1_R.BIN', 'MINI_MAP_21_1_1.BIN', 'MINI_MAP_21_2_1.BIN', 'MINI_MAP_21_2_2.BIN', 'MINI_MAP_2_1_1.BIN', 'MINI_MAP_2_1_1_R.BIN', 'MINI_MAP_2_2_1.BIN', 'MINI_MAP_2_2_1_R.BIN', 'MINI_MAP_2_4_1.BIN', 'MINI_MAP_2_4_2.BIN', 'MINI_MAP_2_4_3.BIN', 'MINI_MAP_2_4_3_R.BIN', 'MINI_MAP_2_5_1.BIN', 'MINI_MAP_2_7_1.BIN', 'MINI_MAP_2_7_3.BIN', 'MINI_MAP_3_1_1.BIN', 'MINI_MAP_3_1_1_R.BIN', 'MINI_MAP_3_1_2.BIN', 'MINI_MAP_3_1_2_R.BIN', 'MINI_MAP_3_2_1.BIN', 'MINI_MAP_3_2_1_R.BIN', 'MINI_MAP_3_2_2.BIN', 'MINI_MAP_3_3_1.BIN', 'MINI_MAP_3_3_1_R.BIN', 'MINI_MAP_3_3_2.BIN', 'MINI_MAP_3_3_2_R.BIN', 'MINI_MAP_3_4_1.BIN', 'MINI_MAP_3_4_1_R.BIN', 'MINI_MAP_3_5_1.BIN', 'MINI_MAP_3_5_2.BIN', 'MINI_MAP_3_6_1.BIN', 'MINI_MAP_3_7_1.BIN', 'MINI_MAP_3_7_2.BIN', 'MINI_MAP_3_7_3.BIN', 'MINI_MAP_4_1_1.BIN', 'MINI_MAP_4_2_1.BIN', 'MINI_MAP_4_2_1_R.BIN', 'MINI_MAP_4_3_1.BIN', 'MINI_MAP_4_3_1_R.BIN', 'MINI_MAP_4_4_1.BIN', 'MINI_MAP_4_4_1_R.BIN', 'MINI_MAP_4_5_1.BIN', 'MINI_MAP_4_5_1_R.BIN', 'MINI_MAP_4_5_2.BIN', 'MINI_MAP_4_5_3.BIN', 'MINI_MAP_4_6_1.BIN', 'MINI_MAP_4_7_1.BIN', 'MINI_MAP_4_7_2.BIN', 'MINI_MAP_4_7_3.BIN', 'MINI_MAP_4_7_4.BIN', 'MINI_MAP_5_1_1.BIN', 'MINI_MAP_5_1_1_R.BIN', 'MINI_MAP_5_2_1.BIN', 'MINI_MAP_5_2_1_R.BIN', 'MINI_MAP_5_2_2.BIN', 'MINI_MAP_5_2_3.BIN', 'MINI_MAP_5_3_1.BIN', 'MINI_MAP_5_4_1.BIN', 'MINI_MAP_5_4_1_R.BIN', 'MINI_MAP_5_5_1.BIN', 'MINI_MAP_5_5_1_R.BIN', 'MINI_MAP_5_5_2.BIN', 'MINI_MAP_5_5_2_R.BIN', 'MINI_MAP_5_5_3.BIN', 'MINI_MAP_5_5_4.BIN', 'MINI_MAP_5_7_1.BIN', 'MINI_MAP_5_7_2.BIN', 'MINI_MAP_5_7_3.BIN', 'MINI_MAP_5_7_4.BIN', 'MINI_MAP_5_7_5.BIN', 'MINI_MAP_6_1_1.BIN', 'MINI_MAP_6_2_1.BIN', 'MINI_MAP_6_2_2.BIN', 'MINI_MAP_6_2_3.BIN', 'MINI_MAP_6_3_1.BIN', 'MINI_MAP_6_3_1_R.BIN', 'MINI_MAP_6_4_1.BIN', 'MINI_MAP_6_4_1_R.BIN', 'MINI_MAP_6_4_2.BIN', 'MINI_MAP_6_5_1.BIN', 'MINI_MAP_6_5_2.BIN', 'MINI_MAP_6_5_3.BIN', 'MINI_MAP_6_6_1.BIN', 'MINI_MAP_6_7_1.BIN', 'MINI_MAP_7_1_1.BIN', 'MINI_MAP_7_2_1.BIN', 'MINI_MAP_7_2_1_R.BIN', 'MINI_MAP_7_2_2.BIN', 'MINI_MAP_7_2_2_R.BIN', 'MINI_MAP_7_2_3.BIN', 'MINI_MAP_7_3_1.BIN', 'MINI_MAP_7_4_1.BIN', 'MINI_MAP_7_4_1_R.BIN', 'MINI_MAP_7_4_2.BIN', 'MINI_MAP_7_4_2_R.BIN', 'MINI_MAP_7_4_3.BIN', 'MINI_MAP_7_4_3_R.BIN', 'MINI_MAP_7_5_1.BIN', 'MINI_MAP_7_6_1.BIN', 'MINI_MAP_7_7_1.BIN', 'MINI_MAP_7_7_1_R.BIN', 'MINI_MAP_7_7_3.BIN', 'MINI_MAP_7_7_3_R.BIN', 'MINI_MAP_7_7_4.BIN', 'MINI_MAP_8_2_1.BIN', 'MINI_MAP_8_2_1_R.BIN', 'MINI_MAP_8_2_2.BIN', 'MINI_MAP_8_3_1.BIN', 'MINI_MAP_8_3_2.BIN', 'MINI_MAP_8_5_1.BIN', 'MINI_MAP_8_5_1_R.BIN', 'MINI_MAP_8_5_2.BIN', 'MINI_MAP_8_7_1.BIN', 'MINI_MAP_8_7_1_R.BIN', 'MINI_MAP_8_7_2.BIN', 'MINI_MAP_8_7_3.BIN', 'MINI_MAP_8_7_3_R.BIN', 'MINI_MAP_8_7_5.BIN', 'MINI_MAP_9_1_1.BIN', 'MINI_MAP_9_1_1_R.BIN', 'MINI_MAP_9_2_1.BIN', 'MINI_MAP_9_2_2.BIN', 'MINI_MAP_9_2_2_R.BIN', 'MINI_MAP_9_3_1.BIN', 'MINI_MAP_9_4_1.BIN', 'MINI_MAP_9_4_1_R.BIN', 'MINI_MAP_9_4_2.BIN', 'MINI_MAP_9_5_1.BIN', 'MINI_MAP_9_5_2.BIN', 'MINI_MAP_9_5_3.BIN', 'MINI_MAP_9_7_1.BIN', 'MINI_MAP_9_7_1_R.BIN', 'MINI_MAP_Unlock_1.BIN', 'MINI_MAP_Unlock_2.BIN', 'TrackMaps.bin', 'TroughBoundary.bin']\n",
      "- D:GAMZZ\\Tekken 7\n",
      "📂 ['Engine', 'TekkenGame', '_CommonRedist']\n",
      "📄 ['ali213.bin', 'TEKKEN 7.exe', 'unins000.dat', 'unins000.exe']\n",
      "- D:GAMZZ\\Tekken 7\\Engine\n",
      "📂 ['Binaries', 'Build', 'Config']\n",
      "📄 []\n",
      "- D:GAMZZ\\Tekken 7\\Engine\\Binaries\n",
      "📂 ['ThirdParty']\n",
      "📄 []\n",
      "- D:GAMZZ\\Tekken 7\\Engine\\Binaries\\ThirdParty\n",
      "📂 ['Ogg', 'PhysX', 'Steamworks', 'Vorbis']\n",
      "📄 []\n",
      "- D:GAMZZ\\Tekken 7\\Engine\\Binaries\\ThirdParty\\Ogg\n",
      "📂 ['Win64']\n",
      "📄 []\n",
      "- D:GAMZZ\\Tekken 7\\Engine\\Binaries\\ThirdParty\\Ogg\\Win64\n",
      "📂 ['VS2015']\n",
      "📄 []\n",
      "- D:GAMZZ\\Tekken 7\\Engine\\Binaries\\ThirdParty\\Ogg\\Win64\\VS2015\n",
      "📂 []\n",
      "📄 ['libogg_64.dll']\n",
      "- D:GAMZZ\\Tekken 7\\Engine\\Binaries\\ThirdParty\\PhysX\n",
      "📂 ['APEX-1.3', 'PhysX-3.3']\n",
      "📄 []\n",
      "- D:GAMZZ\\Tekken 7\\Engine\\Binaries\\ThirdParty\\PhysX\\APEX-1.3\n",
      "📂 ['Win64']\n",
      "📄 []\n",
      "- D:GAMZZ\\Tekken 7\\Engine\\Binaries\\ThirdParty\\PhysX\\APEX-1.3\\Win64\n",
      "📂 ['VS2015']\n",
      "📄 []\n",
      "- D:GAMZZ\\Tekken 7\\Engine\\Binaries\\ThirdParty\\PhysX\\APEX-1.3\\Win64\\VS2015\n",
      "📂 []\n",
      "📄 ['ApexFrameworkPROFILE_x64.dll', 'APEX_ClothingPROFILE_x64.dll', 'APEX_DestructiblePROFILE_x64.dll', 'APEX_LegacyPROFILE_x64.dll']\n",
      "- D:GAMZZ\\Tekken 7\\Engine\\Binaries\\ThirdParty\\PhysX\\PhysX-3.3\n",
      "📂 ['Win64']\n",
      "📄 []\n",
      "- D:GAMZZ\\Tekken 7\\Engine\\Binaries\\ThirdParty\\PhysX\\PhysX-3.3\\Win64\n",
      "📂 ['VS2015']\n",
      "📄 []\n",
      "- D:GAMZZ\\Tekken 7\\Engine\\Binaries\\ThirdParty\\PhysX\\PhysX-3.3\\Win64\\VS2015\n",
      "📂 []\n",
      "📄 ['glut32.dll', 'nvToolsExt64_1.dll', 'PhysX3CommonPROFILE_x64.dll', 'PhysX3CookingPROFILE_x64.dll', 'PhysX3PROFILE_x64.dll']\n",
      "- D:GAMZZ\\Tekken 7\\Engine\\Binaries\\ThirdParty\\Steamworks\n",
      "📂 ['Steamv132']\n",
      "📄 []\n",
      "- D:GAMZZ\\Tekken 7\\Engine\\Binaries\\ThirdParty\\Steamworks\\Steamv132\n",
      "📂 ['Win64']\n",
      "📄 []\n",
      "- D:GAMZZ\\Tekken 7\\Engine\\Binaries\\ThirdParty\\Steamworks\\Steamv132\\Win64\n",
      "📂 []\n",
      "📄 ['ALI213.ini', 'steam_api64.dll', 'steam_appid.txt']\n",
      "- D:GAMZZ\\Tekken 7\\Engine\\Binaries\\ThirdParty\\Vorbis\n",
      "📂 ['Win64']\n",
      "📄 []\n",
      "- D:GAMZZ\\Tekken 7\\Engine\\Binaries\\ThirdParty\\Vorbis\\Win64\n",
      "📂 ['VS2015']\n",
      "📄 []\n",
      "- D:GAMZZ\\Tekken 7\\Engine\\Binaries\\ThirdParty\\Vorbis\\Win64\\VS2015\n",
      "📂 []\n",
      "📄 ['libvorbisfile_64.dll', 'libvorbis_64.dll']\n",
      "- D:GAMZZ\\Tekken 7\\Engine\\Build\n",
      "📂 []\n",
      "📄 ['Build.version']\n",
      "- D:GAMZZ\\Tekken 7\\Engine\\Config\n",
      "📂 []\n",
      "📄 ['controller.vdf']\n",
      "- D:GAMZZ\\Tekken 7\\TekkenGame\n",
      "📂 ['Binaries', 'Content']\n",
      "📄 []\n",
      "- D:GAMZZ\\Tekken 7\\TekkenGame\\Binaries\n",
      "📂 ['Win64']\n",
      "📄 []\n",
      "- D:GAMZZ\\Tekken 7\\TekkenGame\\Binaries\\Win64\n",
      "📂 ['Profile', 'TEKKEN7']\n",
      "📄 ['TekkenGame-Win64-Shipping.exe']\n",
      "- D:GAMZZ\\Tekken 7\\TekkenGame\\Binaries\\Win64\\Profile\n",
      "📂 ['ALI213']\n",
      "📄 []\n",
      "- D:GAMZZ\\Tekken 7\\TekkenGame\\Binaries\\Win64\\Profile\\ALI213\n",
      "📂 ['Local', 'Saves', 'SavesBackup', 'Screenshots', 'Stats', 'UGC']\n",
      "📄 []\n",
      "- D:GAMZZ\\Tekken 7\\TekkenGame\\Binaries\\Win64\\Profile\\ALI213\\Local\n",
      "📂 []\n",
      "📄 []\n",
      "- D:GAMZZ\\Tekken 7\\TekkenGame\\Binaries\\Win64\\Profile\\ALI213\\Saves\n",
      "📂 []\n",
      "📄 []\n",
      "- D:GAMZZ\\Tekken 7\\TekkenGame\\Binaries\\Win64\\Profile\\ALI213\\SavesBackup\n",
      "📂 []\n",
      "📄 []\n",
      "- D:GAMZZ\\Tekken 7\\TekkenGame\\Binaries\\Win64\\Profile\\ALI213\\Screenshots\n",
      "📂 []\n",
      "📄 []\n",
      "- D:GAMZZ\\Tekken 7\\TekkenGame\\Binaries\\Win64\\Profile\\ALI213\\Stats\n",
      "📂 []\n",
      "📄 ['Stats.Bin']\n",
      "- D:GAMZZ\\Tekken 7\\TekkenGame\\Binaries\\Win64\\Profile\\ALI213\\UGC\n",
      "📂 []\n",
      "📄 []\n",
      "- D:GAMZZ\\Tekken 7\\TekkenGame\\Binaries\\Win64\\TEKKEN7\n",
      "📂 ['-1']\n",
      "📄 []\n",
      "- D:GAMZZ\\Tekken 7\\TekkenGame\\Binaries\\Win64\\TEKKEN7\\-1\n",
      "📂 []\n",
      "📄 []\n",
      "- D:GAMZZ\\Tekken 7\\TekkenGame\\Content\n",
      "📂 ['Binary', 'Movies', 'Paks', 'Splash']\n",
      "📄 []\n",
      "- D:GAMZZ\\Tekken 7\\TekkenGame\\Content\\Binary\n",
      "📂 []\n",
      "📄 ['tkdata.bin']\n",
      "- D:GAMZZ\\Tekken 7\\TekkenGame\\Content\\Movies\n",
      "📂 ['Gallery', 'Stage', 'Story', 'Ui']\n",
      "📄 []\n",
      "- D:GAMZZ\\Tekken 7\\TekkenGame\\Content\\Movies\\Gallery\n",
      "📂 ['sp', 'tk1', 'tk2', 'tk3', 'tk4', 'tk5', 'tk6', 'tk7', 'ttt', 'ttt2']\n",
      "📄 []\n",
      "- D:GAMZZ\\Tekken 7\\TekkenGame\\Content\\Movies\\Gallery\\sp\n",
      "📂 []\n",
      "📄 ['gmv_sp_000.usm', 'gmv_sp_001.usm', 'gmv_sp_002.usm', 'gmv_sp_003.usm', 'gmv_sp_004.usm', 'gmv_sp_005.usm', 'gmv_sp_006.usm', 'gmv_sp_007.usm', 'gmv_sp_008.usm', 'gmv_sp_009.usm', 'gmv_sp_010.usm', 'gmv_sp_011.usm', 'gmv_sp_012.usm', 'gmv_sp_013.usm', 'gmv_sp_015.usm', 'gmv_sp_016.usm']\n",
      "- D:GAMZZ\\Tekken 7\\TekkenGame\\Content\\Movies\\Gallery\\tk1\n",
      "📂 []\n",
      "📄 ['gmv_01_000.usm', 'gmv_01_001.usm', 'gmv_01_002.usm', 'gmv_01_003.usm', 'gmv_01_004.usm', 'gmv_01_005.usm', 'gmv_01_006.usm', 'gmv_01_007.usm', 'gmv_01_008.usm', 'gmv_01_009.usm', 'gmv_01_010.usm']\n",
      "- D:GAMZZ\\Tekken 7\\TekkenGame\\Content\\Movies\\Gallery\\tk2\n",
      "📂 []\n",
      "📄 ['gmv_02_000.usm', 'gmv_02_001.usm', 'gmv_02_002.usm', 'gmv_02_003.usm', 'gmv_02_004.usm', 'gmv_02_005.usm', 'gmv_02_006.usm', 'gmv_02_007.usm', 'gmv_02_008.usm', 'gmv_02_009.usm', 'gmv_02_010.usm', 'gmv_02_011.usm', 'gmv_02_012.usm', 'gmv_02_013.usm', 'gmv_02_014.usm', 'gmv_02_015.usm', 'gmv_02_016.usm', 'gmv_02_017.usm', 'gmv_02_018.usm', 'gmv_02_019.usm', 'gmv_02_020.usm', 'gmv_02_021.usm', 'gmv_02_022.usm', 'gmv_02_023.usm', 'gmv_02_024.usm', 'gmv_02_025.usm', 'gmv_02_026.usm', 'gmv_02_027.usm']\n",
      "- D:GAMZZ\\Tekken 7\\TekkenGame\\Content\\Movies\\Gallery\\tk3\n",
      "📂 []\n",
      "📄 ['gmv_03_000.usm', 'gmv_03_001.usm', 'gmv_03_002.usm', 'gmv_03_003.usm', 'gmv_03_004.usm', 'gmv_03_005.usm', 'gmv_03_006.usm', 'gmv_03_007.usm', 'gmv_03_008.usm', 'gmv_03_009.usm', 'gmv_03_010.usm', 'gmv_03_011.usm', 'gmv_03_012.usm', 'gmv_03_013.usm', 'gmv_03_014.usm', 'gmv_03_015.usm', 'gmv_03_016.usm', 'gmv_03_017.usm', 'gmv_03_018.usm', 'gmv_03_019.usm', 'gmv_03_020.usm', 'gmv_03_021.usm', 'gmv_03_022.usm', 'gmv_03_023.usm']\n",
      "- D:GAMZZ\\Tekken 7\\TekkenGame\\Content\\Movies\\Gallery\\tk4\n",
      "📂 []\n",
      "📄 ['gmv_04_000.usm', 'gmv_04_001.usm', 'gmv_04_002.usm', 'gmv_04_003.usm', 'gmv_04_004.usm', 'gmv_04_005.usm', 'gmv_04_006.usm', 'gmv_04_007.usm', 'gmv_04_008.usm', 'gmv_04_009.usm', 'gmv_04_010.usm', 'gmv_04_011.usm', 'gmv_04_012.usm', 'gmv_04_013.usm', 'gmv_04_014.usm', 'gmv_04_015.usm', 'gmv_04_016.usm', 'gmv_04_017.usm', 'gmv_04_018.usm', 'gmv_04_019.usm', 'gmv_04_020.usm', 'gmv_04_021.usm', 'gmv_04_022.usm', 'gmv_04_023.usm', 'gmv_04_024.usm']\n",
      "- D:GAMZZ\\Tekken 7\\TekkenGame\\Content\\Movies\\Gallery\\tk5\n",
      "📂 []\n",
      "📄 ['gmv_05_000.usm', 'gmv_05_001.usm', 'gmv_05_002.usm', 'gmv_05_003.usm', 'gmv_05_004.usm', 'gmv_05_005.usm', 'gmv_05_006.usm', 'gmv_05_007.usm', 'gmv_05_008.usm', 'gmv_05_009.usm', 'gmv_05_010.usm', 'gmv_05_011.usm', 'gmv_05_012.usm', 'gmv_05_013.usm', 'gmv_05_014.usm', 'gmv_05_015.usm', 'gmv_05_016.usm', 'gmv_05_017.usm', 'gmv_05_018.usm', 'gmv_05_019.usm', 'gmv_05_020.usm', 'gmv_05_021.usm', 'gmv_05_022.usm', 'gmv_05_023.usm', 'gmv_05_024.usm', 'gmv_05_025.usm', 'gmv_05_026.usm', 'gmv_05_027.usm', 'gmv_05_028.usm', 'gmv_05_029.usm', 'gmv_05_030.usm', 'gmv_05_031.usm', 'gmv_05_032.usm', 'gmv_05_033.usm', 'gmv_05_034.usm', 'gmv_05_035.usm', 'gmv_05_036.usm', 'gmv_05_037.usm', 'gmv_05_038.usm']\n",
      "- D:GAMZZ\\Tekken 7\\TekkenGame\\Content\\Movies\\Gallery\\tk6\n",
      "📂 []\n",
      "📄 ['gmv_06_000.usm', 'gmv_06_001.usm', 'gmv_06_002.usm', 'gmv_06_003.usm', 'gmv_06_004.usm', 'gmv_06_005.usm', 'gmv_06_006.usm', 'gmv_06_007.usm', 'gmv_06_008.usm', 'gmv_06_009.usm', 'gmv_06_010.usm', 'gmv_06_011.usm', 'gmv_06_012.usm', 'gmv_06_013.usm', 'gmv_06_014.usm', 'gmv_06_015.usm', 'gmv_06_016.usm', 'gmv_06_017.usm', 'gmv_06_018.usm', 'gmv_06_019.usm', 'gmv_06_020.usm', 'gmv_06_021.usm', 'gmv_06_022.usm', 'gmv_06_023.usm', 'gmv_06_024.usm', 'gmv_06_025.usm', 'gmv_06_026.usm', 'gmv_06_027.usm', 'gmv_06_028.usm', 'gmv_06_029.usm', 'gmv_06_030.usm', 'gmv_06_031.usm', 'gmv_06_032.usm', 'gmv_06_033.usm', 'gmv_06_034.usm', 'gmv_06_035.usm', 'gmv_06_036.usm', 'gmv_06_037.usm', 'gmv_06_038.usm', 'gmv_06_039.usm', 'gmv_06_040.usm', 'gmv_06_041.usm', 'gmv_06_042.usm', 'gmv_06_043.usm', 'gmv_06_044.usm']\n",
      "- D:GAMZZ\\Tekken 7\\TekkenGame\\Content\\Movies\\Gallery\\tk7\n",
      "📂 []\n",
      "📄 ['T7AC_OP.usm', 'T7FR_OP.usm']\n",
      "- D:GAMZZ\\Tekken 7\\TekkenGame\\Content\\Movies\\Gallery\\ttt\n",
      "📂 []\n",
      "📄 ['gmv_t1_000.usm', 'gmv_t1_001.usm', 'gmv_t1_002.usm', 'gmv_t1_003.usm', 'gmv_t1_004.usm', 'gmv_t1_005.usm', 'gmv_t1_006.usm', 'gmv_t1_007.usm', 'gmv_t1_008.usm', 'gmv_t1_009.usm', 'gmv_t1_010.usm', 'gmv_t1_011.usm', 'gmv_t1_012.usm', 'gmv_t1_013.usm', 'gmv_t1_014.usm', 'gmv_t1_015.usm', 'gmv_t1_016.usm', 'gmv_t1_017.usm', 'gmv_t1_018.usm', 'gmv_t1_019.usm', 'gmv_t1_020.usm', 'gmv_t1_021.usm', 'gmv_t1_022.usm', 'gmv_t1_023.usm', 'gmv_t1_024.usm', 'gmv_t1_025.usm', 'gmv_t1_026.usm', 'gmv_t1_027.usm', 'gmv_t1_028.usm', 'gmv_t1_029.usm', 'gmv_t1_030.usm', 'gmv_t1_031.usm', 'gmv_t1_032.usm', 'gmv_t1_033.usm', 'gmv_t1_034.usm', 'gmv_t1_035.usm', 'gmv_t1_036.usm', 'gmv_t1_037.usm', 'gmv_t1_038.usm', 'gmv_t1_039.usm', 'gmv_t1_040.usm', 'gmv_t1_041.usm', 'gmv_t1_042.usm']\n",
      "- D:GAMZZ\\Tekken 7\\TekkenGame\\Content\\Movies\\Gallery\\ttt2\n",
      "📂 []\n",
      "📄 ['gmv_t2_000.usm', 'gmv_t2_001.usm', 'gmv_t2_002.usm', 'gmv_t2_003.usm', 'gmv_t2_004.usm', 'gmv_t2_005.usm', 'gmv_t2_006.usm', 'gmv_t2_007.usm', 'gmv_t2_008.usm', 'gmv_t2_009.usm', 'gmv_t2_010.usm', 'gmv_t2_011.usm', 'gmv_t2_012.usm', 'gmv_t2_013.usm', 'gmv_t2_014.usm', 'gmv_t2_015.usm', 'gmv_t2_016.usm', 'gmv_t2_017.usm', 'gmv_t2_018.usm', 'gmv_t2_019.usm', 'gmv_t2_020.usm', 'gmv_t2_021.usm', 'gmv_t2_022.usm', 'gmv_t2_023.usm', 'gmv_t2_024.usm', 'gmv_t2_025.usm', 'gmv_t2_026.usm', 'gmv_t2_027.usm', 'gmv_t2_028.usm', 'gmv_t2_029.usm', 'gmv_t2_030.usm', 'gmv_t2_031.usm', 'gmv_t2_032.usm', 'gmv_t2_033.usm', 'gmv_t2_034.usm', 'gmv_t2_035.usm', 'gmv_t2_036.usm', 'gmv_t2_037.usm', 'gmv_t2_038.usm', 'gmv_t2_039.usm', 'gmv_t2_040.usm', 'gmv_t2_041.usm', 'gmv_t2_042.usm', 'gmv_t2_043.usm', 'gmv_t2_044.usm', 'gmv_t2_045.usm', 'gmv_t2_046.usm', 'gmv_t2_047.usm', 'gmv_t2_048.usm', 'gmv_t2_049.usm', 'gmv_t2_050.usm', 'gmv_t2_051.usm', 'gmv_t2_052.usm', 'gmv_t2_053.usm', 'gmv_t2_054.usm', 'gmv_t2_055.usm', 'gmv_t2_056.usm', 'gmv_t2_057.usm', 'gmv_t2_058.usm', 'gmv_t2_059.usm', 'gmv_t2_060.usm', 'gmv_t2_061.usm']\n",
      "- D:GAMZZ\\Tekken 7\\TekkenGame\\Content\\Movies\\Stage\n",
      "📂 []\n",
      "📄 ['violet_01_fix.usm', 'violet_02_fix.usm', 'violet_03_fix.usm']\n",
      "- D:GAMZZ\\Tekken 7\\TekkenGame\\Content\\Movies\\Story\n",
      "📂 ['Episode']\n",
      "📄 ['CH00_00.usm', 'CH00_01.usm', 'CH00_02.usm', 'CH00_03.usm', 'CH01_00.usm', 'CH01_01.usm', 'CH01_02.usm', 'CH01_03.usm', 'CH02_00.usm', 'CH02_01.usm', 'CH02_02.usm', 'CH02_03.usm', 'CH03_00.usm', 'CH03_01.usm', 'CH03_02.usm', 'CH04_00.usm', 'CH04_01.usm', 'CH04_02.usm', 'CH05_00.usm', 'CH05_01.usm', 'CH05_02.usm', 'CH06_00.usm', 'CH06_01.usm', 'CH06_02.usm', 'CH07_00.usm', 'CH07_01.usm', 'CH07_02.usm', 'CH07_03.usm', 'CH08_00.usm', 'CH08_01.usm', 'CH08_02.usm', 'CH08_03.usm', 'CH08_04.usm', 'CH09_00.usm', 'CH09_01.usm', 'CH09_02.usm', 'CH09_03.usm', 'CH10_00.usm', 'CH10_01.usm', 'CH11_00.usm', 'CH11_01.usm', 'CH11_02.usm', 'CH11_03.usm', 'CH12_00.usm', 'CH12_01.usm', 'CH13_00.usm', 'CH13_01.usm', 'CH13_02.usm', 'CH13_03.usm', 'CH13_extra01.usm', 'CH13_extra02.usm', 'CH13_extra03.usm', 'CH13_extra04.usm', 'CH13_extra05.usm', 'CH14_00.usm', 'CH14_01.usm', 'CH14_02.usm', 'CH14_03.usm', 'CH14_04.usm', 'CH14_05.usm', 'CH14_battle1_001_01.usm', 'CH14_battle1_001_02.usm', 'CH14_battle1_002_01.usm', 'CH14_battle1_002_02.usm', 'CH14_battle2_001_01.usm', 'CH14_battle2_001_02.usm', 'CH14_battle2_002_01.usm', 'CH14_battle2_002_02.usm', 'CH15_00.usm', 'CH15_01.usm', 'CH16_00.usm', 'CH16_01.usm', 'Staffroll.usm']\n",
      "- D:GAMZZ\\Tekken 7\\TekkenGame\\Content\\Movies\\Story\\Episode\n",
      "📂 []\n",
      "📄 ['EP01.usm', 'ep01_op.usm', 'EP02.usm', 'ep02_op.usm', 'EP03.usm', 'ep03_op.usm', 'EP04.usm', 'ep04_op.usm', 'EP05.usm', 'ep05_op.usm', 'EP06.usm', 'ep06_op.usm', 'EP07.usm', 'ep07_op.usm', 'EP08.usm', 'ep08_op.usm', 'EP09.usm', 'ep09_op.usm', 'EP10.usm', 'ep10_op.usm', 'EP11.usm', 'ep11_op.usm', 'EP12.usm', 'ep12_op.usm', 'EP13.usm', 'ep13_op.usm', 'EP14.usm', 'ep14_op.usm', 'EP15.usm', 'ep15_op.usm', 'EP16.usm', 'ep16_op.usm', 'EP17.usm', 'ep17_op.usm', 'EP18.usm', 'ep18_op.usm', 'EP19.usm', 'ep19_op.usm', 'EP20.usm', 'ep20_op.usm', 'EP21.usm', 'ep21_op.usm', 'EP22.usm', 'ep22_op.usm', 'EP23.usm', 'ep23_op.usm', 'EP24.usm', 'ep24_op.usm', 'EP25.usm', 'ep25_op.usm', 'EP26.usm', 'ep26_op.usm', 'EP27.usm', 'ep27_op.usm', 'EP28.usm', 'ep28_op.usm', 'EP29.usm', 'ep29_op.usm']\n",
      "- D:GAMZZ\\Tekken 7\\TekkenGame\\Content\\Movies\\Ui\n",
      "📂 []\n",
      "📄 ['BNE_LOGO_MOVIE.usm', 'CharacterSelect_loop.usm', 'CharacterSelect_start.usm', 'Customize.usm', 'Gallery.usm', 'gmv_01_thumb.usm', 'gmv_02_thumb.usm', 'gmv_03_thumb.usm', 'gmv_04_thumb.usm', 'gmv_05_thumb.usm', 'gmv_06_thumb.usm', 'gmv_07_thumb.usm', 'gmv_sp_thumb.usm', 'gmv_t1_thumb.usm', 'gmv_t2_thumb.usm', 'MainMenuCS.usm', 'MainMenu_loop.usm', 'Makuai_loop.usm', 'Makuai_Start.usm', 'Online.usm', 'Opening.usm', 'StageSelect_00.usm', 'StageSelect_01.usm', 'StageSelect_02.usm', 'StageSelect_03.usm', 'StageSelect_04.usm', 'StageSelect_05.usm', 'StageSelect_06.usm', 'StageSelect_07.usm', 'StageSelect_08.usm', 'StageSelect_09.usm', 'StageSelect_10.usm', 'StageSelect_11.usm', 'StageSelect_12.usm', 'StageSelect_12a.usm', 'StageSelect_14.usm', 'StageSelect_15.usm', 'StageSelect_16.usm', 'StageSelect_19.usm', 'StageSelect_20.usm', 'StageSelect_21.usm', 'Story.usm', 'Title_Loop.usm', 'TWIMTBP_1920x1080.usm']\n",
      "- D:GAMZZ\\Tekken 7\\TekkenGame\\Content\\Paks\n",
      "📂 []\n",
      "📄 ['pakchunk0-WindowsNoEditor.pak', 'pakchunk1-WindowsNoEditor.pak', 'pakchunk2-WindowsNoEditor.pak']\n",
      "- D:GAMZZ\\Tekken 7\\TekkenGame\\Content\\Splash\n",
      "📂 []\n",
      "📄 ['Splash.bmp']\n",
      "- D:GAMZZ\\Tekken 7\\_CommonRedist\n",
      "📂 ['DirectX', 'vcredist']\n",
      "📄 []\n",
      "- D:GAMZZ\\Tekken 7\\_CommonRedist\\DirectX\n",
      "📂 ['Jun2010']\n",
      "📄 []\n",
      "- D:GAMZZ\\Tekken 7\\_CommonRedist\\DirectX\\Jun2010\n",
      "📂 []\n",
      "📄 ['Apr2005_d3dx9_25_x64.cab', 'Apr2005_d3dx9_25_x86.cab', 'Apr2006_d3dx9_30_x64.cab', 'Apr2006_d3dx9_30_x86.cab', 'Apr2006_MDX1_x86.cab', 'Apr2006_MDX1_x86_Archive.cab', 'Apr2006_XACT_x64.cab', 'Apr2006_XACT_x86.cab', 'Apr2006_xinput_x64.cab', 'Apr2006_xinput_x86.cab', 'APR2007_d3dx10_33_x64.cab', 'APR2007_d3dx10_33_x86.cab', 'APR2007_d3dx9_33_x64.cab', 'APR2007_d3dx9_33_x86.cab', 'APR2007_XACT_x64.cab', 'APR2007_XACT_x86.cab', 'APR2007_xinput_x64.cab', 'APR2007_xinput_x86.cab', 'Aug2005_d3dx9_27_x64.cab', 'Aug2005_d3dx9_27_x86.cab', 'AUG2006_XACT_x64.cab', 'AUG2006_XACT_x86.cab', 'AUG2006_xinput_x64.cab', 'AUG2006_xinput_x86.cab', 'AUG2007_d3dx10_35_x64.cab', 'AUG2007_d3dx10_35_x86.cab', 'AUG2007_d3dx9_35_x64.cab', 'AUG2007_d3dx9_35_x86.cab', 'AUG2007_XACT_x64.cab', 'AUG2007_XACT_x86.cab', 'Aug2008_d3dx10_39_x64.cab', 'Aug2008_d3dx10_39_x86.cab', 'Aug2008_d3dx9_39_x64.cab', 'Aug2008_d3dx9_39_x86.cab', 'Aug2008_XACT_x64.cab', 'Aug2008_XACT_x86.cab', 'Aug2008_XAudio_x64.cab', 'Aug2008_XAudio_x86.cab', 'Aug2009_D3DCompiler_42_x64.cab', 'Aug2009_D3DCompiler_42_x86.cab', 'Aug2009_d3dcsx_42_x64.cab', 'Aug2009_d3dcsx_42_x86.cab', 'Aug2009_d3dx10_42_x64.cab', 'Aug2009_d3dx10_42_x86.cab', 'Aug2009_d3dx11_42_x64.cab', 'Aug2009_d3dx11_42_x86.cab', 'Aug2009_d3dx9_42_x64.cab', 'Aug2009_d3dx9_42_x86.cab', 'Aug2009_XACT_x64.cab', 'Aug2009_XACT_x86.cab', 'Aug2009_XAudio_x64.cab', 'Aug2009_XAudio_x86.cab', 'Dec2005_d3dx9_28_x64.cab', 'Dec2005_d3dx9_28_x86.cab', 'DEC2006_d3dx10_00_x64.cab', 'DEC2006_d3dx10_00_x86.cab', 'DEC2006_d3dx9_32_x64.cab', 'DEC2006_d3dx9_32_x86.cab', 'DEC2006_XACT_x64.cab', 'DEC2006_XACT_x86.cab', 'DSETUP.dll', 'dsetup32.dll', 'dxdllreg_x86.cab', 'DXSETUP.exe', 'dxupdate.cab', 'Feb2005_d3dx9_24_x64.cab', 'Feb2005_d3dx9_24_x86.cab', 'Feb2006_d3dx9_29_x64.cab', 'Feb2006_d3dx9_29_x86.cab', 'Feb2006_XACT_x64.cab', 'Feb2006_XACT_x86.cab', 'FEB2007_XACT_x64.cab', 'FEB2007_XACT_x86.cab', 'Feb2010_X3DAudio_x64.cab', 'Feb2010_X3DAudio_x86.cab', 'Feb2010_XACT_x64.cab', 'Feb2010_XACT_x86.cab', 'Feb2010_XAudio_x64.cab', 'Feb2010_XAudio_x86.cab', 'installscript.vdf', 'Jun2005_d3dx9_26_x64.cab', 'Jun2005_d3dx9_26_x86.cab', 'JUN2006_XACT_x64.cab', 'JUN2006_XACT_x86.cab', 'JUN2007_d3dx10_34_x64.cab', 'JUN2007_d3dx10_34_x86.cab', 'JUN2007_d3dx9_34_x64.cab', 'JUN2007_d3dx9_34_x86.cab', 'JUN2007_XACT_x64.cab', 'JUN2007_XACT_x86.cab', 'JUN2008_d3dx10_38_x64.cab', 'JUN2008_d3dx10_38_x86.cab', 'JUN2008_d3dx9_38_x64.cab', 'JUN2008_d3dx9_38_x86.cab', 'JUN2008_X3DAudio_x64.cab', 'JUN2008_X3DAudio_x86.cab', 'JUN2008_XACT_x64.cab', 'JUN2008_XACT_x86.cab', 'JUN2008_XAudio_x64.cab', 'JUN2008_XAudio_x86.cab', 'Jun2010_D3DCompiler_43_x64.cab', 'Jun2010_D3DCompiler_43_x86.cab', 'Jun2010_d3dcsx_43_x64.cab', 'Jun2010_d3dcsx_43_x86.cab', 'Jun2010_d3dx10_43_x64.cab', 'Jun2010_d3dx10_43_x86.cab', 'Jun2010_d3dx11_43_x64.cab', 'Jun2010_d3dx11_43_x86.cab', 'Jun2010_d3dx9_43_x64.cab', 'Jun2010_d3dx9_43_x86.cab', 'Jun2010_XACT_x64.cab', 'Jun2010_XACT_x86.cab', 'Jun2010_XAudio_x64.cab', 'Jun2010_XAudio_x86.cab', 'Mar2008_d3dx10_37_x64.cab', 'Mar2008_d3dx10_37_x86.cab', 'Mar2008_d3dx9_37_x64.cab', 'Mar2008_d3dx9_37_x86.cab', 'Mar2008_X3DAudio_x64.cab', 'Mar2008_X3DAudio_x86.cab', 'Mar2008_XACT_x64.cab', 'Mar2008_XACT_x86.cab', 'Mar2008_XAudio_x64.cab', 'Mar2008_XAudio_x86.cab', 'Mar2009_d3dx10_41_x64.cab', 'Mar2009_d3dx10_41_x86.cab', 'Mar2009_d3dx9_41_x64.cab', 'Mar2009_d3dx9_41_x86.cab', 'Mar2009_X3DAudio_x64.cab', 'Mar2009_X3DAudio_x86.cab', 'Mar2009_XACT_x64.cab', 'Mar2009_XACT_x86.cab', 'Mar2009_XAudio_x64.cab', 'Mar2009_XAudio_x86.cab', 'Nov2007_d3dx10_36_x64.cab', 'Nov2007_d3dx10_36_x86.cab', 'Nov2007_d3dx9_36_x64.cab', 'Nov2007_d3dx9_36_x86.cab', 'NOV2007_X3DAudio_x64.cab', 'NOV2007_X3DAudio_x86.cab', 'NOV2007_XACT_x64.cab', 'NOV2007_XACT_x86.cab', 'Nov2008_d3dx10_40_x64.cab', 'Nov2008_d3dx10_40_x86.cab', 'Nov2008_d3dx9_40_x64.cab', 'Nov2008_d3dx9_40_x86.cab', 'Nov2008_X3DAudio_x64.cab', 'Nov2008_X3DAudio_x86.cab', 'Nov2008_XACT_x64.cab', 'Nov2008_XACT_x86.cab', 'Nov2008_XAudio_x64.cab', 'Nov2008_XAudio_x86.cab', 'Oct2005_xinput_x64.cab', 'Oct2005_xinput_x86.cab', 'OCT2006_d3dx9_31_x64.cab', 'OCT2006_d3dx9_31_x86.cab', 'OCT2006_XACT_x64.cab', 'OCT2006_XACT_x86.cab']\n",
      "- D:GAMZZ\\Tekken 7\\_CommonRedist\\vcredist\n",
      "📂 ['2015']\n",
      "📄 []\n",
      "- D:GAMZZ\\Tekken 7\\_CommonRedist\\vcredist\\2015\n",
      "📂 []\n",
      "📄 ['installscript.vdf', 'Microsoft Visual C++ 2015 x64.cmd', 'Microsoft Visual C++ 2015 x86.cmd', 'vc_redist.x64.exe', 'vc_redist.x86.exe']\n",
      "- D:Gyaarah.Gyaarah.S01.E01-08.1080p.ZEE5.WEB-DL.Hindi.DDP5.1.H.264.Vegamovies.To\n",
      "📂 []\n",
      "📄 ['Gyaarah.Gyaarah.S01E01.Episode.1.1080p.ZEE5.WEB-DL.Hindi.DDP5.1.H.264.Vegamovies.To.mkv', 'Gyaarah.Gyaarah.S01E02.Episode.2.1080p.ZEE5.WEB-DL.Hindi.DDP5.1.H.264.Vegamovies.To.mkv', 'Gyaarah.Gyaarah.S01E03.Episode.3.1080p.ZEE5.WEB-DL.Hindi.DDP5.1.H.264.Vegamovies.To.mkv', 'Gyaarah.Gyaarah.S01E04.Episode.4.1080p.ZEE5.WEB-DL.Hindi.DDP5.1.H.264.Vegamovies.To.mkv', 'Gyaarah.Gyaarah.S01E05.Episode.5.1080p.ZEE5.WEB-DL.Hindi.DDP5.1.H.264.Vegamovies.To.mkv', 'Gyaarah.Gyaarah.S01E06.Episode.6.1080p.ZEE5.WEB-DL.Hindi.DDP5.1.H.264.Vegamovies.To.mkv', 'Gyaarah.Gyaarah.S01E07.Episode.7.1080p.ZEE5.WEB-DL.Hindi.DDP5.1.H.264.Vegamovies.To.mkv', 'Gyaarah.Gyaarah.S01E08.Episode.8.1080p.ZEE5.WEB-DL.Hindi.DDP5.1.H.264.Vegamovies.To.mkv']\n",
      "- D:IC.814.The.Kandahar.Hijack.S01.1080p.NF.WEB-DL.DUAL.DDP5.1.Atmos.H.264.Vegamovies.To\n",
      "📂 []\n",
      "📄 ['IC.814.The.Kandahar.Hijack.S01E01.Episode.1.1080p.NF.WEB-DL.DUAL.DDP5.1.Atmos.H.264.Vegamovies.To.mkv', 'IC.814.The.Kandahar.Hijack.S01E02.Episode.2.1080p.NF.WEB-DL.DUAL.DDP5.1.Atmos.H.264.Vegamovies.To.mkv', 'IC.814.The.Kandahar.Hijack.S01E03.Episode.3.1080p.NF.WEB-DL.DUAL.DDP5.1.Atmos.H.264.Vegamovies.To.mkv', 'IC.814.The.Kandahar.Hijack.S01E04.Episode.4.1080p.NF.WEB-DL.DUAL.DDP5.1.Atmos.H.264.Vegamovies.To.mkv', 'IC.814.The.Kandahar.Hijack.S01E05.Episode.5.1080p.NF.WEB-DL.DUAL.DDP5.1.Atmos.H.264.Vegamovies.To.mkv', 'IC.814.The.Kandahar.Hijack.S01E06.Episode.6.1080p.NF.WEB-DL.DUAL.DDP5.1.Atmos.H.264.Vegamovies.To.mkv']\n",
      "- D:Pics\n",
      "📂 ['Eid2k22', 'football', 'Hamza Bday', 'iOS', 'Rockstar mov', 'whatsaap vid']\n",
      "📄 ['IMG-20201027-WA0041.jpeg', 'IMG-20201027-WA0046.jpeg', 'IMG-20210514-WA0008-01.jpeg', 'marksheet.jpeg', 'passport.jpeg']\n",
      "- D:Pics\\Eid2k22\n",
      "📂 []\n",
      "📄 ['IMG-20220503-WA0005.jpg', 'IMG-20220503-WA0006.jpg', 'IMG-20220503-WA0007.jpg', 'IMG-20220503-WA0008.jpg', 'IMG-20220503-WA0009.jpg', 'IMG-20220503-WA0010.jpg', 'IMG-20220503-WA0011.jpg', 'IMG-20220503-WA0012.jpg', 'IMG-20220503-WA0013.jpg', 'IMG-20220503-WA0014.jpg', 'IMG-20220503-WA0015.jpg', 'IMG-20220503-WA0016.jpg', 'IMG-20220503-WA0017.jpg', 'IMG-20220503-WA0018.jpg', 'IMG-20220503-WA0019.jpg', 'IMG-20220503-WA0020.jpg', 'IMG-20220503-WA0021.jpg', 'IMG-20220503-WA0022.jpg', 'IMG-20220503-WA0023.jpg', 'IMG-20220503-WA0024.jpg', 'IMG-20220503-WA0025.jpg', 'IMG-20220503-WA0026.jpg', 'IMG-20220503-WA0027.jpg', 'IMG-20220503-WA0028.jpg', 'IMG-20220503-WA0029.jpg', 'IMG-20220503-WA0030.jpg', 'IMG-20220503-WA0031.jpg', 'IMG-20220503-WA0033.jpg', 'IMG-20220503-WA0090.jpg', 'IMG-20220503-WA0092.jpg', 'IMG-20220503-WA0093.jpg', 'IMG-20220503-WA0094.jpg', 'IMG-20220503-WA0095.jpg', 'IMG-20220503-WA0096.jpg', 'IMG-20220503-WA0097.jpg', 'IMG-20220503-WA0098.jpg', 'IMG-20220503-WA0099.jpg', 'IMG-20220503-WA0100.jpg', 'IMG-20220503-WA0101.jpg', 'IMG-20220503-WA0102.jpg', 'IMG-20220504-WA0006.jpg', 'IMG-20220504-WA0007.jpg', 'IMG-20220504-WA0008.jpg', 'IMG-20220504-WA0009.jpg', 'IMG-20220504-WA0010.jpg', 'IMG-20220504-WA0011.jpg', 'IMG-20220504-WA0012.jpg', 'IMG-20220504-WA0014.jpg', 'IMG-20220504-WA0017.jpg', 'IMG-20220504-WA0018.jpg', 'IMG-20220504-WA0019.jpg', 'IMG-20220504-WA0020.jpg', 'IMG-20220504-WA0021.jpg', 'IMG-20220504-WA0022.jpg', 'IMG-20220504-WA0023.jpg', 'IMG-20220504-WA0024.jpg', 'IMG-20220504-WA0025.jpg', 'IMG-20220504-WA0052.jpg', 'IMG-20220504-WA0053.jpg', 'IMG-20220504-WA0054.jpg', 'IMG-20220504-WA0055.jpg', 'IMG-20220504-WA0056.jpg', 'IMG-20220504-WA0057.jpg', 'IMG-20220504-WA0058.jpg', 'IMG-20220504-WA0059.jpg', 'IMG-20220504-WA0060.jpg', 'IMG-20220504-WA0061.jpg', 'IMG-20220504-WA0062.jpg', 'IMG-20220504-WA0063.jpg', 'IMG-20220504-WA0064.jpg', 'IMG-20220504-WA0065.jpg', 'IMG-20220504-WA0066.jpg', 'IMG-20220504-WA0067.jpg', 'IMG-20220504-WA0068.jpg', 'IMG-20220504-WA0069.jpg', 'IMG-20220504-WA0070.jpg', 'IMG-20220504-WA0071.jpg', 'IMG-20220504-WA0072.jpg', 'IMG-20220504-WA0073.jpg', 'IMG-20220504-WA0074.jpg', 'IMG-20220504-WA0075.jpg', 'IMG-20220504-WA0076.jpg', 'IMG-20220504-WA0077.jpg', 'IMG-20220504-WA0078.jpg', 'IMG-20220504-WA0079.jpg', 'IMG-20220504-WA0080.jpg', 'IMG-20220504-WA0081.jpg', 'IMG-20220504-WA0082.jpg', 'IMG-20220504-WA0083.jpg', 'IMG-20220504-WA0084.jpg', 'IMG-20220504-WA0085.jpg', 'IMG-20220504-WA0086.jpg', 'IMG-20220504-WA0087.jpg', 'IMG-20220504-WA0088.jpg', 'IMG-20220504-WA0089.jpg', 'IMG-20220504-WA0090.jpg', 'IMG-20220504-WA0091.jpg', 'IMG-20220504-WA0092.jpg', 'IMG-20220504-WA0093.jpg', 'IMG-20220504-WA0094.jpg', 'IMG-20220504-WA0095.jpg', 'IMG-20220504-WA0096.jpg', 'IMG-20220504-WA0097.jpg', 'IMG-20220504-WA0098.jpg', 'IMG-20220504-WA0099.jpg', 'IMG-20220504-WA0100.jpg', 'IMG-20220504-WA0101.jpg', 'IMG-20220504-WA0102.jpg', 'IMG-20220504-WA0103.jpg', 'IMG-20220504-WA0104.jpg', 'IMG-20220504-WA0105.jpg', 'IMG-20220504-WA0106.jpg', 'IMG-20220504-WA0107.jpg', 'IMG-20220504-WA0108.jpg', 'IMG-20220504-WA0109.jpg', 'IMG-20220504-WA0110.jpg']\n",
      "- D:Pics\\football\n",
      "📂 ['Fiesta']\n",
      "📄 ['VID-20220316-WA0007.mp4', 'VID-20220316-WA0011.mp4', 'VID-20220316-WA0012.mp4']\n",
      "- D:Pics\\football\\Fiesta\n",
      "📂 []\n",
      "📄 ['DSC_0010.JPG', 'DSC_0011.JPG', 'DSC_0012.JPG', 'DSC_0013.JPG', 'DSC_0014.JPG', 'DSC_0016.JPG', 'DSC_0017.JPG', 'DSC_0018.JPG', 'DSC_0082.JPG', 'DSC_0143.JPG', 'DSC_0144.JPG', 'DSC_0145.JPG', 'DSC_0146.JPG', 'DSC_0148.JPG', 'DSC_0149.JPG', 'DSC_0151.JPG', 'DSC_0153.JPG', 'DSC_0154.JPG', 'DSC_0195.JPG', 'DSC_0196.JPG', 'DSC_0197.JPG', 'DSC_0198.JPG', 'DSC_0199.JPG', 'DSC_0237.JPG', 'DSC_0238.JPG', 'DSC_0239.JPG', 'DSC_0240.JPG', 'DSC_0241.JPG', 'DSC_0242.JPG', 'DSC_0243.JPG', 'DSC_0244.JPG', 'DSC_0264.JPG', 'DSC_0265.JPG', 'DSC_0266.JPG', 'DSC_0287.JPG', 'DSC_0288.JPG', 'DSC_0289.JPG', 'DSC_0290.JPG', 'DSC_0291.JPG', 'DSC_0292.JPG', 'DSC_0302.JPG', 'DSC_0798.JPG', 'DSC_0799.JPG', 'DSC_0805.JPG', 'DSC_0810.JPG', 'DSC_0813.JPG', 'DSC_0843.JPG', 'DSC_0844.JPG', 'DSC_0846.JPG', 'DSC_0847.JPG', 'DSC_0885.JPG', 'DSC_0958.JPG', 'DSC_0975.JPG', 'DSC_0976.JPG', 'DSC_0998.JPG', 'DSC_1017.JPG', 'DSC_1018.JPG', 'DSC_1019.JPG', 'DSC_1020.JPG', 'IMG_20220316_164054.jpg', 'IMG_8933.JPG', 'IMG_8934.JPG']\n",
      "- D:Pics\\Hamza Bday\n",
      "📂 []\n",
      "📄 ['IMG-20220506-WA0000.jpg', 'IMG-20220506-WA0001.jpg', 'IMG-20220506-WA0002.jpg', 'IMG-20220506-WA0003.jpg', 'IMG-20220506-WA0004.jpg', 'IMG-20220506-WA0005.jpg', 'IMG-20220506-WA0006.jpg', 'IMG-20220506-WA0007.jpg', 'IMG-20220506-WA0008.jpg', 'IMG-20220506-WA0009.jpg', 'IMG-20220506-WA0010.jpg', 'IMG-20220506-WA0011.jpg', 'IMG-20220506-WA0012.jpg', 'IMG-20220506-WA0013.jpg', 'IMG-20220506-WA0014.jpg', 'IMG-20220506-WA0016.jpg', 'IMG-20220506-WA0017.jpg', 'IMG-20220506-WA0018.jpg', 'IMG-20220506-WA0019.jpg', 'IMG-20220506-WA0020.jpg', 'IMG-20220506-WA0021.jpg', 'IMG-20220506-WA0022.jpg', 'IMG-20220506-WA0023.jpg', 'IMG-20220506-WA0024.jpg', 'IMG-20220506-WA0025.jpg', 'IMG-20220506-WA0026.jpg', 'IMG-20220506-WA0027.jpg', 'IMG-20220506-WA0028.jpg', 'IMG-20220506-WA0029.jpg', 'IMG-20220506-WA0030.jpg', 'IMG-20220506-WA0031.jpg', 'IMG-20220506-WA0032.jpg', 'IMG-20220506-WA0033.jpg', 'IMG-20220506-WA0034.jpg', 'IMG-20220506-WA0035.jpg', 'IMG-20220506-WA0036.jpg', 'IMG-20220506-WA0037.jpg', 'IMG-20220506-WA0039.jpg', 'IMG-20220506-WA0043.jpg', 'IMG-20220506-WA0044.jpg', 'IMG-20220506-WA0045.jpg', 'IMG-20220506-WA0046.jpg', 'IMG-20220506-WA0047.jpg', 'IMG-20220506-WA0048.jpg', 'IMG-20220506-WA0049.jpg', 'IMG-20220506-WA0050.jpg', 'IMG-20220506-WA0054.jpg', 'IMG-20220506-WA0055.jpg', 'IMG-20220506-WA0056.jpg', 'IMG-20220506-WA0057.jpg', 'IMG-20220506-WA0058.jpg', 'IMG-20220506-WA0059.jpg', 'IMG-20220506-WA0060.jpg', 'IMG-20220506-WA0061.jpg', 'IMG-20220506-WA0062.jpg', 'IMG-20220506-WA0063.jpg', 'IMG-20220506-WA0064.jpg', 'IMG-20220506-WA0065.jpg']\n",
      "- D:Pics\\iOS\n",
      "📂 ['2K23', '2K24']\n",
      "📄 []\n",
      "- D:Pics\\iOS\\2K23\n",
      "📂 []\n",
      "📄 ['IMG_0837.JPG', 'IMG_0838.JPG', 'IMG_0843.JPG', 'IMG_0844.JPG', 'IMG_0845.JPG', 'IMG_0846.JPG', 'IMG_0847.JPG', 'IMG_0848.JPG', 'IMG_0849.JPG', 'IMG_0859.JPG', 'IMG_0860.JPG', 'IMG_0862.JPG', 'IMG_0863.JPG', 'IMG_0865.JPG', 'IMG_0866.JPG', 'IMG_1254.JPG', 'IMG_1255.JPG', 'IMG_1256.JPG', 'IMG_1257.JPG', 'IMG_1258.JPG', 'IMG_1259.JPG', 'IMG_1260.JPG', 'IMG_1261.JPG', 'IMG_1267.JPG', 'IMG_1268.JPG', 'IMG_1486.JPG', 'IMG_1487.JPG', 'IMG_1488.JPG', 'IMG_1489.JPG', 'IMG_1490.JPG', 'IMG_1491.JPG', 'IMG_1492.JPG', 'IMG_1721.MOV', 'IMG_1722.MOV', 'IMG_1723.MOV', 'IMG_1724.MOV', 'IMG_1726.MOV', 'IMG_1727.MOV', 'IMG_1935.MOV', 'IMG_1937.JPG', 'IMG_1938.JPG', 'IMG_1942.MOV', 'IMG_1943.MOV', 'IMG_1985.JPG', 'IMG_1989.JPG', 'IMG_1990.JPG', 'IMG_2025.JPG', 'IMG_2031.JPG', 'IMG_2035.JPG', 'IMG_2037.JPG', 'IMG_2041.JPG', 'IMG_2042.JPG', 'IMG_2044.JPG', 'IMG_2046.JPG', 'IMG_2048.JPG', 'IMG_2049.JPG', 'IMG_2050.JPG', 'IMG_2051.JPG', 'IMG_2052.JPG', 'IMG_2053.JPG', 'IMG_2165.JPG', 'IMG_2166.JPG', 'IMG_2167.JPG', 'IMG_2170.JPG', 'IMG_2269.JPG', 'IMG_2270.JPG', 'IMG_2271.JPG', 'IMG_2276.JPG', 'IMG_2277.JPG', 'IMG_2278.JPG', 'IMG_2279.JPG', 'IMG_2280.JPG', 'IMG_2282.JPG', 'IMG_2283.JPG', 'IMG_2285.JPG', 'IMG_2335.JPG', 'IMG_2343.JPG', 'IMG_2344.JPG', 'IMG_2345.JPG', 'IMG_2353.JPG', 'IMG_2364.JPG', 'IMG_2371.JPG', 'IMG_2372.JPG', 'IMG_2373.JPG', 'IMG_2391.JPG', 'IMG_2393.JPG', 'IMG_2394.JPG', 'IMG_2395.JPG', 'IMG_2399.JPG', 'IMG_2400.JPG', 'IMG_2403.JPG', 'IMG_2404.JPG', 'IMG_E0787.JPG', 'IMG_E0788.JPG', 'IMG_E0789.JPG', 'IMG_E0790.JPG', 'IMG_E0791.JPG', 'IMG_E1488.JPG', 'IMG_E1489.JPG', 'IMG_E1490.JPG', 'IMG_E1491.JPG', 'IMG_E1492.JPG', 'IMG_E1494.JPG', 'IMG_E2060.JPG', 'IMG_E2149.JPG', 'IMG_E2150.JPG', 'IMG_E2165.JPG', 'IMG_E2166.JPG', 'IMG_E2167.JPG', 'IMG_E2178.JPG', 'IMG_E2179.JPG', 'IMG_E2180.JPG', 'IMG_E2182.JPG', 'IMG_E2183.JPG', 'IMG_E2184.JPG', 'IMG_E2185.JPG', 'IMG_E2186.JPG', 'IMG_E2187.JPG', 'IMG_E2189.JPG', 'IMG_E2190.JPG', 'IMG_E2195.JPG', 'IMG_E2196.JPG', 'IMG_E2197.JPG', 'IMG_E2198.JPG', 'IMG_E2199.JPG', 'IMG_E2209.JPG', 'IMG_E2210.JPG', 'IMG_E2212.JPG', 'IMG_E2237.JPG', 'IMG_E2238.JPG', 'IMG_E2276.JPG', 'IMG_E2277.JPG', 'IMG_E2278.JPG', 'IMG_E2279.JPG', 'IMG_E2280.JPG', 'IMG_E2282.JPG', 'IMG_E2283.JPG', 'IMG_E2285.JPG', 'IMG_E2289.JPG', 'IMG_E2290.JPG', 'IMG_E2316.JPG', 'IMG_E2317.JPG', 'IMG_E2325.JPG', 'IMG_E2353.JPG', 'IMG_E2356.JPG', 'IMG_E2357.JPG', 'IMG_E2358.JPG', 'IMG_E2359.JPG', 'IMG_E2361.JPG', 'IMG_E2363.JPG', 'VQBA4632.MP4', 'VWDD3246.MP4']\n",
      "- D:Pics\\iOS\\2K24\n",
      "📂 ['1', 'int', 'misc', 'salman bhai shadi', 'wed']\n",
      "📄 ['ACOYE5368.JPG', 'AFEK7444.JPG', 'AGCX7424.JPG', 'AGMD4807.JPG', 'APPY5799.JPG', 'ASSF6738.MP4', 'AVOD0214.JPG', 'BACY8462.MP4', 'BASH1587.JPG', 'BDHV1730.MP4', 'BEUG0713.MP4', 'BGMP8516.JPG', 'BMBH6579.MP4', 'BOTU2361.JPG', 'BRSI8843.MP4', 'BSYA0745.MP4', 'BYGD6281.JPG', 'BYZR7105.MP4', 'CALK5633.MP4', 'CALT8995.MP4', 'CFGI1638.MP4', 'CFOY2339.JPG', 'CGNW4105.MP4', 'CNSG6733.JPG', 'CPVU9840.JPG', 'CRUJ8346.MOV', 'DGEI2483.MP4', 'DHLT0337.JPG', 'DHUXE3387.JPG', 'DJRO1301.JPG', 'DTUD5571.JPG', 'DXQG6640.JPG', 'EAGS3564.MP4', 'ECHE9903.JPG', 'EEMB7915.JPG', 'EGBB0006.JPG', 'ENJA0045.JPG', 'EOHB3375.MP4', 'EOSB4425.JPG', 'EWDA4866.MP4', 'EWER1296.JPG', 'FEGA2134.MP4', 'FJQP8160.JPG', 'FJWN5689.JPG', 'FRZW6924.JPG', 'FSXO8520.MP4', 'FWDO0701.MP4', 'GBRO0510.MP4', 'GIBC8580.MP4', 'GJOL7557.MP4', 'GSWK7552.JPG', 'GWOP7719.JPG', 'GWVB4175.MP4', 'HEKF8274.JPG', 'HGJJ4983.JPG', 'HQAW3905.MP4', 'HXKJ1983.MOV', 'HXNN8909.MP4', 'HZRC0858.JPG', 'IEAU6754.MP4', 'IHUE2095.MOV', 'IIGC8497.JPG', 'IJDR5525.JPG', 'IMG_1088.HEIC', 'IMG_1089.HEIC', 'IMG_1090.HEIC', 'IMG_1091.HEIC', 'IMG_1271.JPG', 'IMG_1274.JPG', 'IMG_1302.MOV', 'IMG_1304.MOV', 'IMG_1493.HEIC', 'IMG_1606.MOV', 'IMG_1688.MOV', 'IMG_1689.MOV', 'IMG_1922.HEIC', 'IMG_1926.HEIC', 'IMG_1943.MOV', 'IMG_2054.HEIC', 'IMG_2055.HEIC', 'IMG_2149.HEIC', 'IMG_2150.HEIC', 'IMG_2180.HEIC', 'IMG_2182.HEIC', 'IMG_2183.HEIC', 'IMG_2184.HEIC', 'IMG_2185.HEIC', 'IMG_2186.HEIC', 'IMG_2187.HEIC', 'IMG_2189.HEIC', 'IMG_2190.HEIC', 'IMG_2195.HEIC', 'IMG_2196.HEIC', 'IMG_2197.HEIC', 'IMG_2199.HEIC', 'IMG_2209.HEIC', 'IMG_2210.HEIC', 'IMG_2212.HEIC', 'IMG_2237.HEIC', 'IMG_2256.HEIC', 'IMG_2294.HEIC', 'IMG_2316.HEIC', 'IMG_2317.HEIC', 'IMG_2340.HEIC', 'IMG_2341.HEIC', 'IMG_2342.HEIC', 'IMG_2356.HEIC', 'IMG_2357.HEIC', 'IMG_2358.HEIC', 'IMG_2371.HEIC', 'IMG_2372.HEIC', 'IMG_2373.HEIC', 'IMG_2374.HEIC', 'IMG_2375.HEIC', 'IMG_2376.HEIC', 'IMG_2377.HEIC', 'IMG_2598.JPG', 'IMG_2623.MOV', 'IMG_2801.HEIC', 'IMG_2802.HEIC', 'IMG_2803.HEIC', 'IMG_2805.HEIC', 'IMG_2843.JPG', 'IMG_2844.JPG', 'IMG_3145.JPG', 'IMG_3193.HEIC', 'IMG_3194.HEIC', 'IMG_3195.HEIC', 'IMG_3201.JPG', 'IMG_3213.MOV', 'IMG_3214.MOV', 'IMG_3245.MOV', 'IMG_3249.JPG', 'IMG_3258.HEIC', 'IMG_3272.HEIC', 'IMG_3279.HEIC', 'IMG_3282.JPG', 'IMG_3289.JPG', 'IMG_3291.JPG', 'IMG_3294.JPG', 'IMG_3296.JPG', 'IMG_3366.HEIC', 'IMG_3373.HEIC', 'IMG_3374.HEIC', 'IMG_3378.HEIC', 'IMG_3383.HEIC', 'IMG_3384.HEIC', 'IMG_3385.HEIC', 'IMG_3386.HEIC', 'IMG_3387.HEIC', 'IMG_3388.HEIC', 'IMG_3397.HEIC', 'IMG_3441.HEIC', 'IMG_3442.MOV', 'IMG_3445.JPG', 'IMG_3453.JPG', 'IMG_3461.JPG', 'IMG_3462.JPG', 'IMG_3481.HEIC', 'IMG_3482.HEIC', 'IMG_3483.HEIC', 'IMG_3484.HEIC', 'IMG_3485.HEIC', 'IMG_3485.JPG', 'IMG_3486.HEIC', 'IMG_3486.JPG', 'IMG_3487.HEIC', 'IMG_3487.JPG', 'IMG_3488.HEIC', 'IMG_3488.JPG', 'IMG_3489.HEIC', 'IMG_3489.JPG', 'IMG_3490.HEIC', 'IMG_3490.JPG', 'IMG_3491.HEIC', 'IMG_3493.HEIC', 'IMG_3495.JPG', 'IMG_3497.HEIC', 'IMG_3500.HEIC', 'IMG_3503.HEIC', 'IMG_3504.HEIC', 'IMG_3505.HEIC', 'IMG_3506.HEIC', 'IMG_3507.HEIC', 'IMG_3508.HEIC', 'IMG_3509.HEIC', 'IMG_3510.HEIC', 'IMG_3511.HEIC', 'IMG_3512.HEIC', 'IMG_3513.HEIC', 'IMG_3519.HEIC', 'IMG_3520.HEIC', 'IMG_3521.HEIC', 'IMG_3523.HEIC', 'IMG_3524.HEIC', 'IMG_3525.HEIC', 'IMG_3526.HEIC', 'IMG_3527.HEIC', 'IMG_3528.HEIC', 'IMG_3529.HEIC', 'IMG_3530.HEIC', 'IMG_3531.HEIC', 'IMG_3532.HEIC', 'IMG_3533.HEIC', 'IMG_3534.HEIC', 'IMG_3535.JPG', 'IMG_3539.HEIC', 'IMG_3540.HEIC', 'IMG_3541.HEIC', 'IMG_3542.HEIC', 'IMG_3543.HEIC', 'IMG_3544.HEIC', 'IMG_3549.JPG', 'IMG_3553.HEIC', 'IMG_3554.HEIC', 'IMG_3555.HEIC', 'IMG_3556.HEIC', 'IMG_3557.HEIC', 'IMG_3562.HEIC', 'IMG_3565.HEIC', 'IMG_3575.HEIC', 'IMG_3577.MOV', 'IMG_3578.HEIC', 'IMG_3579.HEIC', 'IMG_3580.HEIC', 'IMG_3581.HEIC', 'IMG_3582.HEIC', 'IMG_3583.HEIC', 'IMG_3584.HEIC', 'IMG_3585.HEIC', 'IMG_3586.HEIC', 'IMG_3588.HEIC', 'IMG_3593.HEIC', 'IMG_3594.HEIC', 'IMG_3595.HEIC', 'IMG_3596.HEIC', 'IMG_3597.HEIC', 'IMG_3602.HEIC', 'IMG_3603.HEIC', 'IMG_3604.HEIC', 'IMG_3605.HEIC', 'IMG_3606.HEIC', 'IMG_3607.HEIC', 'IMG_3608.HEIC', 'IMG_3609.HEIC', 'IMG_3610.HEIC', 'IMG_3611.HEIC', 'IMG_3612.HEIC', 'IMG_3613.HEIC', 'IMG_3614.HEIC', 'IMG_3615.HEIC', 'IMG_3616.HEIC', 'IMG_3617.HEIC', 'IMG_3618.HEIC', 'IMG_3633.HEIC', 'IMG_3637.HEIC', 'IMG_3639.HEIC', 'IMG_3640.HEIC', 'IMG_3641.HEIC', 'IMG_3642.HEIC', 'IMG_3643.HEIC', 'IMG_3644.HEIC', 'IMG_3650.HEIC', 'IMG_3651.HEIC', 'IMG_3652.HEIC', 'IMG_3653.HEIC', 'IMG_3654.HEIC', 'IMG_3655.MOV', 'IMG_3661.HEIC', 'IMG_3662.HEIC', 'IMG_3663.HEIC', 'IMG_3664.HEIC', 'IMG_3665.HEIC', 'IMG_3666.HEIC', 'IMG_3667.HEIC', 'IMG_3669.HEIC', 'IMG_3676.HEIC', 'IMG_3678.HEIC', 'IMG_3679.HEIC', 'IMG_3681.HEIC', 'IMG_3682.HEIC', 'IMG_3683.HEIC', 'IMG_3688.HEIC', 'IMG_3689.HEIC', 'IMG_3690.HEIC', 'IMG_3692.HEIC', 'IMG_3696.HEIC', 'IMG_3700.HEIC', 'IMG_3702.HEIC', 'IMG_3703.HEIC', 'IMG_3704.HEIC', 'IMG_3705.HEIC', 'IMG_3706.HEIC', 'IMG_3707.HEIC', 'IMG_3708.HEIC', 'IMG_3709.HEIC', 'IMG_3712.HEIC', 'IMG_3717.HEIC', 'IMG_3718.HEIC', 'IMG_3719.HEIC', 'IMG_3720.HEIC', 'IMG_3721.HEIC', 'IMG_3726.HEIC', 'IMG_3727.JPG', 'IMG_3731.HEIC', 'IMG_3732.HEIC', 'IMG_3733.HEIC', 'IMG_3734.HEIC', 'IMG_3735.HEIC', 'IMG_3737.JPG', 'IMG_3738.JPG', 'IMG_3740.HEIC', 'IMG_3741.JPG', 'IMG_3742.JPG', 'IMG_3743.JPG', 'IMG_3744.JPG', 'IMG_3745.JPG', 'IMG_3746.JPG', 'IMG_3748.JPG', 'IMG_3749.JPG', 'IMG_3750.HEIC', 'IMG_3751.HEIC', 'IMG_3752.HEIC', 'IMG_3753.HEIC', 'IMG_3754.HEIC', 'IMG_3755.HEIC', 'IMG_3756.HEIC', 'IMG_3757.HEIC', 'IMG_3758.HEIC', 'IMG_3759.HEIC', 'IMG_3760.HEIC', 'IMG_3761.HEIC', 'IMG_3762.HEIC', 'IMG_3764.HEIC', 'IMG_3766.HEIC', 'IMG_3769.HEIC', 'IMG_3771.HEIC', 'IMG_3772.HEIC', 'IMG_3773.HEIC', 'IMG_3780.HEIC', 'IMG_3781.HEIC', 'IMG_3782.PNG', 'IMG_3823.JPG', 'IMG_3824.JPG', 'IMG_3853.HEIC', 'IMG_3880.HEIC', 'IMG_3945.JPG', 'IMG_4015.HEIC', 'IMG_4016.HEIC', 'IMG_4021.MOV', 'IMG_4022.HEIC', 'IMG_4023.HEIC', 'IMG_4024.HEIC', 'IMG_4025.HEIC', 'IMG_4026.HEIC', 'IMG_4027.HEIC', 'IMG_4028.HEIC', 'IMG_4029.MOV', 'IMG_4033.HEIC', 'IMG_4034.HEIC', 'IMG_4078.MOV', 'IMG_4099.PNG', 'IMG_4100.PNG', 'IMG_4110.PNG', 'IMG_4111.PNG', 'IMG_4121.HEIC', 'IMG_4122.MOV', 'IMG_4125.HEIC', 'IMG_4126.HEIC', 'IMG_4129.HEIC', 'IMG_4131.HEIC', 'IMG_4132.HEIC', 'IMG_4133.HEIC', 'IMG_4134.HEIC', 'IMG_4168.PNG', 'IMG_4170.PNG', 'IMG_4184.JPG', 'IMG_4185.JPG', 'IMG_4186.JPG', 'IMG_4188.JPG', 'IMG_4214.JPG', 'IMG_4217.HEIC', 'IMG_4218.HEIC', 'IMG_4241.HEIC', 'IMG_4241.MOV', 'IMG_4247.HEIC', 'IMG_4248.HEIC', 'IMG_4249.HEIC', 'IMG_4249.MOV', 'IMG_4250.HEIC', 'IMG_4250.MOV', 'IMG_4265.PNG', 'IMG_4277.JPG', 'IMG_4278.JPG', 'IMG_4279.JPG', 'IMG_4293.JPG', 'IMG_4294.JPG', 'IMG_4295.JPG', 'IMG_4297.JPG', 'IMG_4298.JPG', 'IMG_4299.JPG', 'IMG_4300.JPG', 'IMG_4302.JPG', 'IMG_4305.JPG', 'IMG_4306.JPG', 'IMG_4307.JPG', 'IMG_4308.JPG', 'IMG_4309.JPG', 'IMG_4310.JPG', 'IMG_4360.JPG', 'IMG_4381.HEIC', 'IMG_4382.HEIC', 'IMG_4383.HEIC', 'IMG_4384.HEIC', 'IMG_4388.JPG', 'IMG_4392.HEIC', 'IMG_4393.HEIC', 'IMG_4394.HEIC', 'IMG_4396.HEIC', 'IMG_4397.HEIC', 'IMG_4398.HEIC', 'IMG_4399.HEIC', 'IMG_4400.HEIC', 'IMG_4401.HEIC', 'IMG_4402.HEIC', 'IMG_4403.HEIC', 'IMG_4404.HEIC', 'IMG_4406.JPG', 'IMG_4407.JPG', 'IMG_4409.JPG', 'IMG_4423.JPG', 'IMG_4424.HEIC', 'IMG_4425.HEIC', 'IMG_4426.JPG', 'IMG_4427.JPG', 'IMG_4428.JPG', 'IMG_4431.PNG', 'IMG_4463.HEIC', 'IMG_4466.HEIC', 'IMG_4472.JPG', 'IMG_4473.HEIC', 'IMG_4474.HEIC', 'IMG_4475.HEIC', 'IMG_4478.HEIC', 'IMG_4479.HEIC', 'IMG_4481.HEIC', 'IMG_4482.HEIC', 'IMG_4484.HEIC', 'IMG_4485.HEIC', 'IMG_4486.HEIC', 'IMG_4488.HEIC', 'IMG_4489.MOV', 'IMG_4490.HEIC', 'IMG_4492.HEIC', 'IMG_4496.HEIC', 'IMG_4503.HEIC', 'IMG_4504.HEIC', 'IMG_4505.HEIC', 'IMG_4533.HEIC', 'IMG_4534.JPG', 'IMG_4537.JPG', 'IMG_4539.JPG', 'IMG_4542.JPG', 'IMG_4543.JPG', 'IMG_4545.JPG', 'IMG_4546.JPG', 'IMG_4547.JPG', 'IMG_4550.HEIC', 'IMG_4553.HEIC', 'IMG_4554.HEIC', 'IMG_4568.HEIC', 'IMG_4571.HEIC', 'IMG_4572.HEIC', 'IMG_4580.JPG', 'IMG_4587.MOV', 'IMG_4590.HEIC', 'IMG_4591.HEIC', 'IMG_4593.HEIC', 'IMG_4594.HEIC', 'IMG_4611.HEIC', 'IMG_4612.HEIC', 'IMG_4613.HEIC', 'IMG_4614.HEIC', 'IMG_4684.JPG', 'IMG_4704.HEIC', 'IMG_4705.HEIC', 'IMG_4707.JPG', 'IMG_4708.JPG', 'IMG_4709.JPG', 'IMG_4710.JPG', 'IMG_4711.MOV', 'IMG_4712.HEIC', 'IMG_4713.HEIC', 'IMG_4714.HEIC', 'IMG_4715.HEIC', 'IMG_4718.HEIC', 'IMG_4719.HEIC', 'IMG_4720.HEIC', 'IMG_4721.HEIC', 'IMG_4722.HEIC', 'IMG_4723.HEIC', 'IMG_4724.JPG', 'IMG_4726.JPG', 'IMG_4776.JPG', 'IMG_4905.MOV', 'IMG_4911.HEIC', 'IMG_4914.HEIC', 'IMG_4917.HEIC', 'IMG_4921.HEIC', 'IMG_4937.HEIC', 'IMG_4951.HEIC', 'IMG_4952.HEIC', 'IMG_4953.HEIC', 'IMG_4961.HEIC', 'IMG_4962.HEIC', 'IMG_4965.HEIC', 'IMG_4977.MOV', 'IMG_4978.MOV', 'IMG_4988.JPG', 'IMG_4989.JPG', 'IMG_4990.JPG', 'IMG_4991.JPG', 'IMG_4993.JPG', 'IMG_4994.JPG', 'IMG_4995.HEIC', 'IMG_4996.HEIC', 'IMG_4996.MOV', 'IMG_4998.JPG', 'IMG_5009.HEIC', 'IMG_5010.JPG', 'IMG_5011.JPG', 'IMG_5022.JPG', 'IMG_5024.JPG', 'IMG_5025.JPG', 'IMG_5026.JPG', 'IMG_5027.JPG', 'IMG_5029.JPG', 'IMG_5035.PNG', 'IMG_5039.HEIC', 'IMG_5039.MOV', 'IMG_5042.JPG', 'IMG_5043.HEIC', 'IMG_5043.MOV', 'IMG_5044.HEIC', 'IMG_5044.MOV', 'IMG_5045.HEIC', 'IMG_5046.HEIC', 'IMG_5046.MOV', 'IMG_5047.HEIC', 'IMG_5049.HEIC', 'IMG_5050.HEIC', 'IMG_5051.HEIC', 'IMG_5052.HEIC', 'IMG_5053.HEIC', 'IMG_5054.HEIC', 'IMG_5057.HEIC', 'IMG_5062.HEIC', 'IMG_5063.HEIC', 'IMG_5064.HEIC', 'IMG_5065.HEIC', 'IMG_5066.HEIC', 'IMG_5067.HEIC', 'IMG_5068.HEIC', 'IMG_5069.HEIC', 'IMG_5070.HEIC', 'IMG_5071.HEIC', 'IMG_5072.HEIC', 'IMG_5073.HEIC', 'IMG_5074.HEIC', 'IMG_5075.HEIC', 'IMG_5076.HEIC', 'IMG_5077.HEIC', 'IMG_5078.HEIC', 'IMG_5079.HEIC', 'IMG_5080.HEIC', 'IMG_5081.HEIC', 'IMG_5082.HEIC', 'IMG_5083.HEIC', 'IMG_5084.HEIC', 'IMG_5085.HEIC', 'IMG_5086.HEIC', 'IMG_5087.HEIC', 'IMG_5106.HEIC', 'IMG_5107.HEIC', 'IMG_5108.HEIC', 'IMG_5109.HEIC', 'IMG_5113.JPG', 'IMG_5114.JPG', 'IMG_5115.JPG', 'IMG_5116.JPG', 'IMG_5117.JPG', 'IMG_5118.JPG', 'IMG_5123.HEIC', 'IMG_5126.HEIC', 'IMG_5127.HEIC', 'IMG_5128.HEIC', 'IMG_5129.HEIC', 'IMG_5130.HEIC', 'IMG_5131.HEIC', 'IMG_5132.HEIC', 'IMG_5133.HEIC', 'IMG_5134.HEIC', 'IMG_5135.HEIC', 'IMG_5136.HEIC', 'IMG_5137.HEIC', 'IMG_5138.HEIC', 'IMG_5139.HEIC', 'IMG_5140.HEIC', 'IMG_5141.HEIC', 'IMG_5142.HEIC', 'IMG_5143.HEIC', 'IMG_5144.HEIC', 'IMG_5145.HEIC', 'IMG_5146.HEIC', 'IMG_5147.HEIC', 'IMG_5148.HEIC', 'IMG_5149.HEIC', 'IMG_5150.HEIC', 'IMG_5151.HEIC', 'IMG_5152.HEIC', 'IMG_5153.HEIC', 'IMG_5154.HEIC', 'IMG_5155.HEIC', 'IMG_5156.HEIC', 'IMG_5157.HEIC', 'IMG_5158.HEIC', 'IMG_5159.HEIC', 'IMG_5160.HEIC', 'IMG_5161.HEIC', 'IMG_5162.HEIC', 'IMG_5163.HEIC', 'IMG_5164.HEIC', 'IMG_5165.HEIC', 'IMG_5166.HEIC', 'IMG_5167.MOV', 'IMG_5177.JPG', 'IMG_5178.JPG', 'IMG_5179.JPG', 'IMG_5180.JPG', 'IMG_5181.JPG', 'IMG_5182.JPG', 'IMG_5183.JPG', 'IMG_5184.JPG', 'IMG_5185.JPG', 'IMG_5186.JPG', 'IMG_5187.JPG', 'IMG_5188.JPG', 'IMG_5189.JPG', 'IMG_5190.JPG', 'IMG_5191.JPG', 'IMG_5192.JPG', 'IMG_5193.JPG', 'IMG_5194.JPG', 'IMG_5201.JPG', 'IMG_5203.JPG', 'IMG_5204.JPG', 'IMG_5205.JPG', 'IMG_5209.JPG', 'IMG_5210.JPG', 'IMG_5211.JPG', 'IMG_5212.JPG', 'IMG_5214.HEIC', 'IMG_5216.HEIC', 'IMG_5217.HEIC', 'IMG_5218.HEIC', 'IMG_5219.JPG', 'IMG_5239.JPG', 'IMG_5240.JPG', 'IMG_5241.JPG', 'IMG_5252.PNG', 'IMG_5261.HEIC', 'IMG_5278.HEIC', 'IMG_5280.PNG', 'IMG_5299.HEIC', 'IMG_5300.JPG', 'IMG_5301.JPG', 'IMG_5335.JPG', 'IMG_5336.JPG', 'IMG_5337.JPG', 'IMG_5339.JPG', 'IMG_5340.JPG', 'IMG_5356.JPG', 'IMG_5358.JPG', 'IMG_5382.HEIC', 'IMG_5383.HEIC', 'IMG_5385.HEIC', 'IMG_5386.HEIC', 'IMG_5387.HEIC', 'IMG_5388.HEIC', 'IMG_5389.HEIC', 'IMG_5390.HEIC', 'IMG_5391.HEIC', 'IMG_5392.HEIC', 'IMG_5393.HEIC', 'IMG_5394.HEIC', 'IMG_5395.HEIC', 'IMG_5397.HEIC', 'IMG_5398.HEIC', 'IMG_5399.HEIC', 'IMG_5400.HEIC', 'IMG_5401.HEIC', 'IMG_5405.JPG', 'IMG_5406.JPG', 'IMG_5407.JPG', 'IMG_5408.JPG', 'IMG_5409.HEIC', 'IMG_5411.HEIC', 'IMG_5417.HEIC', 'IMG_5421.HEIC', 'IMG_5422.HEIC', 'IMG_5423.HEIC', 'IMG_5424.HEIC', 'IMG_5425.HEIC', 'IMG_5426.JPG', 'IMG_5427.JPG', 'IMG_5428.JPG', 'IMG_5438.HEIC', 'IMG_5455.JPG', 'IMG_5499.HEIC', 'IMG_5502.MOV', 'IMG_5504.HEIC', 'IMG_5534.HEIC', 'IMG_5536.HEIC', 'IMG_5537.HEIC', 'IMG_5538.HEIC', 'IMG_5544.HEIC', 'IMG_5545.HEIC', 'IMG_5546.HEIC', 'IMG_5547.HEIC', 'IMG_5548.HEIC', 'IMG_5550.HEIC', 'IMG_5557.HEIC', 'IMG_5563.JPG', 'IMG_5586.HEIC', 'IMG_5590.JPG', 'IMG_5601.PNG', 'IMG_5604.HEIC', 'IMG_5606.HEIC', 'IMG_5607.HEIC', 'IMG_5608.HEIC', 'IMG_5609.HEIC', 'IMG_5610.HEIC', 'IMG_5611.HEIC', 'IMG_5612.HEIC', 'IMG_5615.HEIC', 'IMG_5616.HEIC', 'IMG_5623.HEIC', 'IMG_5624.HEIC', 'IMG_5625.HEIC', 'IMG_5626.HEIC', 'IMG_5627.HEIC', 'IMG_5628.HEIC', 'IMG_5629.HEIC', 'IMG_5630.HEIC', 'IMG_5631.HEIC', 'IMG_5632.HEIC', 'IMG_5633.HEIC', 'IMG_5634.HEIC', 'IMG_5641.HEIC', 'IMG_5642.HEIC', 'IMG_5643.HEIC', 'IMG_5644.HEIC', 'IMG_5645.HEIC', 'IMG_5646.HEIC', 'IMG_5647.HEIC', 'IMG_5655.HEIC', 'IMG_5656.HEIC', 'IMG_5657.MOV', 'IMG_5690.HEIC', 'IMG_5691.HEIC', 'IMG_5692.HEIC', 'IMG_5693.HEIC', 'IMG_5696.HEIC', 'IMG_5697.HEIC', 'IMG_5698.HEIC', 'IMG_5700.HEIC', 'IMG_5701.HEIC', 'IMG_5702.HEIC', 'IMG_5703.HEIC', 'IMG_5704.HEIC', 'IMG_5706.HEIC', 'IMG_5707.HEIC', 'IMG_5709.HEIC', 'IMG_5710.PNG', 'IMG_5769.HEIC', 'IMG_5770.HEIC', 'IMG_5771.HEIC', 'IMG_5772.MOV', 'IMG_5774.MOV', 'IMG_5775.MOV', 'IMG_5776.MOV', 'IMG_5777.MOV', 'IMG_5778.MOV', 'IMG_5779.HEIC', 'IMG_5780.MOV', 'IMG_5781.MOV', 'IMG_5782.MOV', 'IMG_5783.MOV', 'IMG_5784.MOV', 'IMG_5785.MOV', 'IMG_5789.MOV', 'IMG_5790.MOV', 'IMG_5804.MOV', 'IMG_5805.HEIC', 'IMG_5806.HEIC', 'IMG_5808.MOV', 'IMG_5815.JPG', 'IMG_5820.JPG', 'IMG_5822.JPG', 'IMG_5823.MOV', 'IMG_5824.HEIC', 'IMG_5825.HEIC', 'IMG_5828.HEIC', 'IMG_5829.HEIC', 'IMG_5847.MOV', 'IMG_5848.JPG', 'IMG_5849.JPG', 'IMG_5850.MOV', 'IMG_5851.MOV', 'IMG_5852.MOV', 'IMG_5853.MOV', 'IMG_5868.JPG', 'IMG_5911.HEIC', 'IMG_5912.HEIC', 'IMG_5913.HEIC', 'IMG_5914.HEIC', 'IMG_5921.HEIC', 'IMG_5922.HEIC', 'IMG_5923.HEIC', 'IMG_5925.HEIC', 'IMG_5926.HEIC', 'IMG_5927.HEIC', 'IMG_5927.jpg', 'IMG_5928.HEIC', 'IMG_5929.HEIC', 'IMG_5930.HEIC', 'IMG_5931.HEIC', 'IMG_5964.JPG', 'IMG_5965.JPG', 'IMG_5966.JPG', 'IMG_5972.HEIC', 'IMG_5973.HEIC', 'IMG_5974.HEIC', 'IMG_5975.HEIC', 'IMG_5976.HEIC', 'IMG_5977.HEIC', 'IMG_5978.HEIC', 'IMG_5979.HEIC', 'IMG_5980.HEIC', 'IMG_5981.HEIC', 'IMG_5982.HEIC', 'IMG_5983.JPG', 'IMG_5984.JPG', 'IMG_5985.JPG', 'IMG_5986.JPG', 'IMG_5987.JPG', 'IMG_5988.JPG', 'IMG_5989.JPG', 'IMG_5990.JPG', 'IMG_5991.JPG', 'IMG_5992.HEIC', 'IMG_5993.HEIC', 'IMG_5994.HEIC', 'IMG_5995.JPG', 'IMG_5996.JPG', 'IMG_6001.JPG', 'IMG_6002.JPG', 'IMG_6003.JPG', 'IMG_6004.JPG', 'IMG_6005.JPG', 'IMG_6006.HEIC', 'IMG_6015.HEIC', 'IMG_6016.HEIC', 'IMG_6017.HEIC', 'IMG_6018.HEIC', 'IMG_6019.HEIC', 'IMG_6020.HEIC', 'IMG_6021.HEIC', 'IMG_6022.HEIC', 'IMG_6023.HEIC', 'IMG_6024.HEIC', 'IMG_6031.HEIC', 'IMG_6033.HEIC', 'IMG_6035.HEIC', 'IMG_6036.HEIC', 'IMG_6037.HEIC', 'IMG_6038.HEIC', 'IMG_6039.HEIC', 'IMG_6040.HEIC', 'IMG_6041.HEIC', 'IMG_6042.HEIC', 'IMG_6043.HEIC', 'IMG_6046.HEIC', 'IMG_6047.MOV', 'IMG_6063.JPG', 'IMG_6066.PNG', 'IMG_6067.HEIC', 'IMG_6068.HEIC', 'IMG_6069.JPG', 'IMG_6849.HEIC', 'IMG_6849.jpg', 'IMG_6850.HEIC', 'IMG_6851.HEIC', 'IMG_6853.HEIC', 'IMG_7959.MOV', 'IMG_7960.HEIC', 'IMG_7960.MOV', 'IMG_7961.HEIC', 'IMG_7961.MOV', 'IMG_7962.HEIC', 'IMG_7962.MOV', 'IMG_7963.HEIC', 'IMG_7963.MOV', 'IMG_7964.HEIC', 'IMG_7964.MOV', 'IMG_7967.HEIC', 'IMG_7985.MOV', 'IMG_7986.MOV', 'IMG_7990.MOV', 'IMG_7991.MOV', 'IMG_7994.MOV', 'IMG_7995.MOV', 'IMG_7996.HEIC', 'IMG_7996.MOV', 'IMG_7997.HEIC', 'IMG_7997.MOV', 'IMG_7998.MOV', 'IMG_7999.MOV', 'IMG_8001.MOV', 'IMG_8002.MOV', 'IMG_8003.MOV', 'IMG_8004.MOV', 'IMG_8007.MOV', 'IMG_8008.MOV', 'IMG_8009.MOV', 'IMG_8010.MOV', 'IMG_8011.MOV', 'IMG_8012.MOV', 'IMG_8013.MOV', 'IMG_8014.MOV', 'IMG_8015.MOV', 'IMG_8016.MOV', 'IMG_8017.MOV', 'IMG_8018.MOV', 'IMG_8019.MOV', 'IMG_8020.MOV', 'IMG_8022.MOV', 'IMG_8023.MOV', 'IMG_8024.MOV', 'IMG_8026.MOV', 'IMG_8030.PNG', 'IMG_E1904.HEIC', 'IMG_E1922.HEIC', 'IMG_E1924.HEIC', 'IMG_E1926.HEIC', 'IMG_E2060.JPG', 'IMG_E2149.HEIC', 'IMG_E2150.HEIC', 'IMG_E2180.HEIC', 'IMG_E2182.HEIC', 'IMG_E2183.HEIC', 'IMG_E2184.HEIC', 'IMG_E2185.HEIC', 'IMG_E2187.HEIC', 'IMG_E2189.HEIC', 'IMG_E2190.HEIC', 'IMG_E2195.HEIC', 'IMG_E2196.HEIC', 'IMG_E2198.HEIC', 'IMG_E2199.HEIC', 'IMG_E2209.HEIC', 'IMG_E2210.HEIC', 'IMG_E2212.HEIC', 'IMG_E2316.HEIC', 'IMG_E2317.HEIC', 'IMG_E2361.HEIC', 'IMG_E2371.HEIC', 'IMG_E2372.HEIC', 'IMG_E2373.HEIC', 'IMG_E2374.HEIC', 'IMG_E2375.HEIC', 'IMG_E2376.HEIC', 'IMG_E3193.HEIC', 'IMG_E3194.HEIC', 'IMG_E3195.HEIC', 'IMG_E3258.HEIC', 'IMG_E3272.HEIC', 'IMG_E3279.HEIC', 'IMG_E3365.HEIC', 'IMG_E3366.HEIC', 'IMG_E3373.HEIC', 'IMG_E3374.HEIC', 'IMG_E3383.HEIC', 'IMG_E3384.HEIC', 'IMG_E3385.HEIC', 'IMG_E3386.HEIC', 'IMG_E3387.HEIC', 'IMG_E3388.HEIC', 'IMG_E3397.HEIC', 'IMG_E3481.JPG', 'IMG_E3493.HEIC', 'IMG_E3494.HEIC', 'IMG_E3495.JPG', 'IMG_E3497.HEIC', 'IMG_E3500.HEIC', 'IMG_E3503.HEIC', 'IMG_E3504.HEIC', 'IMG_E3505.HEIC', 'IMG_E3506.HEIC', 'IMG_E3507.HEIC', 'IMG_E3508.HEIC', 'IMG_E3509.HEIC', 'IMG_E3510.HEIC', 'IMG_E3511.HEIC', 'IMG_E3512.HEIC', 'IMG_E3513.HEIC', 'IMG_E3519.HEIC', 'IMG_E3520.HEIC', 'IMG_E3521.HEIC', 'IMG_E3523.JPG', 'IMG_E3524.HEIC', 'IMG_E3525.HEIC', 'IMG_E3526.HEIC', 'IMG_E3527.HEIC', 'IMG_E3528.HEIC', 'IMG_E3529.HEIC', 'IMG_E3530.HEIC', 'IMG_E3531.HEIC', 'IMG_E3532.HEIC', 'IMG_E3533.HEIC', 'IMG_E3534.HEIC', 'IMG_E3539.HEIC', 'IMG_E3540.HEIC', 'IMG_E3541.HEIC', 'IMG_E3542.HEIC', 'IMG_E3543.HEIC', 'IMG_E3544.HEIC', 'IMG_E3553.HEIC', 'IMG_E3554.HEIC', 'IMG_E3555.HEIC', 'IMG_E3556.HEIC', 'IMG_E3557.HEIC', 'IMG_E3562.JPG', 'IMG_E3565.HEIC', 'IMG_E3578.HEIC', 'IMG_E3579.HEIC', 'IMG_E3580.HEIC', 'IMG_E3581.HEIC', 'IMG_E3582.HEIC', 'IMG_E3583.HEIC', 'IMG_E3584.HEIC', 'IMG_E3585.HEIC', 'IMG_E3586.HEIC', 'IMG_E3588.JPG', 'IMG_E3593.HEIC', 'IMG_E3594.HEIC', 'IMG_E3595.HEIC', 'IMG_E3596.HEIC', 'IMG_E3597.HEIC', 'IMG_E3602.HEIC', 'IMG_E3603.HEIC', 'IMG_E3604.HEIC', 'IMG_E3605.HEIC', 'IMG_E3606.HEIC', 'IMG_E3607.HEIC', 'IMG_E3608.HEIC', 'IMG_E3609.HEIC', 'IMG_E3610.HEIC', 'IMG_E3611.HEIC', 'IMG_E3612.HEIC', 'IMG_E3613.HEIC', 'IMG_E3614.HEIC', 'IMG_E3615.HEIC', 'IMG_E3616.HEIC', 'IMG_E3617.JPG', 'IMG_E3618.HEIC', 'IMG_E3633.HEIC', 'IMG_E3637.HEIC', 'IMG_E3639.HEIC', 'IMG_E3640.HEIC', 'IMG_E3641.HEIC', 'IMG_E3642.HEIC', 'IMG_E3643.HEIC', 'IMG_E3644.HEIC', 'IMG_E3650.HEIC', 'IMG_E3661.HEIC', 'IMG_E3662.HEIC', 'IMG_E3664.HEIC', 'IMG_E3665.HEIC', 'IMG_E3666.HEIC', 'IMG_E3667.HEIC', 'IMG_E3669.HEIC', 'IMG_E3676.HEIC', 'IMG_E3678.HEIC', 'IMG_E3679.HEIC', 'IMG_E3681.HEIC', 'IMG_E3682.HEIC', 'IMG_E3683.HEIC', 'IMG_E3688.HEIC', 'IMG_E3689.HEIC', 'IMG_E3690.HEIC', 'IMG_E3692.HEIC', 'IMG_E3696.HEIC', 'IMG_E3700.HEIC', 'IMG_E3702.HEIC', 'IMG_E3703.HEIC', 'IMG_E3704.HEIC', 'IMG_E3705.HEIC', 'IMG_E3706.HEIC', 'IMG_E3707.HEIC', 'IMG_E3708.HEIC', 'IMG_E3709.HEIC', 'IMG_E3717.HEIC', 'IMG_E3718.HEIC', 'IMG_E3719.HEIC', 'IMG_E3720.HEIC', 'IMG_E3721.HEIC', 'IMG_E3731.HEIC', 'IMG_E3732.HEIC', 'IMG_E3733.HEIC', 'IMG_E3734.HEIC', 'IMG_E3735.JPG', 'IMG_E3740.HEIC', 'IMG_E3751.HEIC', 'IMG_E3752.JPG', 'IMG_E3753.HEIC', 'IMG_E3754.HEIC', 'IMG_E3755.HEIC', 'IMG_E3756.HEIC', 'IMG_E3757.HEIC', 'IMG_E3758.HEIC', 'IMG_E3759.HEIC', 'IMG_E3760.HEIC', 'IMG_E3761.HEIC', 'IMG_E3762.HEIC', 'IMG_E3764.HEIC', 'IMG_E3766.HEIC', 'IMG_E3769.HEIC', 'IMG_E3771.HEIC', 'IMG_E3772.HEIC', 'IMG_E3773.HEIC', 'IMG_E3780.HEIC', 'IMG_E3781.HEIC', 'IMG_E4024.HEIC', 'IMG_E4025.HEIC', 'IMG_E4026.HEIC', 'IMG_E4027.JPG', 'IMG_E4028.HEIC', 'IMG_E4033.HEIC', 'IMG_E4034.HEIC', 'IMG_E4121.HEIC', 'IMG_E4125.HEIC', 'IMG_E4126.HEIC', 'IMG_E4129.HEIC', 'IMG_E4131.HEIC', 'IMG_E4132.HEIC', 'IMG_E4133.HEIC', 'IMG_E4134.HEIC', 'IMG_E4241.HEIC', 'IMG_E4241.MOV', 'IMG_E4247.HEIC', 'IMG_E4248.HEIC', 'IMG_E4248.MOV', 'IMG_E4249.HEIC', 'IMG_E4249.MOV', 'IMG_E4250.HEIC', 'IMG_E4250.MOV', 'IMG_E4381.HEIC', 'IMG_E4382.HEIC', 'IMG_E4383.HEIC', 'IMG_E4384.HEIC', 'IMG_E4392.HEIC', 'IMG_E4393.HEIC', 'IMG_E4394.HEIC', 'IMG_E4396.HEIC', 'IMG_E4397.HEIC', 'IMG_E4398.HEIC', 'IMG_E4399.HEIC', 'IMG_E4400.HEIC', 'IMG_E4401.HEIC', 'IMG_E4402.HEIC', 'IMG_E4403.HEIC', 'IMG_E4404.HEIC', 'IMG_E4424.HEIC', 'IMG_E4425.HEIC', 'IMG_E4473.HEIC', 'IMG_E4474.HEIC', 'IMG_E4475.HEIC', 'IMG_E4478.HEIC', 'IMG_E4479.HEIC', 'IMG_E4481.HEIC', 'IMG_E4482.HEIC', 'IMG_E4484.HEIC', 'IMG_E4485.HEIC', 'IMG_E4496.JPG', 'IMG_E4553.HEIC', 'IMG_E4554.HEIC', 'IMG_E4568.HEIC', 'IMG_E4571.HEIC', 'IMG_E4572.HEIC', 'IMG_E4590.HEIC', 'IMG_E4591.HEIC', 'IMG_E4593.HEIC', 'IMG_E4594.HEIC', 'IMG_E4611.HEIC', 'IMG_E4612.HEIC', 'IMG_E4613.HEIC', 'IMG_E4614.HEIC', 'IMG_E4712.HEIC', 'IMG_E4713.HEIC', 'IMG_E4714.HEIC', 'IMG_E4715.HEIC', 'IMG_E4718.HEIC', 'IMG_E4719.HEIC', 'IMG_E4720.HEIC', 'IMG_E4721.HEIC', 'IMG_E4722.HEIC', 'IMG_E4723.HEIC', 'IMG_E4978.MOV', 'IMG_E4998.JPG', 'IMG_E5049.HEIC', 'IMG_E5049.MOV', 'IMG_E5050.HEIC', 'IMG_E5050.MOV', 'IMG_E5051.HEIC', 'IMG_E5051.MOV', 'IMG_E5052.HEIC', 'IMG_E5052.MOV', 'IMG_E5053.HEIC', 'IMG_E5053.MOV', 'IMG_E5054.HEIC', 'IMG_E5057.HEIC', 'IMG_E5057.MOV', 'IMG_E5062.MOV', 'IMG_E5063.HEIC', 'IMG_E5063.MOV', 'IMG_E5064.HEIC', 'IMG_E5064.MOV', 'IMG_E5065.HEIC', 'IMG_E5065.MOV', 'IMG_E5066.HEIC', 'IMG_E5066.MOV', 'IMG_E5067.MOV', 'IMG_E5068.HEIC', 'IMG_E5068.MOV', 'IMG_E5069.HEIC', 'IMG_E5069.MOV', 'IMG_E5070.HEIC', 'IMG_E5070.MOV', 'IMG_E5071.HEIC', 'IMG_E5071.MOV', 'IMG_E5072.HEIC', 'IMG_E5072.MOV', 'IMG_E5073.HEIC', 'IMG_E5073.MOV', 'IMG_E5074.HEIC', 'IMG_E5074.MOV', 'IMG_E5075.HEIC', 'IMG_E5076.HEIC', 'IMG_E5077.HEIC', 'IMG_E5078.HEIC', 'IMG_E5079.HEIC', 'IMG_E5080.HEIC', 'IMG_E5081.HEIC', 'IMG_E5082.HEIC', 'IMG_E5083.HEIC', 'IMG_E5084.HEIC', 'IMG_E5085.HEIC', 'IMG_E5086.HEIC', 'IMG_E5087.HEIC', 'IMG_E5106.HEIC', 'IMG_E5107.HEIC', 'IMG_E5108.HEIC', 'IMG_E5109.HEIC', 'IMG_E5123.HEIC', 'IMG_E5126.HEIC', 'IMG_E5127.HEIC', 'IMG_E5128.HEIC', 'IMG_E5129.HEIC', 'IMG_E5130.HEIC', 'IMG_E5131.HEIC', 'IMG_E5132.HEIC', 'IMG_E5133.HEIC', 'IMG_E5134.HEIC', 'IMG_E5135.HEIC', 'IMG_E5136.HEIC', 'IMG_E5137.HEIC', 'IMG_E5138.HEIC', 'IMG_E5139.HEIC', 'IMG_E5140.HEIC', 'IMG_E5141.HEIC', 'IMG_E5142.HEIC', 'IMG_E5143.HEIC', 'IMG_E5144.HEIC', 'IMG_E5145.HEIC', 'IMG_E5146.HEIC', 'IMG_E5147.HEIC', 'IMG_E5148.HEIC', 'IMG_E5149.HEIC', 'IMG_E5150.HEIC', 'IMG_E5151.HEIC', 'IMG_E5152.HEIC', 'IMG_E5153.HEIC', 'IMG_E5154.HEIC', 'IMG_E5155.HEIC', 'IMG_E5156.HEIC', 'IMG_E5157.HEIC', 'IMG_E5158.HEIC', 'IMG_E5159.HEIC', 'IMG_E5160.HEIC', 'IMG_E5161.HEIC', 'IMG_E5162.HEIC', 'IMG_E5163.HEIC', 'IMG_E5164.HEIC', 'IMG_E5165.HEIC', 'IMG_E5166.HEIC', 'IMG_E5278.HEIC', 'IMG_E5382.HEIC', 'IMG_E5383.HEIC', 'IMG_E5385.HEIC', 'IMG_E5386.HEIC', 'IMG_E5387.HEIC', 'IMG_E5388.HEIC', 'IMG_E5389.HEIC', 'IMG_E5390.HEIC', 'IMG_E5391.HEIC', 'IMG_E5392.HEIC', 'IMG_E5393.HEIC', 'IMG_E5394.HEIC', 'IMG_E5395.HEIC', 'IMG_E5397.HEIC', 'IMG_E5398.HEIC', 'IMG_E5399.HEIC', 'IMG_E5400.HEIC', 'IMG_E5401.HEIC', 'IMG_E5409.HEIC', 'IMG_E5536.HEIC', 'IMG_E5537.HEIC', 'IMG_E5538.HEIC', 'IMG_E5544.HEIC', 'IMG_E5545.HEIC', 'IMG_E5546.HEIC', 'IMG_E5547.HEIC', 'IMG_E5548.HEIC', 'IMG_E5550.HEIC', 'IMG_E5586.HEIC', 'IMG_E5607.HEIC', 'IMG_E5611.HEIC', 'IMG_E5623.HEIC', 'IMG_E5624.HEIC', 'IMG_E5625.HEIC', 'IMG_E5626.HEIC', 'IMG_E5628.HEIC', 'IMG_E5629.HEIC', 'IMG_E5630.HEIC', 'IMG_E5631.HEIC', 'IMG_E5632.HEIC', 'IMG_E5633.HEIC', 'IMG_E5634.HEIC', 'IMG_E5635.HEIC', 'IMG_E5641.HEIC', 'IMG_E5642.HEIC', 'IMG_E5643.HEIC', 'IMG_E5644.HEIC', 'IMG_E5645.HEIC', 'IMG_E5646.HEIC', 'IMG_E5647.HEIC', 'IMG_E5655.HEIC', 'IMG_E5656.HEIC', 'IMG_E5690.HEIC', 'IMG_E5691.HEIC', 'IMG_E5692.HEIC', 'IMG_E5693.HEIC', 'IMG_E5696.HEIC', 'IMG_E5697.HEIC', 'IMG_E5698.HEIC', 'IMG_E5700.HEIC', 'IMG_E5701.HEIC', 'IMG_E5702.HEIC', 'IMG_E5703.HEIC', 'IMG_E5704.HEIC', 'IMG_E5706.HEIC', 'IMG_E5707.HEIC', 'IMG_E5709.HEIC', 'IMG_E5710.JPG', 'IMG_E5815.JPG', 'IMG_E5911.HEIC', 'IMG_E5912.HEIC', 'IMG_E5913.HEIC', 'IMG_E5914.HEIC', 'IMG_E5921.HEIC', 'IMG_E5922.HEIC', 'IMG_E5923.HEIC', 'IMG_E5925.HEIC', 'IMG_E5926.HEIC', 'IMG_E5927.HEIC', 'IMG_E5928.HEIC', 'IMG_E5929.HEIC', 'IMG_E5930.HEIC', 'IMG_E5931.HEIC', 'IMG_E5961.JPG', 'IMG_E5972.HEIC', 'IMG_E5973.HEIC', 'IMG_E5974.HEIC', 'IMG_E5975.HEIC', 'IMG_E5976.HEIC', 'IMG_E5977.HEIC', 'IMG_E5978.HEIC', 'IMG_E5979.HEIC', 'IMG_E5980.HEIC', 'IMG_E5981.HEIC', 'IMG_E5982.HEIC', 'IMG_E6006.HEIC', 'IMG_E6015.HEIC', 'IMG_E6016.HEIC', 'IMG_E6017.HEIC', 'IMG_E6018.HEIC', 'IMG_E6019.HEIC', 'IMG_E6020.HEIC', 'IMG_E6021.HEIC', 'IMG_E6022.HEIC', 'IMG_E6023.HEIC', 'IMG_E6024.HEIC', 'IMG_E6031.HEIC', 'IMG_E6033.HEIC', 'IMG_E6035.HEIC', 'IMG_E6036.HEIC', 'IMG_E6037.HEIC', 'IMG_E6038.HEIC', 'IMG_E6039.HEIC', 'IMG_E6040.HEIC', 'IMG_E6041.HEIC', 'IMG_E6042.HEIC', 'IMG_E6043.HEIC', 'IMG_E6046.HEIC', 'IMG_E6069.JPG', 'IMG_E6849.JPG', 'IMG_E8014.MOV', 'IMG_E8018.MOV', 'IMPK5552.MP4', 'IWES3484.JPG', 'IWOB8238.MP4', 'JBWD4800.JPG', 'JEMC2239.JPG', 'JEYI3852.MP4', 'JINU6163.JPG', 'JJES3354.JPG', 'JMTP0084.MP4', 'JOYV9807.MP4', 'JPIC0188.JPG', 'JPZJ5630.MP4', 'JRCP0980.MP4', 'JSUW1290.MP4', 'JURE4898.JPG', 'JURF7206.MP4', 'JWMV8530.JPG', 'JXEB2946.MP4', 'JYHC9705.MP4', 'JYRY5552.MP4', 'JZAN0647.MP4', 'KCDZ6477.JPG', 'KGNF6763.MP4', 'KGSA6865.MP4', 'KJUU3955.JPG', 'KJXM8712.MP4', 'KKVA2818.MP4', 'KNJP0792.MP4', 'KOLA1137.JPG', 'KYID1139.JPG', 'LFAY6752.MP4', 'LGXZ0118.JPG', 'LMCG0327.MP4', 'LQOU6891.MP4', 'LQSV3266.MP4', 'LULD8793.JPG', 'MEODE0817.JPG', 'MGCP4958.JPG', 'MIER4054.MP4', 'MJWJ5473.JPG', 'MKGM8075.MP4', 'MMYJ7225.JPG', 'MOVD0590.MP4', 'MOXQ9021.JPG', 'MPPD6515.MP4', 'MQTD9199.MP4', 'MUCV0087.JPG', 'MXJZ2212.MP4', 'MXLB6854.JPG', 'NBVS7027.MP4', 'NDRU5444.JPG', 'NIPI5946.JPG', 'NJWX2659.MP4', 'NKGJ1578.JPG', 'NLRV7727.MP4', 'NNXA6292.JPG', 'NPST8831.MP4', 'NSMN8073.MP4', 'NSUS3949.MP4', 'NTMX2445.MP4', 'NWGZ2250.JPG', 'NZAP2019.MP4', 'OERK1294.MP4', 'OIJW7494.JPG', 'OJFY7586.JPG', 'OJOI2209.JPG', 'ONQD6712.JPG', 'ONSM0074.JPG', 'OUMM9958.MP4', 'OVXE3854.JPG', 'OXDQ6699.MP4', 'PDBH2474.MP4', 'PLTJ4226.MP4', 'PRSO0681.JPG', 'PTCO4750.MP4', 'PVRB8614.JPG', 'QBZO8242.MP4', 'QELN0733.MP4', 'QFWQ9148.MP4', 'QGMA5040.JPG', 'QNAC3340.MOV', 'QNEU8971.JPG', 'QNEUE8971.JPG', 'QSQQ4068.JPG', 'QVBE9700.JPG', 'QVHR1059.JPG', 'QYHQ6311.JPG', 'RBXM3133.MP4', 'REQJ4294.JPG', 'RHDB8992.MP4', 'RRCM2747.MP4', 'RSGL5982.MP4', 'RUYI4537.JPG', 'RUYIE4537.JPG', 'RVTP9900.MP4', 'RWOK8318.MP4', 'RXTN0203.JPG', 'RYLB7703.JPG', 'RYZY7465.JPG', 'SAVE7686.JPG', 'SRFQ8769.MP4', 'SSZD2608.JPG', 'STQH0261.MP4', 'SUAQ4179.JPG', 'SVIT6610.JPG', 'SWVX6367.MP4', 'SXIV4527.JPG', 'SZAZ7029.MP4', 'TFFA5126.MP4', 'TRJO0571.MP4', 'TSOB6024.JPG', 'TUPL5688.MOV', 'TZUS9716.MP4', 'UCZU2770.MP4', 'UDEP4507.MP4', 'UGXX0066.JPG', 'UJDT1858.JPG', 'ULXD1715.MP4', 'UQXN6225.JPG', 'VERF5717.JPG', 'VGRU9242.JPG', 'VIAV8554.MP4', 'VQKC2370.MP4', 'VRUK9540.MP4', 'VSDF4627.MP4', 'WKCU4395.JPG', 'WOHU4226.MP4', 'WTCM6696.MP4', 'WVBP1134.JPG', 'XEFM9702.MP4', 'XKOA5028.MP4', 'XOBR0989.JPG', 'XQRT1902.MP4', 'XROW2228.MP4', 'XRUL6376.MP4', 'XVYB7324.MP4', 'XZVE3958.MP4', 'YDPL5680.MP4', 'YDQX2286.JPG', 'YDQXE2286.JPG', 'YDSL9595.MP4', 'YEXC8613.JPG', 'YEXS4108.MP4', 'YHFF1869.JPG', 'YKEA8341.JPG']\n",
      "- D:Pics\\iOS\\2K24\\1\n",
      "📂 []\n",
      "📄 ['BJRL4861.JPG', 'CKKG4350.JPG', 'ELHV0188.JPG', 'IMG_1986.JPG', 'IMG_1987.JPG', 'IMG_1988.JPG', 'IMG_1989.JPG', 'IMG_2001.JPG', 'IMG_2002.JPG', 'IMG_2004.JPG', 'IMG_9147.HEIC', 'IMG_9147.MOV', 'IMG_9148.MOV', 'IMG_9149.MOV', 'IMG_9150.HEIC', 'IMG_9151.HEIC', 'IMG_9151.MOV', 'IMG_9152.HEIC', 'IMG_9152.MOV', 'IMG_9153.HEIC', 'IMG_9153.MOV', 'IMG_9154.HEIC', 'IMG_9154.MOV', 'IMG_9155.HEIC', 'IMG_9155.MOV', 'IMG_9156.HEIC', 'IMG_9156.MOV', 'IMG_9157.HEIC', 'IMG_9157.MOV', 'IMG_9158.HEIC', 'IMG_9158.MOV', 'IMG_9160.JPG', 'IMG_9161.JPG', 'IMG_9162.JPG', 'IMG_9163.JPG', 'IMG_9169.HEIC', 'IMG_9172.HEIC', 'IMG_9173.HEIC', 'IMG_9183.HEIC', 'IMG_9184.HEIC', 'IMG_9185.HEIC', 'IMG_9205.JPG', 'IMG_9206.JPG', 'IMG_9207.JPG', 'IMG_9253.HEIC', 'IMG_9253.MOV', 'IMG_9254.MOV', 'IMG_9258.JPG', 'IMG_9259.JPG', 'IMG_9260.JPG', 'IMG_9261.JPG', 'IMG_9263.JPG', 'IMG_9265.JPG', 'IMG_E9147.HEIC', 'IMG_E9147.MOV', 'IMG_E9150.HEIC', 'IMG_E9151.HEIC', 'IMG_E9151.MOV', 'IMG_E9152.HEIC', 'IMG_E9152.MOV', 'IMG_E9153.HEIC', 'IMG_E9153.MOV', 'IMG_E9154.HEIC', 'IMG_E9154.MOV', 'IMG_E9155.HEIC', 'IMG_E9155.MOV', 'IMG_E9156.HEIC', 'IMG_E9156.MOV', 'IMG_E9157.HEIC', 'IMG_E9157.MOV', 'IMG_E9158.HEIC', 'IMG_E9158.MOV', 'IMG_E9169.HEIC', 'IMG_E9172.JPG', 'IMG_E9173.JPG', 'IMG_E9183.HEIC', 'IMG_E9184.HEIC', 'IMG_E9185.JPG', 'IMG_E9250.MOV', 'NELL4427.MP4', 'SZJU1146.JPG', 'XRAF3418.MP4']\n",
      "- D:Pics\\iOS\\2K24\\int\n",
      "📂 []\n",
      "📄 ['AABQ4037.MP4', 'BJEV9622.MP4', 'BQVM6377.MP4', 'HOMW0869.JPG', 'HOMWE0869.JPG', 'IMG_6522.JPG', 'IMG_6523.HEIC', 'IMG_6524.HEIC', 'IMG_6525.HEIC', 'IMG_6526.HEIC', 'IMG_6527.HEIC', 'IMG_6528.HEIC', 'IMG_6529.HEIC', 'IMG_6530.HEIC', 'IMG_6531.HEIC', 'IMG_6543.HEIC', 'IMG_6544.HEIC', 'IMG_6545.HEIC', 'IMG_6546.HEIC', 'IMG_6547.HEIC', 'IMG_6548.HEIC', 'IMG_6549.HEIC', 'IMG_6551.HEIC', 'IMG_6552.HEIC', 'IMG_6553.HEIC', 'IMG_6562.HEIC', 'IMG_6563.HEIC', 'IMG_6564.HEIC', 'IMG_6565.HEIC', 'IMG_6566.HEIC', 'IMG_6567.HEIC', 'IMG_6568.HEIC', 'IMG_6587.HEIC', 'IMG_6588.HEIC', 'IMG_6589.HEIC', 'IMG_6591.HEIC', 'IMG_6592.HEIC', 'IMG_6593.HEIC', 'IMG_6594.HEIC', 'IMG_6595.HEIC', 'IMG_6596.HEIC', 'IMG_6597.HEIC', 'IMG_6598.HEIC', 'IMG_6599.HEIC', 'IMG_6600.HEIC', 'IMG_6601.HEIC', 'IMG_6602.HEIC', 'IMG_6603.HEIC', 'IMG_6604.HEIC', 'IMG_6605.HEIC', 'IMG_6623.JPG', 'IMG_6624.JPG', 'IMG_6626.JPG', 'IMG_6627.JPG', 'IMG_6628.JPG', 'IMG_6631.JPG', 'IMG_6632.JPG', 'IMG_6633.JPG', 'IMG_6634.JPG', 'IMG_6635.JPG', 'IMG_6636.JPG', 'IMG_6653.PNG', 'IMG_6674.JPG', 'IMG_6679.JPG', 'IMG_6680.JPG', 'IMG_6681.JPG', 'IMG_6682.JPG', 'IMG_E6523.HEIC', 'IMG_E6524.HEIC', 'IMG_E6525.HEIC', 'IMG_E6526.HEIC', 'IMG_E6527.HEIC', 'IMG_E6528.HEIC', 'IMG_E6529.HEIC', 'IMG_E6530.HEIC', 'IMG_E6531.HEIC', 'IMG_E6543.HEIC', 'IMG_E6544.HEIC', 'IMG_E6545.HEIC', 'IMG_E6546.HEIC', 'IMG_E6547.HEIC', 'IMG_E6548.HEIC', 'IMG_E6549.HEIC', 'IMG_E6551.HEIC', 'IMG_E6552.HEIC', 'IMG_E6553.HEIC', 'IMG_E6562.HEIC', 'IMG_E6563.HEIC', 'IMG_E6564.HEIC', 'IMG_E6565.HEIC', 'IMG_E6566.HEIC', 'IMG_E6567.HEIC', 'IMG_E6568.HEIC', 'IMG_E6587.HEIC', 'IMG_E6588.HEIC', 'IMG_E6589.HEIC', 'IMG_E6591.HEIC', 'IMG_E6592.HEIC', 'IMG_E6593.HEIC', 'IMG_E6594.HEIC', 'IMG_E6595.HEIC', 'IMG_E6596.HEIC', 'IMG_E6597.HEIC', 'IMG_E6598.HEIC', 'IMG_E6599.HEIC', 'IMG_E6600.HEIC', 'IMG_E6601.HEIC', 'IMG_E6602.HEIC', 'IMG_E6603.HEIC', 'IMG_E6604.HEIC', 'IMG_E6605.HEIC', 'JPWH8184.JPG', 'LZND8870.JPG']\n",
      "- D:Pics\\iOS\\2K24\\misc\n",
      "📂 []\n",
      "📄 ['IMG_4893.MOV', 'IMG_4906.HEIC', 'IMG_4907.HEIC', 'IMG_4908.HEIC', 'IMG_4909.HEIC', 'IMG_4910.HEIC', 'IMG_4912.HEIC', 'IMG_4913.HEIC', 'IMG_4915.HEIC', 'IMG_4916.HEIC', 'IMG_4918.HEIC', 'IMG_4919.HEIC', 'IMG_4920.HEIC', 'IMG_4938.HEIC', 'IMG_4939.HEIC', 'IMG_4941.HEIC', 'IMG_4942.HEIC', 'IMG_4945.HEIC', 'IMG_4946.HEIC', 'IMG_4947.HEIC', 'IMG_4950.HEIC', 'IMG_4955.HEIC', 'IMG_4956.HEIC', 'IMG_4957.HEIC', 'IMG_4958.HEIC', 'IMG_4959.HEIC', 'IMG_4960.HEIC', 'IMG_4964.HEIC', 'IMG_4966.HEIC', 'IMG_4972.HEIC', 'IMG_4978.MOV', 'IMG_4979.JPG', 'KTDZ5517.MP4', 'PIMK3120.MP4', 'QUVD3234.MP4', 'TUBV8130.MP4']\n",
      "- D:Pics\\iOS\\2K24\\salman bhai shadi\n",
      "📂 []\n",
      "📄 ['BOBC4982.JPG', 'BPWH6206.JPG', 'CCYV0113.JPG', 'CFRZ4232.JPG', 'CJHS0668.JPG', 'CPTA8704.JPG', 'CVML8586.JPG', 'DBOC1510.MOV', 'DJUY8484.JPG', 'FDLK1951.JPG', 'FFKW7775.JPG', 'FNQY9063.JPG', 'FWFP0476.JPG', 'GLMG6171.MP4', 'IMG_0841.JPG', 'IMG_8355.MOV', 'IMG_8356.JPG', 'IMG_8358.HEIC', 'IMG_8358.MOV', 'IMG_8359.HEIC', 'IMG_8359.MOV', 'IMG_8360.HEIC', 'IMG_8360.MOV', 'IMG_8361.HEIC', 'IMG_8361.MOV', 'IMG_8362.HEIC', 'IMG_8362.MOV', 'IMG_8363.JPG', 'IMG_8370.JPG', 'IMG_8371.JPG', 'IMG_8372.JPG', 'IMG_8374.JPG', 'IMG_8409.HEIC', 'IMG_8409.MOV', 'IMG_8410.HEIC', 'IMG_8410.MOV', 'IMG_8411.HEIC', 'IMG_8411.MOV', 'IMG_8412.HEIC', 'IMG_8412.MOV', 'IMG_8413.HEIC', 'IMG_8414.HEIC', 'IMG_8416.JPG', 'IMG_8417.JPG', 'IMG_8419.JPG', 'IMG_8455.HEIC', 'IMG_8455.MOV', 'IMG_8456.HEIC', 'IMG_8456.MOV', 'IMG_8457.HEIC', 'IMG_8457.MOV', 'IMG_8458.HEIC', 'IMG_8458.MOV', 'IMG_8459.HEIC', 'IMG_8459.MOV', 'IMG_8460.HEIC', 'IMG_8460.MOV', 'IMG_8461.HEIC', 'IMG_8461.MOV', 'IMG_8462.HEIC', 'IMG_8462.MOV', 'IMG_8463.JPG', 'IMG_8464.JPG', 'IMG_8465.JPG', 'IMG_8466.HEIC', 'IMG_8467.MOV', 'IMG_8468.HEIC', 'IMG_8469.HEIC', 'IMG_8470.HEIC', 'IMG_8471.MOV', 'IMG_8472.MOV', 'IMG_8473.MOV', 'IMG_8474.MOV', 'IMG_8475.MOV', 'IMG_8476.MOV', 'IMG_8477.MOV', 'IMG_8479.MOV', 'IMG_8480.MOV', 'IMG_8487.MOV', 'IMG_8488.MOV', 'IMG_8489.PNG', 'IMG_8490.PNG', 'IMG_8491.PNG', 'IMG_8492.PNG', 'IMG_8493.JPG', 'IMG_8494.PNG', 'IMG_8495.PNG', 'IMG_8531.HEIC', 'IMG_8532.HEIC', 'IMG_8533.HEIC', 'IMG_8548.HEIC', 'IMG_8549.HEIC', 'IMG_8550.HEIC', 'IMG_8551.HEIC', 'IMG_8551.MOV', 'IMG_8552.HEIC', 'IMG_8553.HEIC', 'IMG_8554.HEIC', 'IMG_8555.HEIC', 'IMG_8556.HEIC', 'IMG_8557.HEIC', 'IMG_8558.HEIC', 'IMG_8559.HEIC', 'IMG_8560.HEIC', 'IMG_8561.HEIC', 'IMG_8562.HEIC', 'IMG_8563.HEIC', 'IMG_8564.HEIC', 'IMG_8565.HEIC', 'IMG_8566.HEIC', 'IMG_8567.HEIC', 'IMG_8568.HEIC', 'IMG_8570.HEIC', 'IMG_8572.HEIC', 'IMG_8573.HEIC', 'IMG_8577.HEIC', 'IMG_8578.HEIC', 'IMG_8581.HEIC', 'IMG_8581.MOV', 'IMG_8582.HEIC', 'IMG_8582.MOV', 'IMG_8583.HEIC', 'IMG_8583.MOV', 'IMG_8584.HEIC', 'IMG_8584.MOV', 'IMG_8585.HEIC', 'IMG_8586.HEIC', 'IMG_8586.MOV', 'IMG_8587.HEIC', 'IMG_8587.MOV', 'IMG_8588.HEIC', 'IMG_8588.MOV', 'IMG_8589.HEIC', 'IMG_8590.HEIC', 'IMG_8591.HEIC', 'IMG_8592.HEIC', 'IMG_8593.HEIC', 'IMG_8594.HEIC', 'IMG_8595.HEIC', 'IMG_8596.HEIC', 'IMG_8597.HEIC', 'IMG_8598.HEIC', 'IMG_8599.HEIC', 'IMG_8600.HEIC', 'IMG_E8358.HEIC', 'IMG_E8358.MOV', 'IMG_E8359.HEIC', 'IMG_E8359.MOV', 'IMG_E8360.HEIC', 'IMG_E8360.MOV', 'IMG_E8361.HEIC', 'IMG_E8361.MOV', 'IMG_E8362.HEIC', 'IMG_E8362.MOV', 'IMG_E8409.HEIC', 'IMG_E8409.MOV', 'IMG_E8410.HEIC', 'IMG_E8410.MOV', 'IMG_E8411.HEIC', 'IMG_E8411.MOV', 'IMG_E8412.HEIC', 'IMG_E8412.MOV', 'IMG_E8413.HEIC', 'IMG_E8414.HEIC', 'IMG_E8455.HEIC', 'IMG_E8455.MOV', 'IMG_E8456.HEIC', 'IMG_E8456.MOV', 'IMG_E8457.HEIC', 'IMG_E8457.MOV', 'IMG_E8458.HEIC', 'IMG_E8458.MOV', 'IMG_E8459.HEIC', 'IMG_E8459.MOV', 'IMG_E8460.HEIC', 'IMG_E8460.MOV', 'IMG_E8461.HEIC', 'IMG_E8461.MOV', 'IMG_E8462.HEIC', 'IMG_E8462.MOV', 'IMG_E8466.HEIC', 'IMG_E8468.HEIC', 'IMG_E8469.HEIC', 'IMG_E8470.HEIC', 'IMG_E8473.MOV', 'IMG_E8474.MOV', 'IMG_E8475.MOV', 'IMG_E8476.MOV', 'IMG_E8477.MOV', 'IMG_E8479.MOV', 'IMG_E8480.MOV', 'IMG_E8486.MOV', 'IMG_E8489.JPG', 'IMG_E8531.HEIC', 'IMG_E8532.HEIC', 'IMG_E8533.HEIC', 'IMG_E8548.HEIC', 'IMG_E8549.HEIC', 'IMG_E8550.HEIC', 'IMG_E8552.HEIC', 'IMG_E8553.HEIC', 'IMG_E8554.JPG', 'IMG_E8555.HEIC', 'IMG_E8556.HEIC', 'IMG_E8557.HEIC', 'IMG_E8559.HEIC', 'IMG_E8560.JPG', 'IMG_E8561.JPG', 'IMG_E8562.HEIC', 'IMG_E8563.HEIC', 'IMG_E8564.HEIC', 'IMG_E8565.HEIC', 'IMG_E8566.HEIC', 'IMG_E8567.HEIC', 'IMG_E8568.HEIC', 'IMG_E8570.HEIC', 'IMG_E8572.HEIC', 'IMG_E8573.HEIC', 'IMG_E8577.HEIC', 'IMG_E8578.HEIC', 'IMG_E8581.HEIC', 'IMG_E8581.MOV', 'IMG_E8582.HEIC', 'IMG_E8582.MOV', 'IMG_E8583.HEIC', 'IMG_E8583.MOV', 'IMG_E8584.HEIC', 'IMG_E8584.MOV', 'IMG_E8585.HEIC', 'IMG_E8586.HEIC', 'IMG_E8586.MOV', 'IMG_E8587.HEIC', 'IMG_E8587.MOV', 'IMG_E8588.HEIC', 'IMG_E8588.MOV', 'IMG_E8589.HEIC', 'IMG_E8590.HEIC', 'IMG_E8591.HEIC', 'IMG_E8592.HEIC', 'IMG_E8593.HEIC', 'IMG_E8594.HEIC', 'IMG_E8595.HEIC', 'IMG_E8596.HEIC', 'IMG_E8597.HEIC', 'IMG_E8598.HEIC', 'IMG_E8599.HEIC', 'IMG_E8600.HEIC', 'INXK3077.JPG', 'IXAM8247.JPG', 'IXSZ9581.JPG', 'JIXQ7321.JPG', 'JUTD8238.MP4', 'JWFD4043.JPG', 'KLJI5227.JPG', 'LCVQ0805.JPG', 'LGDB9918.JPG', 'LIRL9109.JPG', 'LOUK3685.JPG', 'LUEC6556.JPG', 'MCXG2679.JPG', 'MOFK9807.JPG', 'MTNE7101.JPG', 'MVJJ2413.JPG', 'MWTP2963.JPG', 'MWYI6964.MP4', 'NLHR5952.JPG', 'NYBE7591.JPG', 'OCET3016.JPG', 'OFND0081.JPG', 'OGGF5651.JPG', 'OMYG7600.JPG', 'OSGY7450.JPG', 'PTZT8438.JPG', 'PTZTE8438.JPG', 'QLZS1564.JPG', 'STVA3772.JPG', 'TIAW3885.JPG', 'VAVU6817.MOV', 'VMMW1180.MOV', 'WFME0915.JPG', 'WITJ9662.JPG', 'WMXI4841.MOV', 'XAMR4166.JPG', 'XYLA2010.JPG', 'YCGJ0299.MP4', 'YKAM0639.JPG', 'YKZA3555.MP4']\n",
      "- D:Pics\\iOS\\2K24\\wed\n",
      "📂 []\n",
      "📄 ['DBEP4778.MOV', 'DUUP0951.JPG', 'DXZL6350.MP4', 'EDKM4718.JPG', 'EFDA3171.JPG', 'FOOZ5970.JPG', 'FQQZ0877.JPG', 'GEJT4145.MOV', 'HEMH1861.JPG', 'ICOP5002.MP4', 'IFJU6073.MOV', 'IMG_1393.HEIC', 'IMG_1394.HEIC', 'IMG_1395.HEIC', 'IMG_1397.HEIC', 'IMG_9269.HEIC', 'IMG_9272.JPG', 'IMG_9277.JPG', 'IMG_9290.JPG', 'IMG_9291.JPG', 'IMG_9292.JPG', 'IMG_9293.JPG', 'IMG_9299.JPG', 'IMG_9305.JPG', 'IMG_9310.JPG', 'IMG_9311.JPG', 'IMG_9312.JPG', 'IMG_9313.JPG', 'IMG_9314.HEIC', 'IMG_9315.HEIC', 'IMG_9316.HEIC', 'IMG_9317.HEIC', 'IMG_9318.HEIC', 'IMG_9321.HEIC', 'IMG_9322.HEIC', 'IMG_9323.HEIC', 'IMG_9324.MOV', 'IMG_9325.MOV', 'IMG_9327.MOV', 'IMG_9328.HEIC', 'IMG_9329.HEIC', 'IMG_9330.HEIC', 'IMG_9331.HEIC', 'IMG_9332.HEIC', 'IMG_9333.HEIC', 'IMG_9334.HEIC', 'IMG_9335.HEIC', 'IMG_9336.HEIC', 'IMG_9340.HEIC', 'IMG_9341.HEIC', 'IMG_9342.HEIC', 'IMG_9343.HEIC', 'IMG_9344.HEIC', 'IMG_9345.HEIC', 'IMG_9346.HEIC', 'IMG_9347.HEIC', 'IMG_9348.HEIC', 'IMG_9349.HEIC', 'IMG_9362.HEIC', 'IMG_9363.HEIC', 'IMG_9364.HEIC', 'IMG_9365.HEIC', 'IMG_9366.HEIC', 'IMG_9367.HEIC', 'IMG_9368.HEIC', 'IMG_9369.HEIC', 'IMG_9370.HEIC', 'IMG_9371.HEIC', 'IMG_9372.HEIC', 'IMG_9373.MOV', 'IMG_9374.MOV', 'IMG_9375.MOV', 'IMG_9376.HEIC', 'IMG_9377.HEIC', 'IMG_9378.HEIC', 'IMG_9381.HEIC', 'IMG_9382.HEIC', 'IMG_9383.HEIC', 'IMG_9384.HEIC', 'IMG_9385.HEIC', 'IMG_9386.HEIC', 'IMG_9387.HEIC', 'IMG_9388.HEIC', 'IMG_9389.HEIC', 'IMG_9390.HEIC', 'IMG_9391.HEIC', 'IMG_9392.HEIC', 'IMG_9393.HEIC', 'IMG_9395.HEIC', 'IMG_9396.HEIC', 'IMG_9418.HEIC', 'IMG_9419.HEIC', 'IMG_9420.HEIC', 'IMG_9422.JPG', 'IMG_9423.JPG', 'IMG_9424.JPG', 'IMG_9425.JPG', 'IMG_9426.HEIC', 'IMG_9427.HEIC', 'IMG_9428.MOV', 'IMG_9429.HEIC', 'IMG_9430.HEIC', 'IMG_9431.HEIC', 'IMG_9432.HEIC', 'IMG_9433.MOV', 'IMG_9434.HEIC', 'IMG_9435.HEIC', 'IMG_9446.HEIC', 'IMG_9447.HEIC', 'IMG_9465.JPG', 'IMG_9467.JPG', 'IMG_9468.JPG', 'IMG_9511.PNG', 'IMG_9516.JPG', 'IMG_9518.HEIC', 'IMG_9519.MOV', 'IMG_9520.HEIC', 'IMG_9520.MOV', 'IMG_9521.HEIC', 'IMG_9521.MOV', 'IMG_9522.HEIC', 'IMG_9522.MOV', 'IMG_9523.HEIC', 'IMG_9523.MOV', 'IMG_9524.HEIC', 'IMG_9524.MOV', 'IMG_9525.MOV', 'IMG_9526.JPG', 'IMG_9527.JPG', 'IMG_9528.JPG', 'IMG_9529.JPG', 'IMG_9530.JPG', 'IMG_9531.JPG', 'IMG_9532.JPG', 'IMG_9533.JPG', 'IMG_9534.JPG', 'IMG_9535.JPG', 'IMG_9536.JPG', 'IMG_9537.JPG', 'IMG_9538.JPG', 'IMG_9546.HEIC', 'IMG_9546.MOV', 'IMG_9547.HEIC', 'IMG_9547.MOV', 'IMG_9574.HEIC', 'IMG_9575.HEIC', 'IMG_9576.HEIC', 'IMG_9577.HEIC', 'IMG_9578.HEIC', 'IMG_9579.HEIC', 'IMG_9580.HEIC', 'IMG_9581.HEIC', 'IMG_9583.HEIC', 'IMG_9584.JPG', 'IMG_9585.JPG', 'IMG_9587.HEIC', 'IMG_9588.HEIC', 'IMG_9589.HEIC', 'IMG_9590.MOV', 'IMG_9591.HEIC', 'IMG_9592.HEIC', 'IMG_9627.JPG', 'IMG_E9269.HEIC', 'IMG_E9314.HEIC', 'IMG_E9328.HEIC', 'IMG_E9329.HEIC', 'IMG_E9330.HEIC', 'IMG_E9331.HEIC', 'IMG_E9332.HEIC', 'IMG_E9333.HEIC', 'IMG_E9334.HEIC', 'IMG_E9335.HEIC', 'IMG_E9336.HEIC', 'IMG_E9340.HEIC', 'IMG_E9341.HEIC', 'IMG_E9342.HEIC', 'IMG_E9343.HEIC', 'IMG_E9344.HEIC', 'IMG_E9345.HEIC', 'IMG_E9346.HEIC', 'IMG_E9347.HEIC', 'IMG_E9348.HEIC', 'IMG_E9349.HEIC', 'IMG_E9366.HEIC', 'IMG_E9367.HEIC', 'IMG_E9368.HEIC', 'IMG_E9369.HEIC', 'IMG_E9370.HEIC', 'IMG_E9371.HEIC', 'IMG_E9372.HEIC', 'IMG_E9373.MOV', 'IMG_E9374.MOV', 'IMG_E9375.MOV', 'IMG_E9387.HEIC', 'IMG_E9428.MOV', 'IMG_E9429.HEIC', 'IMG_E9430.HEIC', 'IMG_E9446.HEIC', 'IMG_E9447.HEIC', 'IMG_E9516.JPG', 'IMG_E9518.HEIC', 'IMG_E9519.MOV', 'IMG_E9546.HEIC', 'IMG_E9546.MOV', 'IMG_E9547.HEIC', 'IMG_E9547.MOV', 'IMG_E9574.HEIC', 'IMG_E9575.HEIC', 'IMG_E9576.HEIC', 'IMG_E9577.HEIC', 'IMG_E9578.HEIC', 'IMG_E9579.HEIC', 'IMG_E9580.HEIC', 'IMG_E9581.HEIC', 'IMG_E9583.HEIC', 'IMG_E9587.HEIC', 'IMG_E9588.HEIC', 'IMG_E9589.HEIC', 'IMG_E9590.MOV', 'IMG_E9591.HEIC', 'IMG_E9592.HEIC', 'KEIM8449.MP4', 'PTTB2022.JPEG', 'QSFB3784.JPG', 'SEES2785.JPG', 'TLEQ2521.MOV', 'UMAL5201.JPG', 'XYTG8862.JPG']\n",
      "- D:Pics\\Rockstar mov\n",
      "📂 []\n",
      "📄 ['BLXK7868.MP4', 'BSUQ9510.MP4', 'EGJU1586.MP4', 'HZXK4081.MP4', 'IMG_1534.JPG', 'IMG_1535.JPG', 'IMG_1536.MOV', 'IMG_1537.MOV', 'IMG_1538.MOV', 'IMG_1540 (4).AAE', 'IMG_1540.AAE', 'IMG_1540.HEIC', 'IMG_1541 (3).AAE', 'IMG_1541.AAE', 'IMG_1541.HEIC', 'IMG_1541.MOV', 'IMG_1542 (2).AAE', 'IMG_1542.AAE', 'IMG_1542.HEIC', 'IMG_1542.MOV', 'IMG_1543.MOV', 'IMG_1544.MOV', 'IMG_1545.MOV', 'IMG_1546.MOV', 'IMG_1547.HEIC', 'IMG_1547.MOV', 'IMG_1548.HEIC', 'IMG_1548.MOV', 'IMG_1549.HEIC', 'IMG_1549.MOV', 'IMG_1550.HEIC', 'IMG_1550.MOV', 'IMG_1551.HEIC', 'IMG_1551.MOV', 'IMG_1552.HEIC', 'IMG_1552.MOV', 'IMG_1553.MOV', 'IMG_1554.MOV', 'IMG_1555.MOV', 'IMG_1556.MOV', 'IMG_1557.MOV', 'IMG_1558.MOV', 'IMG_1562.MOV', 'IMG_1563.MOV', 'IMG_1564.MOV', 'IMG_1565.MOV', 'IMG_1566.MOV', 'IMG_1568.MOV', 'IMG_1569.MOV', 'IMG_1570.MOV', 'IMG_1571.MOV', 'IMG_1572.MOV', 'IMG_1573.MOV', 'IMG_1574.MOV', 'IMG_1575.MOV', 'IMG_1576.MOV', 'IMG_1577.MOV', 'IMG_1578.PNG', 'IMG_1579.MOV', 'IMG_1580.MOV', 'IMG_1581.HEIC', 'IMG_1581.MOV', 'IMG_1582.MOV', 'IMG_1583.MOV', 'IMG_1584.MOV', 'IMG_1585.HEIC', 'IMG_1585.MOV', 'IMG_1586.HEIC', 'IMG_1586.MOV', 'IMG_1587.HEIC', 'IMG_1587.MOV', 'IMG_1588.HEIC', 'IMG_1588.MOV', 'IMG_1589.HEIC', 'IMG_1589.MOV', 'IMG_1590.HEIC', 'IMG_1590.MOV', 'IMG_1591.HEIC', 'IMG_1591.MOV', 'IMG_1592.HEIC', 'IMG_1592.MOV', 'IMG_1593.HEIC', 'IMG_1593.MOV', 'IMG_1594.HEIC', 'IMG_1594.MOV', 'IMG_1595.HEIC', 'IMG_1595.MOV', 'IMG_1596.HEIC', 'IMG_1596.MOV', 'IMG_1597.HEIC', 'IMG_1597.MOV', 'IMG_1598.HEIC', 'IMG_1598.MOV', 'IMG_1599.HEIC', 'IMG_1599.MOV', 'IMG_1600.HEIC', 'IMG_1601.HEIC', 'IMG_1602.HEIC', 'IMG_1603.HEIC', 'IMG_1604.HEIC', 'IMG_1605.HEIC', 'IMG_1606.HEIC', 'IMG_1607.HEIC', 'IMG_1608.HEIC', 'IMG_1609.HEIC', 'IMG_1610.HEIC', 'IMG_1611.HEIC', 'IMG_1612.HEIC', 'IMG_1613.HEIC', 'IMG_1614.HEIC', 'IMG_1615.HEIC', 'IMG_1616.HEIC', 'IMG_1617.HEIC', 'IMG_1618.HEIC', 'IMG_1619.HEIC', 'IMG_1620.HEIC', 'IMG_1621.HEIC', 'IMG_1622.HEIC', 'IMG_1623.MOV', 'IMG_1624.MOV', 'IMG_1625.JPG', 'IMG_1627 (1).AAE', 'IMG_1627.AAE', 'IMG_1627.MOV', 'IMG_1628.MOV', 'IMG_1629.MOV', 'IMG_1630.MOV', 'IMG_1631.MOV', 'IMG_1632.MOV', 'IMG_1633.MOV', 'IMG_1634.MOV', 'IMG_1635.HEIC', 'IMG_1636.MOV', 'IMG_2625.MOV', 'IMG_2626.MOV', 'IMG_2627.MOV', 'IMG_2628.MOV', 'IMG_2629.MOV', 'IMG_2630.MOV', 'IMG_2631.MOV', 'IMG_2632.MOV', 'IMG_2633.MOV', 'IMG_2634.MOV', 'IMG_2635.MOV', 'IMG_2636.MOV', 'IMG_2640.MOV', 'IMG_2641.MOV', 'IMG_2642.MOV', 'IMG_2643.MOV', 'IMG_2644.MOV', 'IMG_2645.MOV', 'IMG_2646.MOV', 'IMG_2647.MOV', 'IMG_2648.MOV', 'IMG_2649.MOV', 'IMG_2650.MOV', 'IMG_2651.MOV', 'IMG_2652.MOV', 'IMG_2653.MOV', 'IMG_2654.MOV', 'IMG_2655.MOV', 'IMG_2656.MOV', 'IMG_2660.HEIC', 'IMG_E1540.HEIC', 'IMG_E1541.HEIC', 'IMG_E1541.MOV', 'IMG_E1542.HEIC', 'IMG_E1542.MOV', 'IMG_E1627.MOV', 'JWZY6777.MP4', 'KAPW9043.MP4', 'QLEY2783.MP4']\n",
      "- D:Pics\\whatsaap vid\n",
      "📂 []\n",
      "📄 ['IMG_E7760.JPG', 'IMG_E7761.JPG', 'SYYZ0629.JPG', 'VID-20220330-WA0016.mp4', 'VID-20220506-WA0066.mp4', 'VID-20220506-WA0067.mp4', 'VID-20220506-WA0069.mp4', 'VID-20220520-WA0012.mp4', 'VID-20220628-WA0012.mp4', 'VID-20220628-WA0014.mp4', 'VID-20220628-WA0016.mp4', 'VID-20220628-WA0017.mp4', 'VID-20220628-WA0018.mp4', 'VID-20220628-WA0019.mp4', 'VID-20220628-WA0020.mp4', 'VID-20220628-WA0021.mp4', 'VID-20220628-WA0022.mp4', 'VID-20220628-WA0024.mp4', 'VID-20220628-WA0025.mp4', 'VID-20220628-WA0026.mp4', 'VID-20220628-WA0027.mp4', 'VID-20220628-WA0029.mp4', 'VID-20220701-WA0012.mp4', 'VID-20220703-WA0048.mp4', 'VID-20220703-WA0049.mp4', 'VID-20220703-WA0050.mp4', 'VID-20220703-WA0051.mp4', 'VID-20220703-WA0052.mp4', 'VID-20220710-WA0035.mp4', 'VID-20220713-WA0001.mp4', 'VID-20220713-WA0002.mp4', 'VID-20220725-WA0007.mp4', 'VID-20220804-WA0020.mp4', 'VID-20220805-WA0038.mp4', 'VID-20220807-WA0000.mp4', 'VID-20220810-WA0010.mp4', 'VID-20220817-WA0006.mp4', 'VID-20220817-WA0007.mp4', 'VID-20220817-WA0008.mp4', 'VID-20220817-WA0009.mp4', 'VID-20220817-WA0010.mp4', 'WhatsApp Image 2022-06-11 at 4.24.13 PM (1).jpg', 'WhatsApp Image 2022-06-11 at 4.24.13 PM.jpg', 'XHTOE9658.JPG']\n",
      "- D:study\n",
      "📂 []\n",
      "📄 ['2021_03_02 9_53 am Office Lens.pdf', 'computer network unit 2.pdf', 'DataSciAss1.pdf', 'form_211121_144251.pdf', 'JAVAAPPLETSNOTES.pdf', 'MCA I Year.xlsx']\n",
      "Total Files: 5505\n"
     ]
    }
   ],
   "source": [
    "Total_files =0\n",
    "for path,folders,files in os.walk('D:'):\n",
    "    print('-' ,path)\n",
    "    print('📂',folders)\n",
    "    print('📄',files)\n",
    "    Total_files += len(files)\n",
    "print('Total Files:',Total_files)    "
   ]
  },
  {
   "cell_type": "code",
   "execution_count": 63,
   "metadata": {},
   "outputs": [
    {
     "name": "stdout",
     "output_type": "stream",
     "text": [
      "Folder exists\n"
     ]
    }
   ],
   "source": [
    "files=r'D:\\study'\n",
    "if os.path.exists(files):\n",
    "    print('Folder exists')\n",
    "else:\n",
    "    print('Folder does not exist')    "
   ]
  },
  {
   "cell_type": "code",
   "execution_count": 65,
   "metadata": {},
   "outputs": [
    {
     "name": "stdout",
     "output_type": "stream",
     "text": [
      "Folder Exists\n",
      "size in bytes :  8192 bytes\n",
      "size in KB :  8.0 KB\n",
      "size in MB :  0.0078125 MB\n",
      "size in GB :  7.62939453125e-06 GB\n"
     ]
    }
   ],
   "source": [
    "files = r\"D:\\study\"\n",
    "if os.path.exists(files):\n",
    "    print('Folder Exists')\n",
    "    size = os.path.getsize(files)\n",
    "    print('size in bytes : ',size, 'bytes')\n",
    "    print('size in KB : ',size/1024, 'KB')\n",
    "    print('size in MB : ',size/1024/1024, 'MB')\n",
    "    print('size in GB : ',size/1024/1024/1024, 'GB')"
   ]
  },
  {
   "cell_type": "code",
   "execution_count": null,
   "metadata": {},
   "outputs": [],
   "source": []
  }
 ],
 "metadata": {
  "kernelspec": {
   "display_name": "base",
   "language": "python",
   "name": "python3"
  },
  "language_info": {
   "codemirror_mode": {
    "name": "ipython",
    "version": 3
   },
   "file_extension": ".py",
   "mimetype": "text/x-python",
   "name": "python",
   "nbconvert_exporter": "python",
   "pygments_lexer": "ipython3",
   "version": "3.12.4"
  }
 },
 "nbformat": 4,
 "nbformat_minor": 2
}
